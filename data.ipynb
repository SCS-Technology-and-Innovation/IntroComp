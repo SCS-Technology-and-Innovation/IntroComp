{
  "nbformat": 4,
  "nbformat_minor": 0,
  "metadata": {
    "colab": {
      "provenance": [],
      "authorship_tag": "ABX9TyOeMJ4Gc0k3MK+ylrR6HT0z",
      "include_colab_link": true
    },
    "kernelspec": {
      "name": "python3",
      "display_name": "Python 3"
    },
    "language_info": {
      "name": "python"
    }
  },
  "cells": [
    {
      "cell_type": "markdown",
      "metadata": {
        "id": "view-in-github",
        "colab_type": "text"
      },
      "source": [
        "<a href=\"https://colab.research.google.com/github/SCS-Technology-and-Innovation/IntroComp/blob/main/data.ipynb\" target=\"_parent\"><img src=\"https://colab.research.google.com/assets/colab-badge.svg\" alt=\"Open In Colab\"/></a>"
      ]
    },
    {
      "cell_type": "markdown",
      "source": [
        "# Data types\n",
        "\n",
        "In many programming languages, one must specify the *type* for each piece of information stored in the program: is it an **integer** (that is: a whole number, no decimal places, no fractions), is it a number with **decimal places**, it is a single **character**, is it a **string** of characters, and so forth. In Python, it is not mandatory to indicate the type, although there is still a type associated to the data."
      ],
      "metadata": {
        "id": "Jp_42CjtZSyg"
      }
    },
    {
      "cell_type": "code",
      "execution_count": 2,
      "metadata": {
        "id": "0il2RqunTO7M",
        "colab": {
          "base_uri": "https://localhost:8080/"
        },
        "outputId": "5f552cbb-e994-42a0-8d8f-6c4b521c69f6"
      },
      "outputs": [
        {
          "output_type": "stream",
          "name": "stdout",
          "text": [
            "13 <class 'int'>\n"
          ]
        }
      ],
      "source": [
        "a = 13 # an integer\n",
        "print(a, type(a))"
      ]
    },
    {
      "cell_type": "code",
      "source": [
        "b = 12.34 # numbers with decimal places are called floating-point numbers\n",
        "print(b, type(b))"
      ],
      "metadata": {
        "id": "08u4XtI2WZVB",
        "colab": {
          "base_uri": "https://localhost:8080/"
        },
        "outputId": "7fb6be25-b92b-40e1-81bc-fd4647b35001"
      },
      "execution_count": 3,
      "outputs": [
        {
          "output_type": "stream",
          "name": "stdout",
          "text": [
            "12.34 <class 'float'>\n"
          ]
        }
      ]
    },
    {
      "cell_type": "code",
      "source": [
        "c = 'c'\n",
        "print(c, type(c))\n",
        "d = 'hello'\n",
        "print(d, type(d))\n",
        "print(type(\"hello\"))"
      ],
      "metadata": {
        "colab": {
          "base_uri": "https://localhost:8080/"
        },
        "id": "Tg6FVnpbaPM5",
        "outputId": "b41e8f7e-fb53-46ea-8223-7f5d02eeb293"
      },
      "execution_count": 5,
      "outputs": [
        {
          "output_type": "stream",
          "name": "stdout",
          "text": [
            "c <class 'str'>\n",
            "hello <class 'str'>\n",
            "<class 'str'>\n"
          ]
        }
      ]
    },
    {
      "cell_type": "markdown",
      "source": [
        "In Python, single characters are treated as strings of length one, whereas some other programming tools distinguish between single characters and concatenated characters forming a string. In a sense, a string is an *array* of characters."
      ],
      "metadata": {
        "id": "ufYsPPoTac8l"
      }
    },
    {
      "cell_type": "code",
      "source": [
        "print(a * b)\n",
        "print(type(a * b))"
      ],
      "metadata": {
        "colab": {
          "base_uri": "https://localhost:8080/"
        },
        "id": "LXXb-UvZa5wR",
        "outputId": "20b9c997-de4c-461c-e45a-560d1270f897"
      },
      "execution_count": 7,
      "outputs": [
        {
          "output_type": "stream",
          "name": "stdout",
          "text": [
            "160.42\n",
            "<class 'float'>\n"
          ]
        }
      ]
    },
    {
      "cell_type": "code",
      "source": [
        "print(a * c)\n",
        "print(type(a * c))"
      ],
      "metadata": {
        "colab": {
          "base_uri": "https://localhost:8080/"
        },
        "id": "eXSIyBH2a_DO",
        "outputId": "aa205a34-e8a2-4705-e9ef-58d7f2287b7b"
      },
      "execution_count": 8,
      "outputs": [
        {
          "output_type": "stream",
          "name": "stdout",
          "text": [
            "ccccccccccccc\n",
            "<class 'str'>\n"
          ]
        }
      ]
    },
    {
      "cell_type": "code",
      "source": [
        "b * c # this will NOT work, you cannot make a non-integer number of copies of a string"
      ],
      "metadata": {
        "colab": {
          "base_uri": "https://localhost:8080/",
          "height": 143
        },
        "id": "m6yd5VIDbE5z",
        "outputId": "5ad419f1-4dea-4050-a2fa-29f1b0ea6c7b"
      },
      "execution_count": 9,
      "outputs": [
        {
          "output_type": "error",
          "ename": "TypeError",
          "evalue": "can't multiply sequence by non-int of type 'float'",
          "traceback": [
            "\u001b[0;31m---------------------------------------------------------------------------\u001b[0m",
            "\u001b[0;31mTypeError\u001b[0m                                 Traceback (most recent call last)",
            "\u001b[0;32m<ipython-input-9-1e9d2b65d93c>\u001b[0m in \u001b[0;36m<cell line: 1>\u001b[0;34m()\u001b[0m\n\u001b[0;32m----> 1\u001b[0;31m \u001b[0mb\u001b[0m \u001b[0;34m*\u001b[0m \u001b[0mc\u001b[0m \u001b[0;31m# this will NOT work, you cannot make a non-integer number of copies of a string\u001b[0m\u001b[0;34m\u001b[0m\u001b[0;34m\u001b[0m\u001b[0m\n\u001b[0m",
            "\u001b[0;31mTypeError\u001b[0m: can't multiply sequence by non-int of type 'float'"
          ]
        }
      ]
    },
    {
      "cell_type": "code",
      "source": [
        "a * d"
      ],
      "metadata": {
        "colab": {
          "base_uri": "https://localhost:8080/",
          "height": 35
        },
        "id": "qTYe0I1AbLQA",
        "outputId": "d2b8a4ab-6012-45ab-9672-d62d1353b9a2"
      },
      "execution_count": 10,
      "outputs": [
        {
          "output_type": "execute_result",
          "data": {
            "text/plain": [
              "'hellohellohellohellohellohellohellohellohellohellohellohellohello'"
            ],
            "application/vnd.google.colaboratory.intrinsic+json": {
              "type": "string"
            }
          },
          "metadata": {},
          "execution_count": 10
        }
      ]
    },
    {
      "cell_type": "code",
      "source": [
        "c + d # adding two strings concatenates them"
      ],
      "metadata": {
        "colab": {
          "base_uri": "https://localhost:8080/",
          "height": 35
        },
        "id": "3TKEGXE5bPys",
        "outputId": "152bac75-992e-48c6-9769-4b45b231e94b"
      },
      "execution_count": 11,
      "outputs": [
        {
          "output_type": "execute_result",
          "data": {
            "text/plain": [
              "'chello'"
            ],
            "application/vnd.google.colaboratory.intrinsic+json": {
              "type": "string"
            }
          },
          "metadata": {},
          "execution_count": 11
        }
      ]
    },
    {
      "cell_type": "code",
      "source": [
        "c * d # this again will not work since it has no intuitively clear meaning to it"
      ],
      "metadata": {
        "colab": {
          "base_uri": "https://localhost:8080/",
          "height": 143
        },
        "id": "KpemgSGobUu8",
        "outputId": "8c2cc583-a715-4263-ad88-f868ca55ab60"
      },
      "execution_count": 12,
      "outputs": [
        {
          "output_type": "error",
          "ename": "TypeError",
          "evalue": "can't multiply sequence by non-int of type 'str'",
          "traceback": [
            "\u001b[0;31m---------------------------------------------------------------------------\u001b[0m",
            "\u001b[0;31mTypeError\u001b[0m                                 Traceback (most recent call last)",
            "\u001b[0;32m<ipython-input-12-49c4c6c757db>\u001b[0m in \u001b[0;36m<cell line: 1>\u001b[0;34m()\u001b[0m\n\u001b[0;32m----> 1\u001b[0;31m \u001b[0mc\u001b[0m \u001b[0;34m*\u001b[0m \u001b[0md\u001b[0m \u001b[0;31m# this again will not work since it has no intuitively clear meaning to it\u001b[0m\u001b[0;34m\u001b[0m\u001b[0;34m\u001b[0m\u001b[0m\n\u001b[0m",
            "\u001b[0;31mTypeError\u001b[0m: can't multiply sequence by non-int of type 'str'"
          ]
        }
      ]
    },
    {
      "cell_type": "markdown",
      "source": [
        "Programming tools that have explicit data types also tend to have specific **ranges** of values that each data type can represent. These ranges may depend on the specific computer on which the code is executed. Python (version 3) does not have a limit on the size of an integer, although available memory on the computer will obviously eventually limit the values that can be stored."
      ],
      "metadata": {
        "id": "x8kC1-Q4buNq"
      }
    },
    {
      "cell_type": "code",
      "source": [
        "11 * 222 * 3333 * 4444 * 55555 * 66666 * 777777 * 8888888 * 99999999"
      ],
      "metadata": {
        "colab": {
          "base_uri": "https://localhost:8080/"
        },
        "id": "pa9EfYdXcGM-",
        "outputId": "b2bc8a0b-9ac9-4b0a-b2d0-37cec49165b3"
      },
      "execution_count": 18,
      "outputs": [
        {
          "output_type": "execute_result",
          "data": {
            "text/plain": [
              "92615803638917501706845604094581223294080"
            ]
          },
          "metadata": {},
          "execution_count": 18
        }
      ]
    },
    {
      "cell_type": "markdown",
      "source": [
        "Another important concern is the precision at which values are stored and processed. The arithmetic operators and the types of the values involved will determine the result in a way that is sometimes mathematically unintuitive and unexpected."
      ],
      "metadata": {
        "id": "lGEpFZ7WTQcW"
      }
    },
    {
      "cell_type": "code",
      "source": [
        "6 / 2"
      ],
      "metadata": {
        "colab": {
          "base_uri": "https://localhost:8080/"
        },
        "id": "81n2TByGdGTk",
        "outputId": "e48b28be-afab-4fb8-ddc2-bd689f3067b6"
      },
      "execution_count": 19,
      "outputs": [
        {
          "output_type": "execute_result",
          "data": {
            "text/plain": [
              "3.0"
            ]
          },
          "metadata": {},
          "execution_count": 19
        }
      ]
    },
    {
      "cell_type": "code",
      "source": [
        "60 // 20"
      ],
      "metadata": {
        "colab": {
          "base_uri": "https://localhost:8080/"
        },
        "id": "xXPtiDfydIrv",
        "outputId": "ea9d5834-e243-48ae-d734-e25c1dd38b4c"
      },
      "execution_count": 22,
      "outputs": [
        {
          "output_type": "execute_result",
          "data": {
            "text/plain": [
              "3"
            ]
          },
          "metadata": {},
          "execution_count": 22
        }
      ]
    },
    {
      "cell_type": "code",
      "source": [
        "0.6 / 0.2"
      ],
      "metadata": {
        "colab": {
          "base_uri": "https://localhost:8080/"
        },
        "id": "1xKlMUJddJuZ",
        "outputId": "d3ebe987-aa07-4181-cdb2-44aa7829ad4a"
      },
      "execution_count": 21,
      "outputs": [
        {
          "output_type": "execute_result",
          "data": {
            "text/plain": [
              "2.9999999999999996"
            ]
          },
          "metadata": {},
          "execution_count": 21
        }
      ]
    },
    {
      "cell_type": "markdown",
      "source": [
        "Why is the last one not three exactly?\n",
        "\n",
        "Floating-point numbers (`float`) are **not** like real numbers in math. One factor is that  since not all real numbers are rational (fractions), storing decimal values as $x = a / b$ where $a$ and $b$ are `int` would fall short. What engineers decided back in the day is to opt for\n",
        "$$x = a \\times b ^ c$$\n",
        "where $a$ is called a **mantissa** (or *significand* or *coefficient*), $b$ is the **base** (or *radix*), and $c$ is the **exponent** (or *scale* or *characteristic*). This allows for relatively efficient storage and processing, with the cost of limitations in the precision of the values such as the case of `0.6/0.2` above, since not all real numbers can be represented in this format when $b$ is constant and there may be memory limitations how to big or small $a$ and $c$ can be.\n",
        "\n",
        "For more information, there is a [dedicated website](https://floating-point-gui.de/) to help you understand.\n"
      ],
      "metadata": {
        "id": "qerwHre5daCV"
      }
    }
  ]
}