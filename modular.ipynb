{
  "nbformat": 4,
  "nbformat_minor": 0,
  "metadata": {
    "colab": {
      "provenance": [],
      "authorship_tag": "ABX9TyOUJKxsBXVwX1wInu3U0lhk",
      "include_colab_link": true
    },
    "kernelspec": {
      "name": "python3",
      "display_name": "Python 3"
    },
    "language_info": {
      "name": "python"
    }
  },
  "cells": [
    {
      "cell_type": "markdown",
      "metadata": {
        "id": "view-in-github",
        "colab_type": "text"
      },
      "source": [
        "<a href=\"https://colab.research.google.com/github/SCS-Technology-and-Innovation/IntroComp/blob/main/modular.ipynb\" target=\"_parent\"><img src=\"https://colab.research.google.com/assets/colab-badge.svg\" alt=\"Open In Colab\"/></a>"
      ]
    },
    {
      "cell_type": "markdown",
      "source": [
        "# Modular arithmetic\n",
        "\n",
        "The remainder of an integer division is called the *modulus*: one divides $a$ by $b$. Let's say $b$ \"fits\" into $a$ a total of $c$ times and what's left over is $d$: $$a = c \\times b + d.$$ This means that $a \\mod b \\equiv d$.\n",
        "\n",
        "In Python (as in many computational tools), the operator that does this is `%`. Python also has a specific operator for integer division: `c = a // b` combined with `d = a % b` will result in `a == c * b + d`."
      ],
      "metadata": {
        "id": "xlhlb0MCX2Hv"
      }
    },
    {
      "cell_type": "code",
      "source": [
        "a = 12345\n",
        "b = 543\n",
        "\n",
        "c = a // b\n",
        "d = a % b\n",
        "a == c * b + d"
      ],
      "metadata": {
        "id": "pHSzR4XSSlz7",
        "outputId": "3614928b-e72b-4881-8777-1ab1f2d07c1a",
        "colab": {
          "base_uri": "https://localhost:8080/"
        }
      },
      "execution_count": 1,
      "outputs": [
        {
          "output_type": "execute_result",
          "data": {
            "text/plain": [
              "True"
            ]
          },
          "metadata": {},
          "execution_count": 1
        }
      ]
    },
    {
      "cell_type": "markdown",
      "source": [
        "Though it is not obvious from the get-go, the operator `%` (called *modulo* or mod for short) comes handy quite often. For example, one can figure out whether a number $n$ is even or odd."
      ],
      "metadata": {
        "id": "5nBdKCq7S1BR"
      }
    },
    {
      "cell_type": "code",
      "source": [
        "n = 87987987 // 78609 # most people cannot figure out in their heads whether the result is even or odd\n",
        "\n",
        "if n % 2 == 0: # even numbers can be divided by two with nothing left over\n",
        "  print(n, 'is even')\n",
        "else:\n",
        "  print(n, 'is odd')"
      ],
      "metadata": {
        "id": "rug6zV6sTL1q",
        "outputId": "4fe7dc73-835f-48d6-a0f4-d0ade130745e",
        "colab": {
          "base_uri": "https://localhost:8080/"
        }
      },
      "execution_count": 4,
      "outputs": [
        {
          "output_type": "stream",
          "name": "stdout",
          "text": [
            "1119 is odd\n"
          ]
        }
      ]
    },
    {
      "cell_type": "markdown",
      "source": [
        "## Basic ciphers\n",
        "\n",
        "One field of computation where *modular arithmetic* (read: math that uses $mod$ a lot) runs rampant is *cryptography*, a basic building block of information security. As an example, we will work with two fundamental algorithms: the **Diffie-Hellman key echange** and the **RSA algorithm for public-key encryption**."
      ],
      "metadata": {
        "id": "JKvseYXmX5Rr"
      }
    },
    {
      "cell_type": "markdown",
      "source": [
        "### Diffie-Hellman key exchange\n",
        "\n",
        "[Wikipedia](https://en.wikipedia.org/wiki/Diffie%E2%80%93Hellman_key_exchange) explains how it works. The below code uses the same values as the figure on the Wikipedia page of DH for the secret keys of Alice `a` and Bob `b`.\n"
      ],
      "metadata": {
        "id": "Jcga-csnUBXe"
      }
    },
    {
      "cell_type": "code",
      "execution_count": 20,
      "metadata": {
        "id": "Rrj3UW69XyOG"
      },
      "outputs": [],
      "source": [
        "a = 4 # Alice chooses this and keeps it secret\n",
        "b = 3 # Bob chooses this and keeps it secret\n",
        "\n",
        "# Alice and Bob choose these together over a public channel\n",
        "p = 23\n",
        "g = 5"
      ]
    },
    {
      "cell_type": "code",
      "source": [
        "# Alice makes this calculation at her end\n",
        "A = g**a % p"
      ],
      "metadata": {
        "id": "pST81npeVA63"
      },
      "execution_count": 21,
      "outputs": []
    },
    {
      "cell_type": "code",
      "source": [
        "# Bob makes this calculation at his end\n",
        "B = g**b % p"
      ],
      "metadata": {
        "id": "agizCx5WVJwN"
      },
      "execution_count": 22,
      "outputs": []
    },
    {
      "cell_type": "markdown",
      "source": [
        "At this point, Alice sends the value of `A` to Bob on a public channel and he sends her the value of `B`."
      ],
      "metadata": {
        "id": "CK2Jc_1lVUKM"
      }
    },
    {
      "cell_type": "code",
      "source": [
        "print(A)\n",
        "print(B)"
      ],
      "metadata": {
        "id": "tiC2YPhSVgQ3",
        "outputId": "b8750c3b-3bb7-43ea-fddc-4ff526742e71",
        "colab": {
          "base_uri": "https://localhost:8080/"
        }
      },
      "execution_count": 23,
      "outputs": [
        {
          "output_type": "stream",
          "name": "stdout",
          "text": [
            "4\n",
            "10\n"
          ]
        }
      ]
    },
    {
      "cell_type": "code",
      "source": [
        "# Alice makes this calculation with the B she received\n",
        "sA = B**a % p"
      ],
      "metadata": {
        "id": "vD3OkPphVk7B"
      },
      "execution_count": 27,
      "outputs": []
    },
    {
      "cell_type": "code",
      "source": [
        "# Bob makes this calculation with the A he received\n",
        "sB = A**b % p"
      ],
      "metadata": {
        "id": "_hUgJNOGVrU0"
      },
      "execution_count": 28,
      "outputs": []
    },
    {
      "cell_type": "code",
      "source": [
        "# now, Alice and Bob hold the same value\n",
        "print(sA, sB)\n",
        "sA == sB\n",
        "s = sA"
      ],
      "metadata": {
        "id": "F3VERk0tVvcN",
        "outputId": "ee4577c1-0399-49e9-a799-ba1561babf81",
        "colab": {
          "base_uri": "https://localhost:8080/"
        }
      },
      "execution_count": 30,
      "outputs": [
        {
          "output_type": "stream",
          "name": "stdout",
          "text": [
            "18 18\n"
          ]
        }
      ]
    },
    {
      "cell_type": "markdown",
      "source": [
        "The trick here is that, assuming all the values involved are large integers meeting certain mathematical propertied, anyone who only knows the values `p` `g` `A` and `B` cannot (without excessive computation) figure out the value of `s` since they do have knowledge of neither `a` nor `b`.\n",
        "\n",
        "Now, note that if the numbers involved are very large, calculating the powers $g^a$, $g^b$, $B^a$ and $A^b$ is a lot of work. Not to worry, modular arithmetic comes to the rescue, hand in hand with binary representation: modular exponentiation; you can consult the details on [Wikipedia](https://en.wikipedia.org/wiki/Modular_exponentiation) for the **right-to-left binary method** (*exponentiation by squaring*).\n",
        "\n",
        "The code is complex for a beginner to understand, but it's okay to just treat this as evidence of the magical powers of modular arithemetic and the coolness of binary numbers for now."
      ],
      "metadata": {
        "id": "HvxtiWFvWIiT"
      }
    },
    {
      "cell_type": "code",
      "source": [
        "def expmod(b, e, m): # compute b**e % m\n",
        "  if m == 1:\n",
        "    return 0\n",
        "  r = 1\n",
        "  b %= m # just in case b > m\n",
        "  while e > 0: # go over the binary representation of the exponent\n",
        "    if e % 2 == 1: # when there are ones\n",
        "      r *= b # multiply into the accumulated result\n",
        "      r %= m # apply the modulus to keep things small\n",
        "    e >>= 1\n",
        "    b *= b # keep ramping up the squares\n",
        "    b %= m # apply the modulus to keep things small\n",
        "  return r"
      ],
      "metadata": {
        "id": "UAt2T8jJXXU3"
      },
      "execution_count": 32,
      "outputs": []
    },
    {
      "cell_type": "markdown",
      "source": [
        "Let's test it with small numbers to check if it gives the right answer."
      ],
      "metadata": {
        "id": "HiyejLvxYTsh"
      }
    },
    {
      "cell_type": "code",
      "source": [
        "a = 67\n",
        "b = 879\n",
        "c = 17\n",
        "\n",
        "normal = a**b % c\n",
        "cool = expmod(a, b, c)\n",
        "normal == cool"
      ],
      "metadata": {
        "id": "yk6vx9N_X8Nu",
        "outputId": "08f9656d-bda4-47cf-be77-a1a9614d4b05",
        "colab": {
          "base_uri": "https://localhost:8080/"
        }
      },
      "execution_count": 34,
      "outputs": [
        {
          "output_type": "execute_result",
          "data": {
            "text/plain": [
              "True"
            ]
          },
          "metadata": {},
          "execution_count": 34
        }
      ]
    },
    {
      "cell_type": "markdown",
      "source": [
        "Then let's flex this to see how it is still very fast with big numbers."
      ],
      "metadata": {
        "id": "Yxdk09V2Yn2I"
      }
    },
    {
      "cell_type": "code",
      "source": [
        "a = 6790808706\n",
        "b = 879507\n",
        "c = 1765\n",
        "expmod(a, b, c)"
      ],
      "metadata": {
        "id": "_VYbStfeYty_",
        "outputId": "91e2cb3d-513e-4264-892f-409a1ffe1c30",
        "colab": {
          "base_uri": "https://localhost:8080/"
        }
      },
      "execution_count": 43,
      "outputs": [
        {
          "output_type": "execute_result",
          "data": {
            "text/plain": [
              "721"
            ]
          },
          "metadata": {},
          "execution_count": 43
        }
      ]
    },
    {
      "cell_type": "markdown",
      "source": [
        "In comparison, the easy way gets super slow. If you click on the below while `a` and `b` are very large, you might want to go to the Runtime menu above and interrupt the execution"
      ],
      "metadata": {
        "id": "cMbySfVoY131"
      }
    },
    {
      "cell_type": "code",
      "source": [
        "a**b % c"
      ],
      "metadata": {
        "id": "RzopdXbuYyyb",
        "outputId": "ae3db843-e499-42be-9ef4-cd8acc9cbbf8",
        "colab": {
          "base_uri": "https://localhost:8080/"
        }
      },
      "execution_count": 44,
      "outputs": [
        {
          "output_type": "execute_result",
          "data": {
            "text/plain": [
              "721"
            ]
          },
          "metadata": {},
          "execution_count": 44
        }
      ]
    },
    {
      "cell_type": "markdown",
      "source": [
        "Now we can rewrite DH to be a very fast calculation using this beauty."
      ],
      "metadata": {
        "id": "UeI9Dv9NZN25"
      }
    },
    {
      "cell_type": "code",
      "source": [
        "a = 8798776\n",
        "b = 9789788\n",
        "p = 7687\n",
        "g = 97879890\n",
        "\n",
        "A = expmod(g, a, p)\n",
        "B = expmod(g, b, p)\n",
        "expmod(B, a, p) == expmod(A, b, p)"
      ],
      "metadata": {
        "id": "0pts9OP_ZRGy",
        "outputId": "5b23faf7-841e-4a48-eb83-b4f773746111",
        "colab": {
          "base_uri": "https://localhost:8080/"
        }
      },
      "execution_count": 45,
      "outputs": [
        {
          "output_type": "execute_result",
          "data": {
            "text/plain": [
              "True"
            ]
          },
          "metadata": {},
          "execution_count": 45
        }
      ]
    },
    {
      "cell_type": "markdown",
      "source": [
        "## Rivest-Shamir-Adleman public-key encryption\n",
        "\n",
        "Again, please see [Wikipedia](https://en.wikipedia.org/wiki/RSA_(cryptosystem)) for details. This is not for two individuals, but for one individual who wants to have a pair of keys: one **private** and one **public** so that when others send them messages, others use the *public* one to *cipher* what they send and nobody except the person holding the *private* they can *decipher* the messages."
      ],
      "metadata": {
        "id": "InylNiKlZ09z"
      }
    },
    {
      "cell_type": "code",
      "source": [
        "# the person making the keys chooses two large prime numbers and keeps them secret\n",
        "p = 8767867\n",
        "q = 979873"
      ],
      "metadata": {
        "id": "fJrSd4Eiafch"
      },
      "execution_count": 132,
      "outputs": []
    },
    {
      "cell_type": "markdown",
      "source": [
        "Wait a second. How do we know if those numbers are *prime*? (For those unsure, an integer is prime if it is not exactly divisible by any other number than itself and one).\n",
        "\n",
        "Note that the \"exactly divisible\" means \"zero modulus\".\n",
        "\n",
        "For a non-prime $x$, there must exist two integers $y$ and $z$ such that $x = y \\times z$ and necessarily the smaller of those, $\\min \\{y, z\\}$ cannot exceed $\\sqrt{x}$ (this is neat to reason if you are keen on math).\n",
        "\n",
        "We can work with the above to observations to check relatively efficiently whether a given integer is prime."
      ],
      "metadata": {
        "id": "dnCKXUH3anh7"
      }
    },
    {
      "cell_type": "code",
      "source": [
        "from math import sqrt, ceil\n",
        "\n",
        "def prime(n: int) -> bool: # being fancy here and saying that this only works for integers and will result in a truth value\n",
        "  assert n > 0 # this only makes sense for strictly positive integers\n",
        "  if n < 4:\n",
        "    return True # 1 2 and 3 are all prime, no use analyzing\n",
        "  if n % 2 == 0:\n",
        "    return False # all even numbers except 2 are clearly not prime since 2 divides them\n",
        "  high = sqrt(n) # the rounded-up integer of the squareroot of n is the largest possible minimum divisor\n",
        "  for d in range(3, ceil(high) + 1, 2): # we try to divide with all _odd_ numbers until that upper limit\n",
        "    if n % d == 0: # found a divisor, n cannot be prime\n",
        "      return False\n",
        "  return True"
      ],
      "metadata": {
        "id": "w5eGM-lbbYbD"
      },
      "execution_count": 47,
      "outputs": []
    },
    {
      "cell_type": "markdown",
      "source": [
        "Let's test it."
      ],
      "metadata": {
        "id": "7thPhOJ_ca5p"
      }
    },
    {
      "cell_type": "code",
      "source": [
        "for i in range(1, 31):\n",
        "  print(i, prime(i))"
      ],
      "metadata": {
        "id": "9jaUUZpzcfQu",
        "outputId": "aeec8e03-e4b9-46c9-ea99-052ac1b77b8f",
        "colab": {
          "base_uri": "https://localhost:8080/"
        }
      },
      "execution_count": 48,
      "outputs": [
        {
          "output_type": "stream",
          "name": "stdout",
          "text": [
            "1 True\n",
            "2 True\n",
            "3 True\n",
            "4 False\n",
            "5 True\n",
            "6 False\n",
            "7 True\n",
            "8 False\n",
            "9 False\n",
            "10 False\n",
            "11 True\n",
            "12 False\n",
            "13 True\n",
            "14 False\n",
            "15 False\n",
            "16 False\n",
            "17 True\n",
            "18 False\n",
            "19 True\n",
            "20 False\n",
            "21 False\n",
            "22 False\n",
            "23 True\n",
            "24 False\n",
            "25 False\n",
            "26 False\n",
            "27 False\n",
            "28 False\n",
            "29 True\n",
            "30 False\n"
          ]
        }
      ]
    },
    {
      "cell_type": "markdown",
      "source": [
        "Looking good. Now we can test those `p` and `q` that we needed to be prime."
      ],
      "metadata": {
        "id": "qO1X5TtMclbF"
      }
    },
    {
      "cell_type": "code",
      "source": [
        "print(prime(p), prime(q))"
      ],
      "metadata": {
        "id": "AIdSO7pmcqDF",
        "outputId": "13602499-0b86-4dbc-eb4f-dc6825f0ae7b",
        "colab": {
          "base_uri": "https://localhost:8080/"
        }
      },
      "execution_count": 122,
      "outputs": [
        {
          "output_type": "stream",
          "name": "stdout",
          "text": [
            "True True\n"
          ]
        }
      ]
    },
    {
      "cell_type": "markdown",
      "source": [
        "May the RSA calculations begin."
      ],
      "metadata": {
        "id": "bF3wgHX8c5V0"
      }
    },
    {
      "cell_type": "code",
      "source": [
        "n = p * q # this number will become part of the PUBLIC key\n",
        "print(n)"
      ],
      "metadata": {
        "id": "DRf8sK-Wc8Gf",
        "outputId": "8181a899-5bbe-4651-95b3-fb7a857a73b3",
        "colab": {
          "base_uri": "https://localhost:8080/"
        }
      },
      "execution_count": 133,
      "outputs": [
        {
          "output_type": "stream",
          "name": "stdout",
          "text": [
            "8591396140891\n"
          ]
        }
      ]
    },
    {
      "cell_type": "markdown",
      "source": [
        "The next step involves finding the greatest common denominator of $p - 1$ and $q - 1$ (as explained on the Wikipedia article for RSA linked above). There is a cool modular algorithm for that, which is even recursive: the [Euclidean algorithm](https://en.wikipedia.org/wiki/Euclidean_algorithm)."
      ],
      "metadata": {
        "id": "E4PPdKo5dJbw"
      }
    },
    {
      "cell_type": "code",
      "source": [
        "def gcd(a, b):\n",
        "  if b == 0:\n",
        "    return a\n",
        "  return gcd(b, a % b)"
      ],
      "metadata": {
        "id": "RSW3x9audfVw"
      },
      "execution_count": 61,
      "outputs": []
    },
    {
      "cell_type": "markdown",
      "source": [
        "Let's test again to see how for any numbers $x$ and $y$, $\\text{gcd}(x, y)$ will always divide both $x$ and $y$ exactly."
      ],
      "metadata": {
        "id": "NmuALoAadrKh"
      }
    },
    {
      "cell_type": "code",
      "source": [
        "x = 87987\n",
        "y = 76876\n",
        "z = gcd(x, y)\n",
        "\n",
        "assert x % z == 0\n",
        "assert y % z == 0"
      ],
      "metadata": {
        "id": "_wqbkkuid2eA"
      },
      "execution_count": 62,
      "outputs": []
    },
    {
      "cell_type": "markdown",
      "source": [
        "(When nothing is printed, it means the `assert` clauses were all true which is what we wanted.)\n",
        "\n",
        "We now use the greatest common dividor to compute the [least common multiple](https://en.wikipedia.org/wiki/Least_common_multiple):"
      ],
      "metadata": {
        "id": "_34D0bkdea-T"
      }
    },
    {
      "cell_type": "code",
      "source": [
        "def lcm(a, b):\n",
        "  return (a * b) // gcd(a, b)"
      ],
      "metadata": {
        "id": "rCcMmPvOfU3D"
      },
      "execution_count": 66,
      "outputs": []
    },
    {
      "cell_type": "markdown",
      "source": [
        "Does this work? The resulting $z = \\text{lcm}(x, y)$ should be exactly divisible by both $x$ and $y$."
      ],
      "metadata": {
        "id": "K003G38Rffi6"
      }
    },
    {
      "cell_type": "code",
      "source": [
        "x = 18793\n",
        "y = 987\n",
        "z = lcm(x, y)\n",
        "\n",
        "assert z % x == 0\n",
        "assert z % y == 0"
      ],
      "metadata": {
        "id": "79_kzrrZfqAh"
      },
      "execution_count": 68,
      "outputs": []
    },
    {
      "cell_type": "code",
      "source": [
        "l = lcm(p - 1, q - 1)\n",
        "print(l)"
      ],
      "metadata": {
        "id": "eomNnsIPeg7U",
        "outputId": "4f6b83ec-a327-4a52-cd39-b6550b361d27",
        "colab": {
          "base_uri": "https://localhost:8080/"
        }
      },
      "execution_count": 134,
      "outputs": [
        {
          "output_type": "stream",
          "name": "stdout",
          "text": [
            "1431897732192\n"
          ]
        }
      ]
    },
    {
      "cell_type": "markdown",
      "source": [
        "The next step is picking an integer $1 < e < \\ell$ for which $\\text{gcd}(e, \\ell) = 1$. This choice should be made at random (the next module will give ideas on how that could be emulated)."
      ],
      "metadata": {
        "id": "bRUQneZlewQj"
      }
    },
    {
      "cell_type": "code",
      "source": [
        "e = 1897\n",
        "assert 1 < e\n",
        "assert e < l\n",
        "assert gcd(e, l) == 1"
      ],
      "metadata": {
        "id": "CAoZBoBKfCvH"
      },
      "execution_count": 135,
      "outputs": []
    },
    {
      "cell_type": "markdown",
      "source": [
        "At this point, RSA turns to the great Euclides again as we need to compute $d$ as the modular inverse of $e$ in modulo $\\ell$, $$ e \\times d \\equiv 1 \\mod \\ell.$$"
      ],
      "metadata": {
        "id": "9iuFU2awgE3q"
      }
    },
    {
      "cell_type": "code",
      "source": [
        "def egcd(a, b):\n",
        "  if a == 0:\n",
        "    return b, 0, 1\n",
        "  x, y, z = egcd(b % a, a)\n",
        "  y, z = z - (b // a) * y, y\n",
        "  return x, y, z"
      ],
      "metadata": {
        "id": "_UBMTWdLgwlo"
      },
      "execution_count": 88,
      "outputs": []
    },
    {
      "cell_type": "markdown",
      "source": [
        "This one is called the [extended Euclidean algorithm](https://en.wikipedia.org/wiki/Extended_Euclidean_algorithm) since it also gives us multiples $x$ and $y$ such that $$x \\times a + y \\times b = \\text{gcd}(a, b)$$ instead of just the greatest common divisor itself."
      ],
      "metadata": {
        "id": "9aY6exvth9W9"
      }
    },
    {
      "cell_type": "code",
      "source": [
        "a = 723\n",
        "b = 64\n",
        "c, d, e = egcd(a, b)\n",
        "\n",
        "assert c == gcd(a, b)\n",
        "assert d * a + e * b == c"
      ],
      "metadata": {
        "id": "lIcbeLBchK-U"
      },
      "execution_count": 89,
      "outputs": []
    },
    {
      "cell_type": "markdown",
      "source": [
        "This leads us to $d$ since we need $$d \\times e + x \\times \\ell = 1$$ where we do not care at all what $x$ is."
      ],
      "metadata": {
        "id": "Y189Do99id5f"
      }
    },
    {
      "cell_type": "code",
      "source": [
        "one, d, discard = egcd(e, l)\n",
        "\n",
        "assert one == 1 # gcd(e, l) should still be one\n",
        "assert d * e % l == 1 # our modular inverse\n",
        "if d < 0:\n",
        "  d += l\n",
        "print(d)"
      ],
      "metadata": {
        "id": "_I3nTQ02ir69",
        "outputId": "7acf3f9c-4300-4083-d032-edcad987911f",
        "colab": {
          "base_uri": "https://localhost:8080/"
        }
      },
      "execution_count": 136,
      "outputs": [
        {
          "output_type": "stream",
          "name": "stdout",
          "text": [
            "1150349047897\n"
          ]
        }
      ]
    },
    {
      "cell_type": "markdown",
      "source": [
        "Now the **public** key will be $(e, n)$ and the **private** key is $(d, n)$. Nobody else should *ever* know $p$ and $q$ and even the person themselves no longer needs those two values. (The security of the method lies on good choices of $p$, $q$, and $e$.)\n",
        "\n",
        "Now, assume that someone wants to send a message $m$ to the person who generated these keys. Assume $m < n$ (and think of the number $m$ as an encoding to some text)."
      ],
      "metadata": {
        "id": "Fc8DHwKTkLNK"
      }
    },
    {
      "cell_type": "code",
      "source": [
        "m = 1897\n",
        "assert m < n"
      ],
      "metadata": {
        "id": "CQ4Re7sIlHa5"
      },
      "execution_count": 140,
      "outputs": []
    },
    {
      "cell_type": "markdown",
      "source": [
        "The sender computes $m^e \\mod n$ to create an *encrypted* message, call it $c$ (for *cipher*)."
      ],
      "metadata": {
        "id": "jvp_-xGBoujk"
      }
    },
    {
      "cell_type": "code",
      "source": [
        "c = expmod(m, e, n)\n",
        "assert c < n\n",
        "print(c)"
      ],
      "metadata": {
        "id": "7-9LM6aPorL3",
        "outputId": "5bdda9fd-dbe6-4832-d81c-898de7cc5c7a",
        "colab": {
          "base_uri": "https://localhost:8080/"
        }
      },
      "execution_count": 141,
      "outputs": [
        {
          "output_type": "stream",
          "name": "stdout",
          "text": [
            "680270767256\n"
          ]
        }
      ]
    },
    {
      "cell_type": "markdown",
      "source": [
        "Now only the person who knows $d$ can compute $c^d \\mod n$ which should be the same as $m$ since $$(m^e)^d \\equiv m \\mod n$$ because $e \\times d \\equiv 1 \\mod n$."
      ],
      "metadata": {
        "id": "M49GhA3olbMP"
      }
    },
    {
      "cell_type": "code",
      "source": [
        "recovered = expmod(c, d, n)\n",
        "print(recovered, m)"
      ],
      "metadata": {
        "id": "j-xchVl6lcSk",
        "outputId": "3e492fc1-c6d1-4aed-fac7-325be108e024",
        "colab": {
          "base_uri": "https://localhost:8080/"
        }
      },
      "execution_count": 142,
      "outputs": [
        {
          "output_type": "stream",
          "name": "stdout",
          "text": [
            "1897 1897\n"
          ]
        }
      ]
    },
    {
      "cell_type": "markdown",
      "source": [
        "RSA can also be used by the key owner to sign documents using $d$ to prove to others (who have access to $e$)."
      ],
      "metadata": {
        "id": "dXEdlxkdr_mG"
      }
    },
    {
      "cell_type": "code",
      "source": [
        "m2 = 18989 # to sign\n",
        "s = expmod(m2, d, n) # signed\n",
        "v = expmod(s, e, n) # verification\n",
        "v == m2"
      ],
      "metadata": {
        "id": "C0rrrxn4sOEc",
        "outputId": "27e1bb1b-1fd2-4be6-ccc7-d49c461d83de",
        "colab": {
          "base_uri": "https://localhost:8080/"
        }
      },
      "execution_count": 143,
      "outputs": [
        {
          "output_type": "execute_result",
          "data": {
            "text/plain": [
              "True"
            ]
          },
          "metadata": {},
          "execution_count": 143
        }
      ]
    }
  ]
}