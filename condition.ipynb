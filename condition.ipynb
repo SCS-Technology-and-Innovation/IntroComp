{
  "nbformat": 4,
  "nbformat_minor": 0,
  "metadata": {
    "colab": {
      "provenance": []
    },
    "kernelspec": {
      "name": "python3",
      "display_name": "Python 3"
    },
    "language_info": {
      "name": "python"
    }
  },
  "cells": [
    {
      "cell_type": "markdown",
      "source": [
        "#Introduction to Logic and Structure in Programming\n",
        "\n",
        "**Logic and Structure**\n",
        "\n",
        "Logic and structure are fundamental concepts in programming. They help in making decisions and controlling the flow of a program. Logic is used to make decisions based on certain conditions, while structure refers to the organized way in which code is written to perform tasks efficiently.\n",
        "\n"
      ],
      "metadata": {
        "id": "LrfbOQVf3mLK"
      }
    },
    {
      "cell_type": "markdown",
      "source": [
        "\n",
        "1. **Boolean Logic Operators**\n",
        "\n",
        "Boolean logic operators are used to create conditions that can be either true or false. These operators include `and`, `or`, and `not`.\n",
        "\n",
        "**`AND` Operator**\n",
        "\n",
        "The `and` operator returns True only if both operands are true.\n",
        "\n"
      ],
      "metadata": {
        "id": "4QtKqcn-xMIP"
      }
    },
    {
      "cell_type": "code",
      "execution_count": 1,
      "metadata": {
        "colab": {
          "base_uri": "https://localhost:8080/"
        },
        "id": "0iU03ugF2Puv",
        "outputId": "d253c93a-c915-41a4-8628-fb43dcddd16c"
      },
      "outputs": [
        {
          "output_type": "stream",
          "name": "stdout",
          "text": [
            "a and b: False\n"
          ]
        }
      ],
      "source": [
        "a = True\n",
        "b = False\n",
        "\n",
        "print(\"a and b:\", a and b)  # Output: False"
      ]
    },
    {
      "cell_type": "markdown",
      "source": [
        "**`OR` Operator**\n",
        "\n",
        "The `or` operator returns `True` if at least one operand is true.\n",
        "\n"
      ],
      "metadata": {
        "id": "WWVRHOqP3s4M"
      }
    },
    {
      "cell_type": "code",
      "source": [
        "a = True\n",
        "b = False\n",
        "\n",
        "print(\"a or b:\", a or b)  # Output: True"
      ],
      "metadata": {
        "colab": {
          "base_uri": "https://localhost:8080/"
        },
        "id": "FZe71a1t3vX4",
        "outputId": "27b371ad-efce-4180-8085-9e84b74be0df"
      },
      "execution_count": 2,
      "outputs": [
        {
          "output_type": "stream",
          "name": "stdout",
          "text": [
            "a or b: True\n"
          ]
        }
      ]
    },
    {
      "cell_type": "markdown",
      "source": [
        "**`NOT` Operator**\n",
        "\n",
        "The `not` operator returns `True` if the operand is false, and `False` if the operand is true.\n",
        "\n"
      ],
      "metadata": {
        "id": "48jJCpk03zXs"
      }
    },
    {
      "cell_type": "code",
      "source": [
        "a = True\n",
        "\n",
        "print(\"not a:\", not a)  # Output: False"
      ],
      "metadata": {
        "colab": {
          "base_uri": "https://localhost:8080/"
        },
        "id": "X5aOZE7630nY",
        "outputId": "5270c1b9-951f-40c4-821d-df55d74ccc6a"
      },
      "execution_count": null,
      "outputs": [
        {
          "output_type": "stream",
          "name": "stdout",
          "text": [
            "not a: False\n"
          ]
        }
      ]
    },
    {
      "cell_type": "markdown",
      "source": [
        "2. **Operators**\n",
        "\n",
        "Operators are symbols that perform operations on variables and values.\n",
        "\n",
        "**2.1. Comparison Operators**\n",
        "\n",
        "Comparison operators are used to compare two values. They return a boolean value (`True` or `False`).\n",
        "\n",
        "**Less Than (`<`)**: Checks if the left value is less than the right value."
      ],
      "metadata": {
        "id": "RlRUrZrocqJA"
      }
    },
    {
      "cell_type": "code",
      "source": [
        "print(3 < 5)  # Output: True"
      ],
      "metadata": {
        "colab": {
          "base_uri": "https://localhost:8080/"
        },
        "id": "KKzi6TMnc50x",
        "outputId": "3189b207-8907-462d-8196-5c0c1c618b3a"
      },
      "execution_count": 3,
      "outputs": [
        {
          "output_type": "stream",
          "name": "stdout",
          "text": [
            "True\n"
          ]
        }
      ]
    },
    {
      "cell_type": "markdown",
      "source": [
        "**Greater Than (`>`)**: Checks if the left value is greater than the right value."
      ],
      "metadata": {
        "id": "MKuZqBGmc7iF"
      }
    },
    {
      "cell_type": "code",
      "source": [
        "print(3 > 5)  # Output: False"
      ],
      "metadata": {
        "colab": {
          "base_uri": "https://localhost:8080/"
        },
        "id": "EeGXWdyoc896",
        "outputId": "16068423-a655-4aa9-fe69-279a4e851d54"
      },
      "execution_count": 4,
      "outputs": [
        {
          "output_type": "stream",
          "name": "stdout",
          "text": [
            "False\n"
          ]
        }
      ]
    },
    {
      "cell_type": "markdown",
      "source": [
        "**Less Than or Equal To (`<=`)**: Checks if the left value is less than or equal to the right value.\n",
        "\n"
      ],
      "metadata": {
        "id": "I8vpTTnMc93y"
      }
    },
    {
      "cell_type": "code",
      "source": [
        "print(3 <= 5)  # Output: True"
      ],
      "metadata": {
        "colab": {
          "base_uri": "https://localhost:8080/"
        },
        "id": "EEg8mU4Lc_d7",
        "outputId": "f91de636-eb20-4d39-d9f5-bcca2b38ef4a"
      },
      "execution_count": 5,
      "outputs": [
        {
          "output_type": "stream",
          "name": "stdout",
          "text": [
            "True\n"
          ]
        }
      ]
    },
    {
      "cell_type": "markdown",
      "source": [
        "**Greater Than or Equal To (`>=`)**: Checks if the left value is greater than or equal to the right value.\n"
      ],
      "metadata": {
        "id": "1ADy6qQ7dAfk"
      }
    },
    {
      "cell_type": "code",
      "source": [
        "print(3 >= 5)  # Output: False"
      ],
      "metadata": {
        "colab": {
          "base_uri": "https://localhost:8080/"
        },
        "id": "Br0qMAyZdBI-",
        "outputId": "39832258-87e8-4875-d16d-4282b3f7d1f3"
      },
      "execution_count": 6,
      "outputs": [
        {
          "output_type": "stream",
          "name": "stdout",
          "text": [
            "False\n"
          ]
        }
      ]
    },
    {
      "cell_type": "markdown",
      "source": [
        "**Equal To (`==`)**: Checks if the two values are equal."
      ],
      "metadata": {
        "id": "UE8WiY8xdB1j"
      }
    },
    {
      "cell_type": "code",
      "source": [
        "print(3 == 5)  # Output: False"
      ],
      "metadata": {
        "colab": {
          "base_uri": "https://localhost:8080/"
        },
        "id": "4jZlanWvdCi5",
        "outputId": "4c0e1cab-8c43-47ac-8b6f-a23de0e6da3c"
      },
      "execution_count": 7,
      "outputs": [
        {
          "output_type": "stream",
          "name": "stdout",
          "text": [
            "False\n"
          ]
        }
      ]
    },
    {
      "cell_type": "markdown",
      "source": [
        "**Not Equal To (`!=`)**: Checks if the two values are not equal."
      ],
      "metadata": {
        "id": "oLpDE7r8dDU_"
      }
    },
    {
      "cell_type": "code",
      "source": [
        "print(3 != 5)  # Output: True"
      ],
      "metadata": {
        "colab": {
          "base_uri": "https://localhost:8080/"
        },
        "id": "fFFjeiJRdEDc",
        "outputId": "f40f8ee0-1d8b-43a5-cb01-e01fb2e58fdc"
      },
      "execution_count": 8,
      "outputs": [
        {
          "output_type": "stream",
          "name": "stdout",
          "text": [
            "True\n"
          ]
        }
      ]
    },
    {
      "cell_type": "markdown",
      "source": [
        "**2.2 Assignment Operators**\n",
        "\n",
        "Assignment operators are used to assign values to variables. They include simple assignment as well as shorthand arithmetic assignments.\n",
        "\n",
        "**Equal To (`=`)**: Assigns the right value to the left variable."
      ],
      "metadata": {
        "id": "Vb2fk8aSdFB7"
      }
    },
    {
      "cell_type": "code",
      "source": [
        "x = 5"
      ],
      "metadata": {
        "id": "DY0m5JhMdHgF"
      },
      "execution_count": 9,
      "outputs": []
    },
    {
      "cell_type": "markdown",
      "source": [
        "**Add and Assign (`+=`)**: Adds the right value to the left variable and assigns the result to the left variable."
      ],
      "metadata": {
        "id": "mmmbZoqbdIsj"
      }
    },
    {
      "cell_type": "code",
      "source": [
        "x += 3  # Equivalent to x = x + 3"
      ],
      "metadata": {
        "id": "sprhcZ-6dKFA"
      },
      "execution_count": 10,
      "outputs": []
    },
    {
      "cell_type": "markdown",
      "source": [
        "**Subtract and Assign (`-=`)**: Subtracts the right value from the left variable and assigns the result to the left variable."
      ],
      "metadata": {
        "id": "qsoRZj_ydK1o"
      }
    },
    {
      "cell_type": "code",
      "source": [
        "x -= 2  # Equivalent to x = x - 2"
      ],
      "metadata": {
        "id": "ls4tfJaZdLfK"
      },
      "execution_count": 11,
      "outputs": []
    },
    {
      "cell_type": "markdown",
      "source": [
        "**Multiply and Assign (`*=`)**: Multiplies the left variable by the right value and assigns the result to the left variable."
      ],
      "metadata": {
        "id": "C3QGxGyvdMXn"
      }
    },
    {
      "cell_type": "code",
      "source": [
        "x *= 4  # Equivalent to x = x * 4"
      ],
      "metadata": {
        "id": "uWhx-CDMdNX3"
      },
      "execution_count": 12,
      "outputs": []
    },
    {
      "cell_type": "markdown",
      "source": [
        "**Divide and Assign (`/=`)**: Divides the left variable by the right value and assigns the result to the left variable."
      ],
      "metadata": {
        "id": "HMc3MRWjdONI"
      }
    },
    {
      "cell_type": "code",
      "source": [
        "x /= 2  # Equivalent to x = x / 2"
      ],
      "metadata": {
        "id": "llz_6CaCdPCF"
      },
      "execution_count": 13,
      "outputs": []
    },
    {
      "cell_type": "markdown",
      "source": [
        "**2.3. Arithmetic Operators**\n",
        "\n",
        "Arithmetic operators are used to perform basic mathematical operations.\n",
        "\n",
        "**Addition (`+`)**: Adds two values.\n"
      ],
      "metadata": {
        "id": "KZDzZhhCdRr_"
      }
    },
    {
      "cell_type": "code",
      "source": [
        "print(3 + 5)  # Output: 8"
      ],
      "metadata": {
        "colab": {
          "base_uri": "https://localhost:8080/"
        },
        "id": "tQv-NshQdUgl",
        "outputId": "79baaf58-61cd-42c4-c5f1-1acb45c19733"
      },
      "execution_count": 14,
      "outputs": [
        {
          "output_type": "stream",
          "name": "stdout",
          "text": [
            "8\n"
          ]
        }
      ]
    },
    {
      "cell_type": "markdown",
      "source": [
        "**Subtraction (`-`)**: Subtracts the right value from the left value.\n"
      ],
      "metadata": {
        "id": "yryEn_N9dVrk"
      }
    },
    {
      "cell_type": "code",
      "source": [
        "print(10 - 3)  # Output: 7"
      ],
      "metadata": {
        "colab": {
          "base_uri": "https://localhost:8080/"
        },
        "id": "MqkOu4J3dXH2",
        "outputId": "bcb7cc49-f168-4bbb-b585-58ebb7a465bd"
      },
      "execution_count": 15,
      "outputs": [
        {
          "output_type": "stream",
          "name": "stdout",
          "text": [
            "7\n"
          ]
        }
      ]
    },
    {
      "cell_type": "markdown",
      "source": [
        "**Multiplication (`*`)**: Multiplies two values."
      ],
      "metadata": {
        "id": "Cwo3Ry6-dX91"
      }
    },
    {
      "cell_type": "code",
      "source": [
        "print(4 * 2)  # Output: 8"
      ],
      "metadata": {
        "colab": {
          "base_uri": "https://localhost:8080/"
        },
        "id": "EMzj5xqcdY8z",
        "outputId": "639723cb-6c0a-4660-9841-e701f5472703"
      },
      "execution_count": 16,
      "outputs": [
        {
          "output_type": "stream",
          "name": "stdout",
          "text": [
            "8\n"
          ]
        }
      ]
    },
    {
      "cell_type": "markdown",
      "source": [
        "**Division (`/`)**: Divides the left value by the right value.\n"
      ],
      "metadata": {
        "id": "iOSIozcDdaRN"
      }
    },
    {
      "cell_type": "code",
      "source": [
        "print(10 / 2)  # Output: 5.0"
      ],
      "metadata": {
        "colab": {
          "base_uri": "https://localhost:8080/"
        },
        "id": "Ic5AVoCmdbY_",
        "outputId": "a8f1a335-829a-4810-d73d-3058fe395415"
      },
      "execution_count": 17,
      "outputs": [
        {
          "output_type": "stream",
          "name": "stdout",
          "text": [
            "5.0\n"
          ]
        }
      ]
    },
    {
      "cell_type": "markdown",
      "source": [
        "**Modulus (`%`)**: Returns the remainder of the division of two values. (More on this later)"
      ],
      "metadata": {
        "id": "V7botxPbdcUb"
      }
    },
    {
      "cell_type": "code",
      "source": [
        "print(10 % 3)  # Output: 1"
      ],
      "metadata": {
        "colab": {
          "base_uri": "https://localhost:8080/"
        },
        "id": "wFxqqbVEddPN",
        "outputId": "d27f0e6f-6d4b-4ecd-c47d-9bb00dde2c18"
      },
      "execution_count": 18,
      "outputs": [
        {
          "output_type": "stream",
          "name": "stdout",
          "text": [
            "1\n"
          ]
        }
      ]
    },
    {
      "cell_type": "markdown",
      "source": [
        "**Exponentiation (`**`)**: Raises the left value to the power of the right value."
      ],
      "metadata": {
        "id": "U0fhefUOdeE4"
      }
    },
    {
      "cell_type": "code",
      "source": [
        "print(2 ** 3)  # Output: 8"
      ],
      "metadata": {
        "colab": {
          "base_uri": "https://localhost:8080/"
        },
        "id": "FN05ZZZGde13",
        "outputId": "1bfe55b7-23a1-4116-8348-417b6dd4f9da"
      },
      "execution_count": 19,
      "outputs": [
        {
          "output_type": "stream",
          "name": "stdout",
          "text": [
            "8\n"
          ]
        }
      ]
    },
    {
      "cell_type": "markdown",
      "source": [
        "# Practical Examples\n",
        "\n",
        "**Using Comparison Operators**"
      ],
      "metadata": {
        "id": "eI7IQqTVdgku"
      }
    },
    {
      "cell_type": "code",
      "source": [
        "a = 10\n",
        "b = 20\n",
        "\n",
        "print(a < b)  # Output: True\n",
        "print(a == b)  # Output: False\n",
        "print(a >= b)  # Output: False"
      ],
      "metadata": {
        "id": "wi4rXLzHdjzf"
      },
      "execution_count": null,
      "outputs": []
    },
    {
      "cell_type": "markdown",
      "source": [
        "**Using Assignment Operators**"
      ],
      "metadata": {
        "id": "LyJQS9gBdkbF"
      }
    },
    {
      "cell_type": "code",
      "source": [
        "x = 5\n",
        "print(x)  # Output: 5\n",
        "\n",
        "x += 2\n",
        "print(x)  # Output: 7\n",
        "\n",
        "x *= 3\n",
        "print(x)  # Output: 21"
      ],
      "metadata": {
        "id": "qHsCk26FdmnI"
      },
      "execution_count": null,
      "outputs": []
    },
    {
      "cell_type": "markdown",
      "source": [
        "**Using Arithmetic Operators**"
      ],
      "metadata": {
        "id": "CZ2UDSFWdn9O"
      }
    },
    {
      "cell_type": "code",
      "source": [
        "num1 = 15\n",
        "num2 = 4\n",
        "\n",
        "print(num1 + num2)  # Output: 19\n",
        "print(num1 - num2)  # Output: 11\n",
        "print(num1 * num2)  # Output: 60\n",
        "print(num1 / num2)  # Output: 3.75\n",
        "print(num1 % num2)  # Output: 3\n",
        "print(num1 ** num2)  # Output: 50625"
      ],
      "metadata": {
        "id": "tHoCELcvdo5o"
      },
      "execution_count": null,
      "outputs": []
    },
    {
      "cell_type": "markdown",
      "source": [
        "3. **Conditional Structures (if-else)**\n",
        "\n",
        "Conditional structures allow you to execute different blocks of code based on certain conditions.\n",
        "\n",
        "**Basic if Statement**\n",
        "\n",
        "The if statement executes a block of code if its condition is true.\n",
        "\n"
      ],
      "metadata": {
        "id": "473j77zg32kQ"
      }
    },
    {
      "cell_type": "code",
      "source": [
        "age = 18\n",
        "\n",
        "if age >= 18:\n",
        "  print(\"You are an adult.\")"
      ],
      "metadata": {
        "colab": {
          "base_uri": "https://localhost:8080/"
        },
        "id": "OlOEellJ33q0",
        "outputId": "f5f2bbe9-4559-4df6-b2bb-749146261e3b"
      },
      "execution_count": null,
      "outputs": [
        {
          "output_type": "stream",
          "name": "stdout",
          "text": [
            "You are an adult.\n"
          ]
        }
      ]
    },
    {
      "cell_type": "markdown",
      "source": [
        "**if-else Statement**\n",
        "\n",
        "The if-else statement executes one block of code if its condition is true and another block of code if it is false.\n",
        "\n"
      ],
      "metadata": {
        "id": "8jYAqF_P4AFY"
      }
    },
    {
      "cell_type": "code",
      "source": [
        "age = 16\n",
        "\n",
        "if age >= 18:\n",
        "  print(\"You are an adult.\")\n",
        "else:\n",
        "  print(\"You are a minor.\")"
      ],
      "metadata": {
        "colab": {
          "base_uri": "https://localhost:8080/"
        },
        "id": "HGrHS-kb4BYh",
        "outputId": "dba4ced6-12f4-4d56-d88a-073ef7a0e0a7"
      },
      "execution_count": 3,
      "outputs": [
        {
          "output_type": "stream",
          "name": "stdout",
          "text": [
            "You are a minor.\n"
          ]
        }
      ]
    },
    {
      "cell_type": "markdown",
      "source": [
        "**if-elif-else Statement**\n",
        "\n",
        "The if-elif-else statement allows you to check multiple conditions.\n",
        "\n"
      ],
      "metadata": {
        "id": "uAKwZLlB4C_U"
      }
    },
    {
      "cell_type": "code",
      "source": [
        "age = 20\n",
        "\n",
        "if age < 13:\n",
        "    print(\"You are a child.\")\n",
        "elif 13 <= age < 18:\n",
        "    print(\"You are a teenager.\")\n",
        "else:\n",
        "    print(\"You are an adult.\")"
      ],
      "metadata": {
        "colab": {
          "base_uri": "https://localhost:8080/"
        },
        "id": "VcAPQ_rV4Ell",
        "outputId": "bca72e6e-2212-4819-90e2-720d52255eb4"
      },
      "execution_count": null,
      "outputs": [
        {
          "output_type": "stream",
          "name": "stdout",
          "text": [
            "You are an adult.\n"
          ]
        }
      ]
    },
    {
      "cell_type": "markdown",
      "source": [
        "#Practical Examples\n",
        "**Checking if a Number is Even or Odd**\n",
        "\n",
        "Let's use conditional structures to check if a number is even or odd.\n",
        "\n"
      ],
      "metadata": {
        "id": "UXHXehV54Mif"
      }
    },
    {
      "cell_type": "code",
      "source": [
        "number = 7\n",
        "\n",
        "if number % 2 == 0:\n",
        "    print(f\"{number} is even.\")\n",
        "else:\n",
        "    print(f\"{number} is odd.\")"
      ],
      "metadata": {
        "colab": {
          "base_uri": "https://localhost:8080/"
        },
        "id": "aCj2rcVX4TZY",
        "outputId": "968ffc6e-8855-4318-fd37-6c7f10ff4c6c"
      },
      "execution_count": null,
      "outputs": [
        {
          "output_type": "stream",
          "name": "stdout",
          "text": [
            "7 is odd.\n"
          ]
        }
      ]
    },
    {
      "cell_type": "markdown",
      "source": [
        "**Grading System**\n",
        "\n",
        "Let's create a simple grading system using conditional structures.\n",
        "\n"
      ],
      "metadata": {
        "id": "nVI6KXID4Vte"
      }
    },
    {
      "cell_type": "code",
      "source": [
        "score = 85\n",
        "\n",
        "if score >= 90:\n",
        "    print(\"Grade: A\")\n",
        "elif score >= 80:\n",
        "    print(\"Grade: B\")\n",
        "elif score >= 70:\n",
        "    print(\"Grade: C\")\n",
        "elif score >= 60:\n",
        "    print(\"Grade: D\")\n",
        "else:\n",
        "    print(\"Grade: F\")"
      ],
      "metadata": {
        "colab": {
          "base_uri": "https://localhost:8080/"
        },
        "id": "js_5ECKC4X87",
        "outputId": "e4e3f283-2bf5-41a1-f0ab-758f99deb41d"
      },
      "execution_count": null,
      "outputs": [
        {
          "output_type": "stream",
          "name": "stdout",
          "text": [
            "Grade: B\n"
          ]
        }
      ]
    },
    {
      "cell_type": "markdown",
      "source": [
        "# Understanding the Modulus Operator (%)\n",
        "\n",
        "**Modulus Operator**\n",
        "\n",
        "The modulus operator (%) in Python is used to find the remainder of a division operation between two numbers. It's a useful tool in various programming tasks, such as determining if a number is even or odd, or performing cyclic operations.\n",
        "\n"
      ],
      "metadata": {
        "id": "YF_zGVuoy9Np"
      }
    },
    {
      "cell_type": "code",
      "source": [
        "remainder = dividend % divisor"
      ],
      "metadata": {
        "id": "p5ICS91azHsD"
      },
      "execution_count": null,
      "outputs": []
    },
    {
      "cell_type": "markdown",
      "source": [
        "* dividend: The number to be divided.\n",
        "* divisor: The number by which the dividend is divided.\n",
        "* remainder: The result of the modulus operation, which is the remainder left after the division.\n",
        "\n",
        "Example Usage\n",
        "\n",
        "1. Basic Example:\n"
      ],
      "metadata": {
        "id": "ALTyurgHzKdx"
      }
    },
    {
      "cell_type": "code",
      "source": [
        "result = 10 % 3\n",
        "print(\"10 % 3 =\", result)  # Output: 10 % 3 = 1"
      ],
      "metadata": {
        "id": "apycXLyVzUWc",
        "colab": {
          "base_uri": "https://localhost:8080/"
        },
        "outputId": "a11ef2c4-ecf7-45f6-87f1-d74e23deaa33"
      },
      "execution_count": 20,
      "outputs": [
        {
          "output_type": "stream",
          "name": "stdout",
          "text": [
            "10 % 3 = 1\n"
          ]
        }
      ]
    },
    {
      "cell_type": "markdown",
      "source": [
        "* Here, 10 divided by 3 leaves a remainder of 1.\n",
        "\n",
        "* 10 - 3 - 3 - 3 = 1, substracting 3 from 1 would not have a remainder so 1 is the answer.\n",
        "\n",
        "\n",
        "2. Determining Even or Odd:\n",
        "\n"
      ],
      "metadata": {
        "id": "UAaFD95mzWBq"
      }
    },
    {
      "cell_type": "code",
      "source": [
        "number = 7\n",
        "if number % 2 == 0:\n",
        "    print(f\"{number} is even\")\n",
        "else:\n",
        "    print(f\"{number} is odd\")  # Output: 7 is odd"
      ],
      "metadata": {
        "colab": {
          "base_uri": "https://localhost:8080/"
        },
        "id": "EVh-P5dAzry2",
        "outputId": "9c7c999d-a8a4-4595-eb52-3be4e5a4aa56"
      },
      "execution_count": null,
      "outputs": [
        {
          "output_type": "stream",
          "name": "stdout",
          "text": [
            "7 is odd\n"
          ]
        }
      ]
    },
    {
      "cell_type": "markdown",
      "source": [
        "* A number is even if it leaves a remainder of 0 when divided by 2. Otherwise, it's odd.\n",
        "\n",
        "3. Cyclic Operations:\n",
        "The modulus operator is often used in cyclic operations, such as rotating through a list.\n",
        "\n"
      ],
      "metadata": {
        "id": "LEG8npQSztmF"
      }
    },
    {
      "cell_type": "code",
      "source": [
        "items = ['apple', 'banana', 'cherry']\n",
        "index = 5 % len(items)  # len(items) returns the number of elements in the list 'items', which is 3\n",
        "print(\"Item at index 5 % 3:\", items[index])  # Output: Item at index 5 % 3: banana"
      ],
      "metadata": {
        "id": "9PmYyg2P3QP9",
        "colab": {
          "base_uri": "https://localhost:8080/"
        },
        "outputId": "04dd3dd7-6137-4751-9fb1-56f70a08dd54"
      },
      "execution_count": 21,
      "outputs": [
        {
          "output_type": "stream",
          "name": "stdout",
          "text": [
            "Item at index 5 % 3: cherry\n"
          ]
        }
      ]
    },
    {
      "cell_type": "markdown",
      "source": [
        "* Here, 5 % 3 results in 2, so the item at index 2 in the list is 'banana'.\n",
        "\n",
        "#Practical Example\n",
        "\n",
        "Let's say we have a week represented as a list of days, and we want to find out which day it will be after a certain number of days:\n",
        "\n"
      ],
      "metadata": {
        "id": "9BZN0J7c3SFM"
      }
    },
    {
      "cell_type": "code",
      "source": [
        "days_of_week = ['Sunday', 'Monday', 'Tuesday', 'Wednesday', 'Thursday', 'Friday', 'Saturday']\n",
        "current_day_index = 2  # Let's say today is Tuesday\n",
        "days_to_add = 10\n",
        "\n",
        "new_day_index = (current_day_index + days_to_add) % len(days_of_week)\n",
        "new_day = days_of_week[new_day_index]\n",
        "\n",
        "print(f\"In {days_to_add} days, it will be {new_day}\")  # Output: In 10 days, it will be Friday"
      ],
      "metadata": {
        "id": "JcjRxfAN3WgP",
        "colab": {
          "base_uri": "https://localhost:8080/"
        },
        "outputId": "778f72a9-84c4-4372-ca08-7405e8cfe41b"
      },
      "execution_count": 2,
      "outputs": [
        {
          "output_type": "stream",
          "name": "stdout",
          "text": [
            "In 10 days, it will be Friday\n"
          ]
        }
      ]
    },
    {
      "cell_type": "markdown",
      "source": [
        "Explanation:\n",
        "\n",
        "* current_day_index is 2, representing Tuesday.\n",
        "* days_to_add is 10.\n",
        "* (current_day_index + days_to_add) % len(days_of_week) calculates the new day index after 10 days.\n",
        "* new_day is the day at the new index, which is 'Friday'.\n",
        "\n",
        "\n",
        "**Summary**\n",
        "\n",
        "The modulus operator (%) is a versatile tool in Python that helps find the remainder of a division. It's widely used for determining even or odd numbers, performing cyclic operations, and other tasks where remainders are relevant. Understanding how to use this operator effectively can simplify many programming problems."
      ],
      "metadata": {
        "id": "G4BaaTQ13Y6-"
      }
    },
    {
      "cell_type": "markdown",
      "source": [
        "**Conclusion**\n",
        "\n",
        "In this module, we learned about logic and structure in programming, specifically focusing on Boolean logic and modulus operators and conditional structures. These concepts help in making decisions and controlling the flow of a program. Keep practicing and experimenting with these examples to become more comfortable with coding.\n",
        "\n"
      ],
      "metadata": {
        "id": "Z_NuEBJF4aKp"
      }
    }
  ]
}