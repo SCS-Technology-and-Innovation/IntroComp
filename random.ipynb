{
  "nbformat": 4,
  "nbformat_minor": 0,
  "metadata": {
    "colab": {
      "provenance": [],
      "authorship_tag": "ABX9TyNl+j5Evj5t/MuQA1LdGRms",
      "include_colab_link": true
    },
    "kernelspec": {
      "name": "python3",
      "display_name": "Python 3"
    },
    "language_info": {
      "name": "python"
    }
  },
  "cells": [
    {
      "cell_type": "markdown",
      "metadata": {
        "id": "view-in-github",
        "colab_type": "text"
      },
      "source": [
        "<a href=\"https://colab.research.google.com/github/SCS-Technology-and-Innovation/IntroComp/blob/main/random.ipynb\" target=\"_parent\"><img src=\"https://colab.research.google.com/assets/colab-badge.svg\" alt=\"Open In Colab\"/></a>"
      ]
    },
    {
      "cell_type": "markdown",
      "source": [
        "# Pseudorandomness\n",
        "\n",
        "Nothing a computer can do is ever truly *random*. Through clever use of mathematics (calculations) and physics (readings from sensors such as temperature), it is possible to give the impression of randomness. With more work, even statistically convincing randomness is viable to some degree.\n",
        "\n",
        "Most programming languages contain some routines for (pseudo-)random number generation within their built-in or default packages, whereas the finer ones (with hope of statistical validity, although not necessarily cryptographic strength) tend to be included within additional optional libraries that are installed as needed.\n",
        "\n",
        "The basic form is usually the generation of uniformly distributed values within the interval $[0, 1]$."
      ],
      "metadata": {
        "id": "q32V-zgxUnw7"
      }
    },
    {
      "cell_type": "code",
      "execution_count": 1,
      "metadata": {
        "id": "cZo6oM7kUm2M",
        "outputId": "087eb0c0-a11c-4b45-9c4a-4246fc3e057f",
        "colab": {
          "base_uri": "https://localhost:8080/"
        }
      },
      "outputs": [
        {
          "output_type": "stream",
          "name": "stdout",
          "text": [
            "0.6703847342614631\n"
          ]
        }
      ],
      "source": [
        "from random import random\n",
        "\n",
        "print(random())"
      ]
    },
    {
      "cell_type": "markdown",
      "source": [
        "If we want a `True` or a `False`, we can threshold these at the midpoint."
      ],
      "metadata": {
        "id": "YcUFH2Wjzd3n"
      }
    },
    {
      "cell_type": "code",
      "source": [
        "n = 10\n",
        "print([ random() < 0.5 for k in range(n) ])"
      ],
      "metadata": {
        "id": "_r8uii6hzili",
        "outputId": "7db47f95-928a-44c6-e2dc-9d1adb053941",
        "colab": {
          "base_uri": "https://localhost:8080/"
        }
      },
      "execution_count": 19,
      "outputs": [
        {
          "output_type": "stream",
          "name": "stdout",
          "text": [
            "[True, False, True, False, False, False, False, False, True, False]\n"
          ]
        }
      ]
    },
    {
      "cell_type": "markdown",
      "source": [
        "If we obtain $n$ of these, we would expect $n/2$ to be below 0.5."
      ],
      "metadata": {
        "id": "wYd4BNRyxENS"
      }
    },
    {
      "cell_type": "code",
      "source": [
        "n = 10000\n",
        "print(sum( [random() < 0.5 for k in range(n) ]))"
      ],
      "metadata": {
        "id": "JParYJNnxJkN",
        "outputId": "18445b32-3292-410d-b58f-2dc5a3a50559",
        "colab": {
          "base_uri": "https://localhost:8080/"
        }
      },
      "execution_count": 3,
      "outputs": [
        {
          "output_type": "stream",
          "name": "stdout",
          "text": [
            "4999\n"
          ]
        }
      ]
    },
    {
      "cell_type": "markdown",
      "source": [
        "If we repeat the experiment (repetitions are called replicas), we can see how this varies more for low values of $n$."
      ],
      "metadata": {
        "id": "pyLZMD-vxTB6"
      }
    },
    {
      "cell_type": "code",
      "source": [
        "r = 10\n",
        "n = 1000\n",
        "for replica in range(r):\n",
        "  print(sum( [random() < 0.5 for k in range(n) ]))"
      ],
      "metadata": {
        "id": "uDEBUausxayz",
        "outputId": "298e7ca1-3e9c-40ac-b52a-d87c151c9186",
        "colab": {
          "base_uri": "https://localhost:8080/"
        }
      },
      "execution_count": 4,
      "outputs": [
        {
          "output_type": "stream",
          "name": "stdout",
          "text": [
            "474\n",
            "528\n",
            "517\n",
            "510\n",
            "486\n",
            "518\n",
            "494\n",
            "502\n",
            "504\n",
            "513\n"
          ]
        }
      ]
    },
    {
      "cell_type": "markdown",
      "source": [
        "What if we need a value in an interval $[a, b]$ instead of $[0, 1]$? We can either do the math ourselves or rely on a library routine, whenever one is provided."
      ],
      "metadata": {
        "id": "Czs3ej4sxjOD"
      }
    },
    {
      "cell_type": "code",
      "source": [
        "from random import uniform\n",
        "\n",
        "r = 10\n",
        "a = -10\n",
        "b = 25\n",
        "\n",
        "print([ uniform(a, b) for replica in range(r) ])\n",
        "\n",
        "\n",
        "def myown(low, high):\n",
        "  span = high - low\n",
        "  return low + span * random()\n",
        "\n",
        "\n",
        "print([ myown(a, b) for replica in range(r) ])"
      ],
      "metadata": {
        "id": "EvQOCul3x2CB",
        "outputId": "511982b0-f98c-4726-e90d-9e517e43951c",
        "colab": {
          "base_uri": "https://localhost:8080/"
        }
      },
      "execution_count": 9,
      "outputs": [
        {
          "output_type": "stream",
          "name": "stdout",
          "text": [
            "[-2.218322719146329, 17.869916634976047, -9.10079325918374, 16.149618268123728, 5.935449050513652, 17.176356592397394, 21.66030543342165, 11.024252244109096, 11.20976353013059, 21.72934598439601]\n",
            "[-6.4150277159307265, 3.6065938652220613, 8.283623349402081, 22.325241962746325, -4.39051697185317, 12.93261613097292, 0.6380701789965713, 16.199295745626642, -0.7401003624776266, -5.718131711739346]\n"
          ]
        }
      ]
    },
    {
      "cell_type": "markdown",
      "source": [
        "Should we need these to be *integers*, we can `round` or look for another routine provided by a library."
      ],
      "metadata": {
        "id": "HN_mBFx_ydVk"
      }
    },
    {
      "cell_type": "code",
      "source": [
        "from random import randrange\n",
        "from math import floor\n",
        "\n",
        "r = 10\n",
        "a = -10\n",
        "b = 25\n",
        "\n",
        "def myownint(low, high):\n",
        "  return round(myown(low, high))\n",
        "\n",
        "print([ myownint(a, b) for replica in range(r) ])\n",
        "print([ randrange(a, b + 1) for replica in range(r) ])"
      ],
      "metadata": {
        "id": "aD4VQxMkylGb",
        "outputId": "03a70c17-b50f-492c-e16c-14634f7274b7",
        "colab": {
          "base_uri": "https://localhost:8080/"
        }
      },
      "execution_count": 14,
      "outputs": [
        {
          "output_type": "stream",
          "name": "stdout",
          "text": [
            "[23, 23, 16, 6, 17, 4, 22, 2, -1, 24]\n",
            "[14, 6, 14, 4, 8, 22, 9, 23, 17, 25]\n"
          ]
        }
      ]
    },
    {
      "cell_type": "markdown",
      "source": [
        "Note that `randrange` is like `range` and hence the end point $b$ is not included as a possible value so we have to add one to get $b$s as well."
      ],
      "metadata": {
        "id": "RN8XuvT3zT5c"
      }
    },
    {
      "cell_type": "markdown",
      "source": [
        "To pick an element from a list (or an array), one must generate an index to indicate which one is chosen. This boils down to generating integers between zero (inclusive) and the length of the list (or the array; exclusive). There may be ready-made routines as well for this purpose."
      ],
      "metadata": {
        "id": "3S_kDAvjzvSB"
      }
    },
    {
      "cell_type": "code",
      "source": [
        "data = [ 5, 19, 67, 24 ]\n",
        "\n",
        "from random import choice\n",
        "\n",
        "def ownpick(l):\n",
        "  return l[myownint(0, len(l) - 1)]\n",
        "\n",
        "\n",
        "for replica in range(r):\n",
        "  print(choice(data), ownpick(data))"
      ],
      "metadata": {
        "id": "WVlIp6Jr0FFK",
        "outputId": "2fe1c17e-7a74-4d76-b3aa-42bd4ce19cbf",
        "colab": {
          "base_uri": "https://localhost:8080/"
        }
      },
      "execution_count": 29,
      "outputs": [
        {
          "output_type": "stream",
          "name": "stdout",
          "text": [
            "67 67\n",
            "5 5\n",
            "19 67\n",
            "67 5\n",
            "67 24\n",
            "5 67\n",
            "67 24\n",
            "19 19\n",
            "24 67\n",
            "67 19\n"
          ]
        }
      ]
    },
    {
      "cell_type": "markdown",
      "source": [
        "We might not want each element to be equally likely when picking, but instead give a higher likelihood to some and a lower one to others (this is called *roulette-wheel* selection)."
      ],
      "metadata": {
        "id": "zwM4gMBx099m"
      }
    },
    {
      "cell_type": "code",
      "source": [
        "weights = [ 6, 1, 5, 3 ] # any non-negative weights that indicate the relative likelihoods of the elements\n",
        "assert len(weights) == len(data) # need as many as there are options to choose from\n",
        "\n",
        "from random import choices\n",
        "\n",
        "print(choices(data, weights, k = 2)) # pick any two, using these weights"
      ],
      "metadata": {
        "id": "wrO0QOKF1Ivi",
        "outputId": "59bffdc7-6095-43a4-8aaa-155237eca043",
        "colab": {
          "base_uri": "https://localhost:8080/"
        }
      },
      "execution_count": 37,
      "outputs": [
        {
          "output_type": "stream",
          "name": "stdout",
          "text": [
            "[24, 19]\n"
          ]
        }
      ]
    },
    {
      "cell_type": "markdown",
      "source": [
        "Writing code to pick one element in this fashion ourselves is not hard. We need to generate a value between zero and the sum of the weights, then accumulate weights until we reach the generated value, and the index at which this happens is chosen."
      ],
      "metadata": {
        "id": "ZfYy4lgw1mDS"
      }
    },
    {
      "cell_type": "code",
      "source": [
        "def pickweight(l, w):\n",
        "  high = sum(w)\n",
        "  v = myown(0, high)\n",
        "  accumulated = 0\n",
        "  max = len(l)\n",
        "  i = 0\n",
        "  while accumulated < v:\n",
        "    accumulated += w[i]\n",
        "    if i < max - 1:\n",
        "      i += 1\n",
        "  return l[i]\n",
        "\n",
        "for replica in range(r):\n",
        "  print(pickweight(data, weights))"
      ],
      "metadata": {
        "id": "4SeUS6wH1yL1",
        "outputId": "4a877d7f-b125-4135-9edb-83adec829ca3",
        "colab": {
          "base_uri": "https://localhost:8080/"
        }
      },
      "execution_count": 44,
      "outputs": [
        {
          "output_type": "stream",
          "name": "stdout",
          "text": [
            "24\n",
            "19\n",
            "24\n",
            "19\n",
            "19\n",
            "19\n",
            "19\n",
            "24\n",
            "19\n",
            "19\n"
          ]
        }
      ]
    },
    {
      "cell_type": "markdown",
      "source": [
        "To pick several would amount to repeating this until the desired quantity is obtained. If we want distint elements, we can store them in a `set` so that we do not get repetitions."
      ],
      "metadata": {
        "id": "BPbDtn0-2dxp"
      }
    },
    {
      "cell_type": "code",
      "source": [
        "goal = 2\n",
        "gotten = set()\n",
        "while len(gotten) < goal:\n",
        "  gotten.add(pickweight(data, weights))\n",
        "\n",
        "print(gotten)"
      ],
      "metadata": {
        "id": "m89ocaV02mEs",
        "outputId": "8368fd21-fe5d-4f54-b257-86a3bc8b8246",
        "colab": {
          "base_uri": "https://localhost:8080/"
        }
      },
      "execution_count": 45,
      "outputs": [
        {
          "output_type": "stream",
          "name": "stdout",
          "text": [
            "{24, 67}\n"
          ]
        }
      ]
    },
    {
      "cell_type": "markdown",
      "source": [
        "*Shuffling* a list is a common task, achieved technically picking elements from it at random until everything has been picked. It is not a lot of work to write such a routine oneself, but often it is provided in a library."
      ],
      "metadata": {
        "id": "-0hQYNSC0kyW"
      }
    },
    {
      "cell_type": "code",
      "source": [
        "from random import shuffle\n",
        "\n",
        "shuffle(data)\n",
        "print(data)"
      ],
      "metadata": {
        "id": "WZ8Ctpfo0yp7",
        "outputId": "0d1effe0-9955-4b32-cd66-0d516f01ad0f",
        "colab": {
          "base_uri": "https://localhost:8080/"
        }
      },
      "execution_count": 34,
      "outputs": [
        {
          "output_type": "stream",
          "name": "stdout",
          "text": [
            "[5, 19, 67, 24]\n"
          ]
        }
      ]
    }
  ]
}