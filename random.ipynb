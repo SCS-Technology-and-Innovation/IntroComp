{
  "nbformat": 4,
  "nbformat_minor": 0,
  "metadata": {
    "colab": {
      "provenance": []
    },
    "kernelspec": {
      "name": "python3",
      "display_name": "Python 3"
    },
    "language_info": {
      "name": "python"
    }
  },
  "cells": [
    {
      "cell_type": "markdown",
      "source": [
        "# Pseudorandomness, Sets and Permutations\n",
        "\n",
        "**Introduction to Pseudorandomness**\n",
        "\n",
        "Nothing a computer can do is ever truly random. Through clever use of mathematics (calculations) and physics (readings from sensors such as temperature), it is possible to give the impression of randomness. With more work, even statistically convincing randomness is viable to some degree.\n",
        "\n",
        "Most programming languages contain some routines for (pseudo-)random number generation within their built-in or default packages, whereas the finer ones (with hope of statistical validity, although not necessarily cryptographic strength) tend to be included within additional optional libraries that are installed as needed.\n",
        "\n",
        "1. **Basic Random Number Generation**"
      ],
      "metadata": {
        "id": "PSI8IHcaBP0C"
      }
    },
    {
      "cell_type": "code",
      "execution_count": 1,
      "metadata": {
        "id": "x-0QJvpbpxwH",
        "colab": {
          "base_uri": "https://localhost:8080/"
        },
        "outputId": "163f3bb1-a860-4349-d2da-6bd5e414b330"
      },
      "outputs": [
        {
          "output_type": "stream",
          "name": "stdout",
          "text": [
            "0.2660545280944506\n"
          ]
        }
      ],
      "source": [
        "from random import random\n",
        "\n",
        "print(random())  # Output: A random float between 0.0 and 1.0"
      ]
    },
    {
      "cell_type": "markdown",
      "source": [
        "2. **Boolean Values with Randomness**\n",
        "\n",
        "**Generating Random Boolean Values**"
      ],
      "metadata": {
        "id": "ZryClN28BaED"
      }
    },
    {
      "cell_type": "code",
      "source": [
        "n = 10\n",
        "print([random() < 0.5 for k in range(n)])  # Output: A list of True/False values"
      ],
      "metadata": {
        "id": "MFIMUmkyBgkm",
        "colab": {
          "base_uri": "https://localhost:8080/"
        },
        "outputId": "3e80a171-61a1-4f00-9033-99da3d3b809e"
      },
      "execution_count": 2,
      "outputs": [
        {
          "output_type": "stream",
          "name": "stdout",
          "text": [
            "[False, True, False, False, True, False, False, False, False, True]\n"
          ]
        }
      ]
    },
    {
      "cell_type": "markdown",
      "source": [
        "**Count of Trues in a Random Boolean List**"
      ],
      "metadata": {
        "id": "phwXj0TrBhNT"
      }
    },
    {
      "cell_type": "code",
      "source": [
        "n = 10000\n",
        "print(sum([random() < 0.5 for k in range(n)]))  # Output: An approximate count around 5000"
      ],
      "metadata": {
        "id": "4-IVfT5lBkTO",
        "colab": {
          "base_uri": "https://localhost:8080/"
        },
        "outputId": "6107ca32-b0b0-430c-e867-da8b94b8239d"
      },
      "execution_count": 3,
      "outputs": [
        {
          "output_type": "stream",
          "name": "stdout",
          "text": [
            "5079\n"
          ]
        }
      ]
    },
    {
      "cell_type": "markdown",
      "source": [
        "3. **Random Values within an Interval**\n",
        "\n",
        "**Generating Random Values in a Range**\n"
      ],
      "metadata": {
        "id": "hh_fjlltBl0D"
      }
    },
    {
      "cell_type": "code",
      "source": [
        "from random import uniform\n",
        "\n",
        "r = 10\n",
        "a = -10\n",
        "b = 25\n",
        "\n",
        "print([uniform(a, b) for _ in range(r)])  # Output: Random floats within [-10, 25]"
      ],
      "metadata": {
        "id": "RJwxGhoFBp2e",
        "colab": {
          "base_uri": "https://localhost:8080/"
        },
        "outputId": "2368ad78-4c07-4387-8aed-1ee809d02427"
      },
      "execution_count": 4,
      "outputs": [
        {
          "output_type": "stream",
          "name": "stdout",
          "text": [
            "[2.3549028068211886, 15.745563831370472, 24.33500663919898, 11.25703502610719, 15.289635061080233, 5.8335892520803245, 17.937648533399692, -5.140086960396356, -7.938237179957008, 20.616741214062504]\n"
          ]
        }
      ]
    },
    {
      "cell_type": "markdown",
      "source": [
        "**Custom Function for Random Values**"
      ],
      "metadata": {
        "id": "NcX0Dw-sBsE-"
      }
    },
    {
      "cell_type": "code",
      "source": [
        "def myown(low, high):\n",
        "    span = high - low\n",
        "    return low + span * random()\n",
        "\n",
        "print([myown(a, b) for _ in range(r)])  # Output: Similar to uniform(a, b)"
      ],
      "metadata": {
        "id": "ybkgX6g8BwR-",
        "colab": {
          "base_uri": "https://localhost:8080/"
        },
        "outputId": "4b7ed049-31dd-4adf-ba3c-64ea2905972f"
      },
      "execution_count": 5,
      "outputs": [
        {
          "output_type": "stream",
          "name": "stdout",
          "text": [
            "[5.278486061621814, 5.118564032393511, -5.447223756123051, 20.499524847180385, 21.67770669502503, 19.5756416955414, 20.580057567643273, 23.44238233913068, 16.114604397586966, 10.742033687223959]\n"
          ]
        }
      ]
    },
    {
      "cell_type": "markdown",
      "source": [
        "4. **Random Integers**\n",
        "\n",
        "**Generating Random Integers**\n"
      ],
      "metadata": {
        "id": "34QD0uonBywC"
      }
    },
    {
      "cell_type": "code",
      "source": [
        "from random import randrange\n",
        "\n",
        "r = 10\n",
        "a = -10\n",
        "b = 25\n",
        "\n",
        "print([randrange(a, b + 1) for _ in range(r)])  # Output: Random integers within [-10, 25]"
      ],
      "metadata": {
        "id": "nep80WhnB2Gw",
        "colab": {
          "base_uri": "https://localhost:8080/"
        },
        "outputId": "663e46c1-cd34-46d1-c151-780818f11507"
      },
      "execution_count": 6,
      "outputs": [
        {
          "output_type": "stream",
          "name": "stdout",
          "text": [
            "[22, 22, 25, 14, -7, 6, -1, -10, 23, 0]\n"
          ]
        }
      ]
    },
    {
      "cell_type": "markdown",
      "source": [
        "5. **Selecting Random Elements**\n",
        "\n",
        "**Picking Random Elements from a List**"
      ],
      "metadata": {
        "id": "Ieds4652B4h0"
      }
    },
    {
      "cell_type": "code",
      "source": [
        "data = [5, 19, 67, 24]\n",
        "from random import choice\n",
        "\n",
        "def ownpick(l):\n",
        "    return l[randrange(0, len(l))]\n",
        "\n",
        "for _ in range(r):\n",
        "    print(choice(data), ownpick(data))  # Output: Random elements from data"
      ],
      "metadata": {
        "id": "4G-n5KS7B7cS",
        "colab": {
          "base_uri": "https://localhost:8080/"
        },
        "outputId": "6b0d9500-f5b5-4727-b368-2b7788e59483"
      },
      "execution_count": 7,
      "outputs": [
        {
          "output_type": "stream",
          "name": "stdout",
          "text": [
            "5 19\n",
            "24 67\n",
            "24 67\n",
            "19 67\n",
            "5 5\n",
            "24 19\n",
            "24 5\n",
            "5 24\n",
            "5 24\n",
            "5 24\n"
          ]
        }
      ]
    },
    {
      "cell_type": "markdown",
      "source": [
        "6. **Weighted Random Selection**\n",
        "\n",
        "**Using Weights for Random Selection**\n"
      ],
      "metadata": {
        "id": "wylufhYcB9Hq"
      }
    },
    {
      "cell_type": "code",
      "source": [
        "weights = [6, 1, 5, 3]\n",
        "from random import choices\n",
        "\n",
        "print(choices(data, weights, k=2))  # Output: Two elements chosen based on weights"
      ],
      "metadata": {
        "id": "57FOIENaB_6O",
        "colab": {
          "base_uri": "https://localhost:8080/"
        },
        "outputId": "6b08510c-a0b5-467c-8f58-6f9a7d370677"
      },
      "execution_count": 8,
      "outputs": [
        {
          "output_type": "stream",
          "name": "stdout",
          "text": [
            "[5, 5]\n"
          ]
        }
      ]
    },
    {
      "cell_type": "markdown",
      "source": [
        "**Custom Weighted Selection Function**"
      ],
      "metadata": {
        "id": "pz0p6cJtCBos"
      }
    },
    {
      "cell_type": "code",
      "source": [
        "def pickweight(l, w):\n",
        "    high = sum(w)\n",
        "    v = myown(0, high)\n",
        "    accumulated = 0\n",
        "    for i, weight in enumerate(w):\n",
        "        accumulated += weight\n",
        "        if accumulated >= v:\n",
        "            return l[i]\n",
        "\n",
        "for _ in range(r):\n",
        "    print(pickweight(data, weights))  # Output: Random weighted selection"
      ],
      "metadata": {
        "id": "SR5s_qNyCDnK",
        "colab": {
          "base_uri": "https://localhost:8080/"
        },
        "outputId": "217bf277-9ca4-4ff5-8e11-30b78a23f9ee"
      },
      "execution_count": 9,
      "outputs": [
        {
          "output_type": "stream",
          "name": "stdout",
          "text": [
            "67\n",
            "67\n",
            "67\n",
            "67\n",
            "24\n",
            "24\n",
            "5\n",
            "5\n",
            "67\n",
            "5\n"
          ]
        }
      ]
    },
    {
      "cell_type": "markdown",
      "source": [
        "7. **Sets and Permutations**\n",
        "\n",
        "**Working with Sets**\n"
      ],
      "metadata": {
        "id": "cGe1dX3eCFXy"
      }
    },
    {
      "cell_type": "code",
      "source": [
        "# Example: Using sets to avoid duplicates\n",
        "goal = 2\n",
        "gotten = set()\n",
        "while len(gotten) < goal:\n",
        "    gotten.add(pickweight(data, weights))\n",
        "\n",
        "print(gotten)  # Output: Unique elements from data"
      ],
      "metadata": {
        "id": "IYdhY1EqCKWR",
        "colab": {
          "base_uri": "https://localhost:8080/"
        },
        "outputId": "90a8c1e5-3b28-4ea4-9237-1ba18e36adaf"
      },
      "execution_count": 10,
      "outputs": [
        {
          "output_type": "stream",
          "name": "stdout",
          "text": [
            "{67, 5}\n"
          ]
        }
      ]
    },
    {
      "cell_type": "markdown",
      "source": [
        "**Shuffling a List**"
      ],
      "metadata": {
        "id": "whEbzOy9CLAs"
      }
    },
    {
      "cell_type": "code",
      "source": [
        "from random import shuffle\n",
        "\n",
        "shuffle(data)\n",
        "print(data)  # Output: Shuffled list"
      ],
      "metadata": {
        "id": "bIWHGhi0CNL-",
        "colab": {
          "base_uri": "https://localhost:8080/"
        },
        "outputId": "77091a7b-4f73-4165-befb-b37ef7af2468"
      },
      "execution_count": 11,
      "outputs": [
        {
          "output_type": "stream",
          "name": "stdout",
          "text": [
            "[24, 5, 67, 19]\n"
          ]
        }
      ]
    },
    {
      "cell_type": "markdown",
      "source": [
        "**Conclusion**\n",
        "\n",
        "In this module, we explored the concepts of pseudorandomness, sets and permutations. We learned how to generate random numbers and values, select random elements from lists, and perform weighted random selection. We also delved into the use of sets for unique selections and shuffling lists. Understanding these concepts will enhance your ability to handle randomness calculations in your programs.\n",
        "\n",
        "\n"
      ],
      "metadata": {
        "id": "t4xY8g7mCV-E"
      }
    }
  ]
}