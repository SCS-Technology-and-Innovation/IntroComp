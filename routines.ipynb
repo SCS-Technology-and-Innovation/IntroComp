{
  "nbformat": 4,
  "nbformat_minor": 0,
  "metadata": {
    "colab": {
      "provenance": []
    },
    "kernelspec": {
      "name": "python3",
      "display_name": "Python 3"
    },
    "language_info": {
      "name": "python"
    }
  },
  "cells": [
    {
      "cell_type": "markdown",
      "source": [
        "#Modularity and Flexibility in Python\n",
        "\n",
        "1. **Introduction to Modularity**\n",
        "\n",
        "***What is Modularity?***\n",
        "\n",
        "Modularity refers to the design principle of breaking down a program into smaller, manageable, and reusable pieces called modules or functions. This approach makes the code more organized, readable, and maintainable.\n",
        "\n",
        "\n",
        "2. **Subroutines (Functions)**\n",
        "\n",
        "***What is a Function?***\n",
        "\n",
        "A function is a reusable block of code that performs a specific task. Functions help in reducing code duplication and enhancing modularity.\n",
        "\n",
        "**Defining a Function**\n"
      ],
      "metadata": {
        "id": "5Zp0XLWh8ir1"
      }
    },
    {
      "cell_type": "code",
      "execution_count": null,
      "metadata": {
        "id": "0saS2-EbptyX"
      },
      "outputs": [],
      "source": [
        "def function_name(parameters):\n",
        "    # code to be executed\n",
        "    return value"
      ]
    },
    {
      "cell_type": "markdown",
      "source": [
        "* def: Keyword used to define a function.\n",
        "* function_name: Name of the function.\n",
        "* parameters: Inputs to the function (optional).\n",
        "* return: Keyword used to return a value from the function (optional).\n"
      ],
      "metadata": {
        "id": "58_vETtF80x2"
      }
    },
    {
      "cell_type": "code",
      "source": [
        "# Example of a simple function\n",
        "def greet():\n",
        "    print(\"Hello, world!\")\n",
        "\n",
        "greet()  # Output: Hello, world!"
      ],
      "metadata": {
        "id": "7SaFrvOI87sa",
        "colab": {
          "base_uri": "https://localhost:8080/"
        },
        "outputId": "6d05cd7e-0733-41a4-d57e-227fb377140d"
      },
      "execution_count": 1,
      "outputs": [
        {
          "output_type": "stream",
          "name": "stdout",
          "text": [
            "Hello, world!\n"
          ]
        }
      ]
    },
    {
      "cell_type": "markdown",
      "source": [
        "3. **Parameters**\n",
        "\n",
        "**What are Parameters?**\n",
        "\n",
        "Parameters are variables that are used to pass information into a function. They make functions more flexible and reusable by allowing them to operate on different inputs.\n",
        "\n",
        "**Example with Parameters**"
      ],
      "metadata": {
        "id": "oWaUt0Fy9S9h"
      }
    },
    {
      "cell_type": "code",
      "source": [
        "# Function with parameters\n",
        "def greet(name):\n",
        "    print(f\"Hello, {name}!\")\n",
        "\n",
        "greet(\"Alice\")  # Output: Hello, Alice!\n",
        "greet(\"Bob\")    # Output: Hello, Bob!"
      ],
      "metadata": {
        "id": "wwK1MgoG9YTB",
        "colab": {
          "base_uri": "https://localhost:8080/"
        },
        "outputId": "abe5525d-b978-4143-ec6c-5d95a5028dc9"
      },
      "execution_count": 2,
      "outputs": [
        {
          "output_type": "stream",
          "name": "stdout",
          "text": [
            "Hello, Alice!\n",
            "Hello, Bob!\n"
          ]
        }
      ]
    },
    {
      "cell_type": "markdown",
      "source": [
        "4. **Return Values**\n",
        "\n",
        "**What is a Return Value?**\n",
        "\n",
        "A return value is the output that a function produces. The return statement is used to send this value back to the caller of the function.\n",
        "\n",
        "**Example with Return Value**\n"
      ],
      "metadata": {
        "id": "4PuUR8Xl9d06"
      }
    },
    {
      "cell_type": "code",
      "source": [
        "# Function with a return value\n",
        "def add(a, b):\n",
        "    return a + b\n",
        "\n",
        "result = add(3, 5)\n",
        "print(\"Sum:\", result)  # Output: Sum: 8"
      ],
      "metadata": {
        "id": "6Ni21pLO9h4_",
        "colab": {
          "base_uri": "https://localhost:8080/"
        },
        "outputId": "84bad982-fb44-42d1-ae0f-da3374b3479e"
      },
      "execution_count": 3,
      "outputs": [
        {
          "output_type": "stream",
          "name": "stdout",
          "text": [
            "Sum: 8\n"
          ]
        }
      ]
    },
    {
      "cell_type": "markdown",
      "source": [
        "5. **Combining Parameters and Return Values**"
      ],
      "metadata": {
        "id": "WpS72Ryf9ifL"
      }
    },
    {
      "cell_type": "code",
      "source": [
        "# Function with parameters and a return value\n",
        "def multiply(a, b):\n",
        "    return a * b\n",
        "\n",
        "product = multiply(4, 7)\n",
        "print(\"Product:\", product)  # Output: Product: 28"
      ],
      "metadata": {
        "id": "W3LBb31l9lNQ",
        "colab": {
          "base_uri": "https://localhost:8080/"
        },
        "outputId": "70bc15f6-7957-4613-9eff-2eb55feed3c1"
      },
      "execution_count": 4,
      "outputs": [
        {
          "output_type": "stream",
          "name": "stdout",
          "text": [
            "Product: 28\n"
          ]
        }
      ]
    },
    {
      "cell_type": "markdown",
      "source": [
        "#Practical Examples\n",
        "\n",
        "**Calculating the Area of a Rectangle**"
      ],
      "metadata": {
        "id": "tmeX6bqa9npD"
      }
    },
    {
      "cell_type": "code",
      "source": [
        "# Function to calculate the area of a rectangle\n",
        "def area_of_rectangle(length, width):\n",
        "    return length * width\n",
        "\n",
        "length = 5\n",
        "width = 3\n",
        "area = area_of_rectangle(length, width)\n",
        "print(\"Area of rectangle:\", area)  # Output: Area of rectangle: 15"
      ],
      "metadata": {
        "id": "KotNcJ2Y9rXY",
        "colab": {
          "base_uri": "https://localhost:8080/"
        },
        "outputId": "e43672c1-728c-4142-fe4f-877f6bb6ebcd"
      },
      "execution_count": 5,
      "outputs": [
        {
          "output_type": "stream",
          "name": "stdout",
          "text": [
            "Area of rectangle: 15\n"
          ]
        }
      ]
    },
    {
      "cell_type": "markdown",
      "source": [
        "**Checking if a Number is Even or Odd**\n"
      ],
      "metadata": {
        "id": "FRgr-nlq9syL"
      }
    },
    {
      "cell_type": "code",
      "source": [
        "# Function to check if a number is even or odd\n",
        "def is_even(number):\n",
        "    if number % 2 == 0:\n",
        "        return True\n",
        "    else:\n",
        "        return False\n",
        "\n",
        "print(\"Is 4 even?\", is_even(4))  # Output: Is 4 even? True\n",
        "print(\"Is 7 even?\", is_even(7))  # Output: Is 7 even? False"
      ],
      "metadata": {
        "id": "aWwsmOxL9uzg",
        "colab": {
          "base_uri": "https://localhost:8080/"
        },
        "outputId": "7f5a5922-0084-46b6-d563-e13489185e8c"
      },
      "execution_count": 6,
      "outputs": [
        {
          "output_type": "stream",
          "name": "stdout",
          "text": [
            "Is 4 even? True\n",
            "Is 7 even? False\n"
          ]
        }
      ]
    },
    {
      "cell_type": "markdown",
      "source": [
        "**Finding the Maximum of Two Numbers**"
      ],
      "metadata": {
        "id": "VytYRUoZ9wjN"
      }
    },
    {
      "cell_type": "code",
      "source": [
        "# Function to find the maximum of two numbers\n",
        "def maximum(a, b):\n",
        "    if a > b:\n",
        "        return a\n",
        "    else:\n",
        "        return b\n",
        "\n",
        "max_value = maximum(10, 20)\n",
        "print(\"Maximum value:\", max_value)  # Output: Maximum value: 20"
      ],
      "metadata": {
        "id": "c8KOAV0f9y8Y",
        "colab": {
          "base_uri": "https://localhost:8080/"
        },
        "outputId": "5c9811e9-f327-4081-bcb5-9fa9adb0ef24"
      },
      "execution_count": 7,
      "outputs": [
        {
          "output_type": "stream",
          "name": "stdout",
          "text": [
            "Maximum value: 20\n"
          ]
        }
      ]
    },
    {
      "cell_type": "markdown",
      "source": [
        "6. **Nested Functions and Scope**\n",
        "\n",
        "**Nested Functions**\n",
        "\n",
        "Functions can be defined within other functions. These are called nested functions or inner functions.\n",
        "\n"
      ],
      "metadata": {
        "id": "w7lBGATB91jE"
      }
    },
    {
      "cell_type": "code",
      "source": [
        "# Example of a nested function\n",
        "def outer_function(text):\n",
        "    def inner_function():\n",
        "        print(text)\n",
        "    inner_function()\n",
        "\n",
        "outer_function(\"Hello from the inner function!\")  # Output: Hello from the inner function!"
      ],
      "metadata": {
        "id": "qVfLhJYr96Cb",
        "colab": {
          "base_uri": "https://localhost:8080/"
        },
        "outputId": "32f0330d-2f22-4614-f315-5bdf01ce2adc"
      },
      "execution_count": 8,
      "outputs": [
        {
          "output_type": "stream",
          "name": "stdout",
          "text": [
            "Hello from the inner function!\n"
          ]
        }
      ]
    },
    {
      "cell_type": "markdown",
      "source": [
        "**Scope**\n",
        "\n",
        "Scope refers to the visibility and lifetime of variables. Variables defined inside a function are local to that function and cannot be accessed outside.\n",
        "\n"
      ],
      "metadata": {
        "id": "RK-xCMVR97F1"
      }
    },
    {
      "cell_type": "code",
      "source": [
        "# Example of scope\n",
        "def my_function():\n",
        "    local_variable = 10\n",
        "    print(\"Inside the function:\", local_variable)\n",
        "\n",
        "my_function()  # Output: Inside the function: 10\n",
        "# print(local_variable)  # This will cause an error because local_variable is not accessible here"
      ],
      "metadata": {
        "id": "qC7xOahl9-Y7",
        "colab": {
          "base_uri": "https://localhost:8080/"
        },
        "outputId": "4b28111e-6672-4ba1-a3a2-273f62bd4e40"
      },
      "execution_count": 9,
      "outputs": [
        {
          "output_type": "stream",
          "name": "stdout",
          "text": [
            "Inside the function: 10\n"
          ]
        }
      ]
    },
    {
      "cell_type": "markdown",
      "source": [
        "**Conclusion**\n",
        "\n",
        "In this module, we explored the concepts of modularity and flexibility in Python. We learned how to define and use functions, pass parameters, and return values. Functions are a fundamental aspect of writing organized and maintainable code, allowing us to break down complex tasks into manageable pieces. Understanding these concepts will greatly enhance your programming skills and make your code more efficient and reusable. Keep practicing by writing your own functions to solve various problems!\n",
        "\n"
      ],
      "metadata": {
        "id": "F3aTfyTY9_xO"
      }
    }
  ]
}