{
  "nbformat": 4,
  "nbformat_minor": 0,
  "metadata": {
    "colab": {
      "provenance": [],
      "authorship_tag": "ABX9TyODmyD+wUZdCNkszDyOjJw9",
      "include_colab_link": true
    },
    "kernelspec": {
      "name": "python3",
      "display_name": "Python 3"
    },
    "language_info": {
      "name": "python"
    }
  },
  "cells": [
    {
      "cell_type": "markdown",
      "metadata": {
        "id": "view-in-github",
        "colab_type": "text"
      },
      "source": [
        "<a href=\"https://colab.research.google.com/github/SCS-Technology-and-Innovation/IntroComp/blob/main/combinatorics.ipynb\" target=\"_parent\"><img src=\"https://colab.research.google.com/assets/colab-badge.svg\" alt=\"Open In Colab\"/></a>"
      ]
    },
    {
      "cell_type": "markdown",
      "source": [
        "# Computational mathematics\t  \n"
      ],
      "metadata": {
        "id": "49JGRT1iUdjR"
      }
    },
    {
      "cell_type": "markdown",
      "source": [
        " ## Sets and permutations\n",
        "\n",
        "### Defining sets"
      ],
      "metadata": {
        "id": "zmInRPMWOHKN"
      }
    },
    {
      "cell_type": "code",
      "execution_count": 37,
      "metadata": {
        "id": "gp_INcY2UcHu",
        "outputId": "d1ef7ea6-f3c8-44f7-98db-d88ea68e098f",
        "colab": {
          "base_uri": "https://localhost:8080/"
        }
      },
      "outputs": [
        {
          "output_type": "stream",
          "name": "stdout",
          "text": [
            "True\n",
            "False\n",
            "False\n",
            "True\n"
          ]
        }
      ],
      "source": [
        "S = {1, 2, 5, 7} # define a set with initial elements contained in it\n",
        "print(1 in S) # check whether a set contains a value\n",
        "print(3 in S)\n",
        "print(not 2 in S) # check whether a set does NOT contain a value (just add a negation)\n",
        "print(4 not in S) # you can place the negation in two ways :)"
      ]
    },
    {
      "cell_type": "markdown",
      "source": [
        "In mathematical notation, the symbols are $a \\in A$ when element $a$ belongs to a set $A$ and $a \\notin A$ when it does not."
      ],
      "metadata": {
        "id": "vnBBZ-SoSWtQ"
      }
    },
    {
      "cell_type": "markdown",
      "source": [
        "### Adding elements into a set"
      ],
      "metadata": {
        "id": "oYMY4jlNQP_s"
      }
    },
    {
      "cell_type": "code",
      "source": [
        "print(len(S)) # the cardinality of the set (i.e., the number of elements it contains)\n",
        "S.add(4) # add a new element\n",
        "print(len(S)) # the cardinality increases\n",
        "S.add(2) # add an already-present value\n",
        "print(len(S)) # nothing happens to the cardinality"
      ],
      "metadata": {
        "id": "-VB8t0s7OiL_",
        "outputId": "3836cfa4-5f46-47e4-c683-e88bdfe29b98",
        "colab": {
          "base_uri": "https://localhost:8080/"
        }
      },
      "execution_count": 38,
      "outputs": [
        {
          "output_type": "stream",
          "name": "stdout",
          "text": [
            "4\n",
            "5\n",
            "5\n"
          ]
        }
      ]
    },
    {
      "cell_type": "code",
      "source": [
        "T = {12, 45, 25}\n",
        "S.update(T)\n",
        "print(len(S))"
      ],
      "metadata": {
        "id": "4Z-XetFfQIpf",
        "outputId": "8f335fb4-2409-4ad6-cb89-1a28f77a584d",
        "colab": {
          "base_uri": "https://localhost:8080/"
        }
      },
      "execution_count": 39,
      "outputs": [
        {
          "output_type": "stream",
          "name": "stdout",
          "text": [
            "8\n"
          ]
        }
      ]
    },
    {
      "cell_type": "markdown",
      "source": [
        "Since a set **either** contains a value **or** it does *not* contain a value, there is no concept of \"element multiplicity\" in a set. Adding elements *already* present does not alter the cardinality of a set.\n",
        "\n",
        "### Set operations"
      ],
      "metadata": {
        "id": "LiJydnpSPGvd"
      }
    },
    {
      "cell_type": "code",
      "source": [
        "A = {'a', 'e', 'i', 'o'}\n",
        "B = { 'k', 'l', 'p', 'r'}\n",
        "print(A | B)\n",
        "C = A.union(B) # make a set that contains everything in A and also everyhing in B\n",
        "print(C == B | A)"
      ],
      "metadata": {
        "id": "9IJ_EzD8PUc3",
        "outputId": "902f9ad6-0e69-4a8d-884f-7bdca08f930d",
        "colab": {
          "base_uri": "https://localhost:8080/"
        }
      },
      "execution_count": 40,
      "outputs": [
        {
          "output_type": "stream",
          "name": "stdout",
          "text": [
            "{'k', 'p', 'l', 'o', 'r', 'e', 'a', 'i'}\n",
            "True\n"
          ]
        }
      ]
    },
    {
      "cell_type": "markdown",
      "source": [
        "In mathematical notation, the **union** of two sets $A$ and $B$ is denoted as $C = A \\cup B$.\n"
      ],
      "metadata": {
        "id": "e2T6tGzNSjz1"
      }
    },
    {
      "cell_type": "code",
      "source": [
        "print(C & A)\n",
        "D = A.intersection(C) # make a set with the elements that are in BOTH of the sets\n",
        "print(C & A == D)\n",
        "print(D == A)\n",
        "print(D == C)"
      ],
      "metadata": {
        "id": "kbdaDiyqPk5l",
        "outputId": "25ed0ebf-c580-4598-bb2a-dad4265b0e58",
        "colab": {
          "base_uri": "https://localhost:8080/"
        }
      },
      "execution_count": 41,
      "outputs": [
        {
          "output_type": "stream",
          "name": "stdout",
          "text": [
            "{'a', 'i', 'o', 'e'}\n",
            "True\n",
            "True\n",
            "False\n"
          ]
        }
      ]
    },
    {
      "cell_type": "markdown",
      "source": [
        "For **intersection**, mathematics write $A \\cap B$.\n",
        "\n",
        "When two sets contain the same elements, they are equal: $A = D$.\n",
        "\n",
        "When one set contains something the other does not, they are unequal: $D \\neq C$."
      ],
      "metadata": {
        "id": "a20tR3FWStfh"
      }
    },
    {
      "cell_type": "code",
      "source": [
        "A & B # an intesection may be empty when the sets have no common elements"
      ],
      "metadata": {
        "id": "VY6HkKqGTS0O",
        "outputId": "d49c97de-4852-4ce1-e39e-c26e25a4bff0",
        "colab": {
          "base_uri": "https://localhost:8080/"
        }
      },
      "execution_count": 42,
      "outputs": [
        {
          "output_type": "execute_result",
          "data": {
            "text/plain": [
              "set()"
            ]
          },
          "metadata": {},
          "execution_count": 42
        }
      ]
    },
    {
      "cell_type": "markdown",
      "source": [
        "The **empty** set in mathematics is denoted as $\\emptyset$."
      ],
      "metadata": {
        "id": "v9i_blpMTXmD"
      }
    },
    {
      "cell_type": "code",
      "source": [
        "C.update('x', 'z')\n",
        "print(C)\n",
        "A.add('y')\n",
        "E = C.difference(A)\n",
        "F = A - C\n",
        "print('in C but not in A', E)\n",
        "print('in A but not in C', F)\n",
        "\n",
        "print(E == F) # this is NOT a commutative operator"
      ],
      "metadata": {
        "id": "9QxC1ZAWQYgb",
        "outputId": "bc973691-6497-4ff1-9e65-16d59da1d3eb",
        "colab": {
          "base_uri": "https://localhost:8080/"
        }
      },
      "execution_count": 43,
      "outputs": [
        {
          "output_type": "stream",
          "name": "stdout",
          "text": [
            "{'k', 'p', 'l', 'x', 'o', 'r', 'e', 'a', 'i', 'z'}\n",
            "in C but not in A {'k', 'p', 'l', 'x', 'r', 'z'}\n",
            "in A but not in C {'y'}\n",
            "False\n"
          ]
        }
      ]
    },
    {
      "cell_type": "markdown",
      "source": [
        "In math, this would be denoted as $A \\setminus B$."
      ],
      "metadata": {
        "id": "QJ6NxEFxSzpr"
      }
    },
    {
      "cell_type": "markdown",
      "source": [
        "### Subsets and supersets"
      ],
      "metadata": {
        "id": "-MO4YPo9Q3AL"
      }
    },
    {
      "cell_type": "code",
      "source": [
        "print(F.issubset(A)) # is all of F also in A\n",
        "print(C.issuperset(B)) # does B contain all of C\n",
        "print(E.issubset(D))\n",
        "\n",
        "print(A.issuperset(F))\n",
        "print(B.issubset(C))\n",
        "print(D.issuperset(E))"
      ],
      "metadata": {
        "id": "pPD_LKtOQ41J",
        "outputId": "b8a91fda-056e-4318-ada3-6defa670af5a",
        "colab": {
          "base_uri": "https://localhost:8080/"
        }
      },
      "execution_count": 44,
      "outputs": [
        {
          "output_type": "stream",
          "name": "stdout",
          "text": [
            "True\n",
            "True\n",
            "False\n",
            "True\n",
            "True\n",
            "False\n"
          ]
        }
      ]
    },
    {
      "cell_type": "markdown",
      "source": [
        "\n",
        "*   $A \\subset B$ means that $A$ is a **subset** of $B$.\n",
        "*   $A \\subseteq B$ means that $A$ and $B$ might be the same set.\n",
        "*   Hence, writing $A \\subset B$ implies that $B \\setminus A \\neq \\emptyset$.\n",
        "*   Similarly, for $X$ being a superset of $Y$ we can write either $X \\supset Y$ or $X \\supseteq Y$ depending on whether we wish to entertain the possibility of $X$ and $Y$ being equal.\n",
        "\n",
        "\n"
      ],
      "metadata": {
        "id": "ErBu268BS4GM"
      }
    },
    {
      "cell_type": "code",
      "source": [],
      "metadata": {
        "id": "-zGVgEgGQAW-"
      },
      "execution_count": 44,
      "outputs": []
    }
  ]
}