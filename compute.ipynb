{
  "nbformat": 4,
  "nbformat_minor": 0,
  "metadata": {
    "colab": {
      "provenance": []
    },
    "kernelspec": {
      "name": "python3",
      "display_name": "Python 3"
    },
    "language_info": {
      "name": "python"
    }
  },
  "cells": [
    {
      "cell_type": "markdown",
      "source": [
        "# Computation Basics with Python\n",
        "\n",
        "**Data Operations**\n",
        "\n",
        "Data operations refer to the various ways in which data can be manipulated and managed within a program. Common operations include:\n",
        "* reading data (accessing and retrieving data from storage or input)\n",
        "* writing data (storing data in a specific format or location)\n",
        "* modifying data (changing the values or structure of existing data)\n",
        "* deleting data (removing data from a data structure or storage).\n",
        "\n",
        "These are also known as CRUD (Create, Read, Update, Delete) operations. The operations are fundamental for handling and processing information, allowing programs to perform tasks such as updating records, processing user inputs, and managing collections of items efficiently.\n",
        "\n",
        "1. Reading Data: Accessing and retrieving data from storage or input.\n"
      ],
      "metadata": {
        "id": "V0pi7Ldc0nUG"
      }
    },
    {
      "cell_type": "code",
      "source": [
        "name = input(\"Enter your name: \")"
      ],
      "metadata": {
        "colab": {
          "base_uri": "https://localhost:8080/"
        },
        "id": "QR9s7J7yFgrX",
        "outputId": "4f6421ed-84d1-4ac8-a210-fb8fdb676307"
      },
      "execution_count": 9,
      "outputs": [
        {
          "name": "stdout",
          "output_type": "stream",
          "text": [
            "Enter your name: potato\n"
          ]
        }
      ]
    },
    {
      "cell_type": "markdown",
      "source": [
        "2. Writing Data: Storing data in a specific format or location."
      ],
      "metadata": {
        "id": "QoX90GgpFh2K"
      }
    },
    {
      "cell_type": "code",
      "source": [
        "print(\"Hello, \" + name)"
      ],
      "metadata": {
        "colab": {
          "base_uri": "https://localhost:8080/"
        },
        "id": "bh1PGgyUFjbp",
        "outputId": "213c336e-63f7-4654-c323-21f1868c11b5"
      },
      "execution_count": 10,
      "outputs": [
        {
          "output_type": "stream",
          "name": "stdout",
          "text": [
            "Hello, potato\n"
          ]
        }
      ]
    },
    {
      "cell_type": "markdown",
      "source": [
        "3. Modifying Data: Changing the values or structure of existing data.\n"
      ],
      "metadata": {
        "id": "V4UQPOv6FkMs"
      }
    },
    {
      "cell_type": "code",
      "source": [
        "fruits = [\"Apple\", \"Banana\", \"Cherry\"]\n",
        "print(\"Before: \" + fruits[0])\n",
        "fruits[0] = \"Mango\"\n",
        "print(\"After: \" + fruits[0])"
      ],
      "metadata": {
        "colab": {
          "base_uri": "https://localhost:8080/"
        },
        "id": "IzzKibXnFlPD",
        "outputId": "4a96e594-65f5-452d-de2f-53aff7a6f826"
      },
      "execution_count": 16,
      "outputs": [
        {
          "output_type": "stream",
          "name": "stdout",
          "text": [
            "Before: Apple\n",
            "After: Mango\n"
          ]
        }
      ]
    },
    {
      "cell_type": "markdown",
      "source": [
        "4. Deleting Data: Removing data from a data structure or storage.\n"
      ],
      "metadata": {
        "id": "zSJ_q9E7Fmzx"
      }
    },
    {
      "cell_type": "code",
      "source": [
        "del fruits[0]"
      ],
      "metadata": {
        "id": "k7FP8iXnFntC"
      },
      "execution_count": 18,
      "outputs": []
    },
    {
      "cell_type": "markdown",
      "source": [
        "#**Why Python Syntax is Important**\n",
        "\n",
        "**Syntax**\n",
        "\n",
        "Python syntax refers to the set of rules that defines how a Python program is written and interpreted. It is designed to be easy to read and understand, which makes Python a great language for beginners.\n",
        "\n",
        "**Indentation and Tabs**\n",
        "\n",
        "In Python, indentation (using spaces or tabs) is crucial because it defines the structure of the code. Unlike many other languages that use curly braces {} to denote code blocks, Python uses indentation."
      ],
      "metadata": {
        "id": "x83YLDsVJ58N"
      }
    },
    {
      "cell_type": "code",
      "source": [
        "condition = True\n",
        "if condition:\n",
        "    # This indented block (a tab) is part of the if statement\n",
        "    print(\"Condition is true\")"
      ],
      "metadata": {
        "colab": {
          "base_uri": "https://localhost:8080/"
        },
        "id": "CWGAuqz3KGg5",
        "outputId": "45c1195c-46eb-470d-bceb-634450041b33"
      },
      "execution_count": 26,
      "outputs": [
        {
          "output_type": "stream",
          "name": "stdout",
          "text": [
            "Condition is true\n"
          ]
        }
      ]
    },
    {
      "cell_type": "code",
      "source": [
        "condition = True\n",
        "if condition:\n",
        "    # This indented block (a tab) is part of the if statement\n",
        "print(\"Condition is true\")"
      ],
      "metadata": {
        "colab": {
          "base_uri": "https://localhost:8080/",
          "height": 106
        },
        "id": "W4BbX41hMwMw",
        "outputId": "4a71cb0d-a7e6-406f-8612-55e5084f3664"
      },
      "execution_count": 31,
      "outputs": [
        {
          "output_type": "error",
          "ename": "IndentationError",
          "evalue": "expected an indented block after 'if' statement on line 2 (<ipython-input-31-8846030d1891>, line 4)",
          "traceback": [
            "\u001b[0;36m  File \u001b[0;32m\"<ipython-input-31-8846030d1891>\"\u001b[0;36m, line \u001b[0;32m4\u001b[0m\n\u001b[0;31m    print(\"Condition is true\")\u001b[0m\n\u001b[0m    ^\u001b[0m\n\u001b[0;31mIndentationError\u001b[0m\u001b[0;31m:\u001b[0m expected an indented block after 'if' statement on line 2\n"
          ]
        }
      ]
    },
    {
      "cell_type": "markdown",
      "source": [
        "    File \"<ipython-input-31-8846030d1891>\", line 4\n",
        "\n",
        "    print(\"Condition is true\")\n",
        "    ^\n",
        "    IndentationError: expected an indented block after 'if' statement on line 2\n",
        "\n",
        "*IndentationError*: The code is not properly indented, disrupting the expected structure of code blocks.\n",
        "\n",
        "Line 4 is selected at the beginning of `print(\"Condition is true\")` because there is something missing before, so we add the indentation with a tab and the error will be solved.\n",
        "\n",
        "_____\n",
        "\n",
        "**Punctuation**\n",
        "\n",
        "Python uses minimal punctuation, making the code cleaner and easier to read.\n",
        "\n",
        "* Colons (:): Used to start an indented block, like in if, for, and def statements.\n",
        "\n"
      ],
      "metadata": {
        "id": "Pxo-SqX6KH_Z"
      }
    },
    {
      "cell_type": "code",
      "source": [
        "if condition:\n",
        "    print(\"Indented block\")"
      ],
      "metadata": {
        "colab": {
          "base_uri": "https://localhost:8080/"
        },
        "id": "2By-CdVpKUz5",
        "outputId": "afc45adc-b0d7-4034-ceb6-2e5071419b4d"
      },
      "execution_count": 33,
      "outputs": [
        {
          "output_type": "stream",
          "name": "stdout",
          "text": [
            "Indented block\n"
          ]
        }
      ]
    },
    {
      "cell_type": "code",
      "source": [
        "if condition\n",
        "  print(\"Indented block\")"
      ],
      "metadata": {
        "colab": {
          "base_uri": "https://localhost:8080/",
          "height": 106
        },
        "id": "XJj0lZyLS_Ba",
        "outputId": "6efce77b-ea34-4a67-d08e-aa9ac11c9543"
      },
      "execution_count": 34,
      "outputs": [
        {
          "output_type": "error",
          "ename": "SyntaxError",
          "evalue": "expected ':' (<ipython-input-34-2810b2cc4279>, line 1)",
          "traceback": [
            "\u001b[0;36m  File \u001b[0;32m\"<ipython-input-34-2810b2cc4279>\"\u001b[0;36m, line \u001b[0;32m1\u001b[0m\n\u001b[0;31m    if condition\u001b[0m\n\u001b[0m                 ^\u001b[0m\n\u001b[0;31mSyntaxError\u001b[0m\u001b[0;31m:\u001b[0m expected ':'\n"
          ]
        }
      ]
    },
    {
      "cell_type": "markdown",
      "source": [
        "    File \"<ipython-input-34-2810b2cc4279>\", line 1\n",
        "    if condition\n",
        "                 ^\n",
        "    SyntaxError: expected ':'\n",
        "\n",
        "*SyntaxError*: The code contains invalid syntax that the interpreter cannot parse.\n",
        "_____\n",
        "\n",
        "Line 1 is selected, the END of the `if condition` expected a syntax ':', the correct syntax would be `if condition:`\n",
        "\n",
        "\n",
        "\n",
        "\n",
        "\n",
        "\n"
      ],
      "metadata": {
        "id": "byi3_p2CTCS-"
      }
    },
    {
      "cell_type": "markdown",
      "source": [
        "* Parentheses (()): Used for function calls and definitions.\n"
      ],
      "metadata": {
        "id": "Zt0U8DAFKXnk"
      }
    },
    {
      "cell_type": "code",
      "source": [
        "print(\"Hello, world!\")\n",
        "def greet(name):\n",
        "    return \"Hello, \" + name"
      ],
      "metadata": {
        "colab": {
          "base_uri": "https://localhost:8080/"
        },
        "id": "nVKXZO7MKY3X",
        "outputId": "5cd190be-cae6-484a-fbd1-987b7d73352b"
      },
      "execution_count": 4,
      "outputs": [
        {
          "output_type": "stream",
          "name": "stdout",
          "text": [
            "Hello, world!\n"
          ]
        }
      ]
    },
    {
      "cell_type": "markdown",
      "source": [
        "**Case Sensitivity**\n",
        "\n",
        "Python is case-sensitive, which means that Variable and variable are considered different identifiers.\n"
      ],
      "metadata": {
        "id": "_fYocNYCKa58"
      }
    },
    {
      "cell_type": "code",
      "source": [
        "name = \"Alice\"\n",
        "Name = \"Bob\"\n",
        "name = \"Chris\"\n",
        "print(name)  # Output: Alice\n",
        "print(Name)  # Output: Bob"
      ],
      "metadata": {
        "colab": {
          "base_uri": "https://localhost:8080/"
        },
        "id": "JzyRCL1wKcbn",
        "outputId": "7cd918e2-c5e6-4787-bc34-43dda1c7b6bb"
      },
      "execution_count": 35,
      "outputs": [
        {
          "output_type": "stream",
          "name": "stdout",
          "text": [
            "Chris\n",
            "Bob\n"
          ]
        }
      ]
    },
    {
      "cell_type": "markdown",
      "source": [
        "There are no errors here but notice how:\n",
        "1. `name` and `Name` are two different variables because Python distinguishes between lowercase and uppercase letters.\n",
        "2. `name` is assigned the value \"Chris\" because it was the last assigning to `name`.\n",
        "3. `Name` is assigned the value \"Bob\".\n",
        "4. When print(name) is called, it outputs the value of `name`, which is \"Chris\".\n",
        "5. When print(Name) is called, it outputs the value of `Name`, which is \"Bob\"."
      ],
      "metadata": {
        "id": "6s2d3s-ma-nX"
      }
    },
    {
      "cell_type": "markdown",
      "source": [
        "**Keywords and Identifiers**\n",
        "\n",
        "* Keywords: Reserved words that have special meaning in Python, like if, else, for, while, def, and return. They must be written in lowercase.\n"
      ],
      "metadata": {
        "id": "nMDiP-2LKf-W"
      }
    },
    {
      "cell_type": "code",
      "source": [
        "if True:\n",
        "    print(\"This is a keyword example\")"
      ],
      "metadata": {
        "colab": {
          "base_uri": "https://localhost:8080/"
        },
        "id": "TjJRS1jBKivV",
        "outputId": "f53f64b6-8c76-46fa-e51b-fe01f4a7b117"
      },
      "execution_count": 2,
      "outputs": [
        {
          "output_type": "stream",
          "name": "stdout",
          "text": [
            "This is a keyword example\n"
          ]
        }
      ]
    },
    {
      "cell_type": "markdown",
      "source": [
        "* Identifiers: Names given to variables, functions, and other objects. They can include letters, digits, and underscores, but cannot start with a digit.\n"
      ],
      "metadata": {
        "id": "FthT_lCOKj6a"
      }
    },
    {
      "cell_type": "markdown",
      "source": [
        "# Constants and Variables\n",
        "\n",
        "**Constants**\n",
        "\n",
        "Constants are values that do not change. Think of them as fixed numbers. For example, the number of hours in a day is always 24."
      ],
      "metadata": {
        "id": "rRcpFHzbFflh"
      }
    },
    {
      "cell_type": "code",
      "execution_count": null,
      "metadata": {
        "colab": {
          "base_uri": "https://localhost:8080/"
        },
        "id": "hlguALMb0i58",
        "outputId": "9e6b44e2-f9fd-42ec-db59-a0e301894dbd"
      },
      "outputs": [
        {
          "output_type": "stream",
          "name": "stdout",
          "text": [
            "Hours in a day: 24\n"
          ]
        }
      ],
      "source": [
        "# In Python, we use uppercase letters to indicate constants\n",
        "HOURS_IN_A_DAY = 24\n",
        "\n",
        "print(\"Hours in a day:\", HOURS_IN_A_DAY)"
      ]
    },
    {
      "cell_type": "markdown",
      "source": [
        "**Variables**\n",
        "\n",
        "Variables are used to store data that can change. Think of them as containers that hold information.\n",
        "\n"
      ],
      "metadata": {
        "id": "7kPEFDyy0v6a"
      }
    },
    {
      "cell_type": "code",
      "source": [
        "# Let's store the age of a person in a variable\n",
        "age = 25\n",
        "\n",
        "print(\"Age:\", age)\n",
        "\n",
        "# We can change the value of a variable\n",
        "age = 26\n",
        "\n",
        "print(\"New Age:\", age)"
      ],
      "metadata": {
        "colab": {
          "base_uri": "https://localhost:8080/"
        },
        "id": "WvYE3Sqe1Buq",
        "outputId": "35c836ea-d7d3-4c36-fdf1-b43c880023c5"
      },
      "execution_count": null,
      "outputs": [
        {
          "output_type": "stream",
          "name": "stdout",
          "text": [
            "Age: 25\n",
            "New Age: 26\n"
          ]
        }
      ]
    },
    {
      "cell_type": "markdown",
      "source": [
        "**Variables and Memory**\n",
        "\n",
        "When we create a variable, Python stores it in memory. Memory is like a big storage room where all our data is kept while the program runs."
      ],
      "metadata": {
        "id": "kTRFvUCJ1DHr"
      }
    },
    {
      "cell_type": "code",
      "source": [
        "# Storing a name in a variable\n",
        "name = \"Alice\"\n",
        "\n",
        "print(\"Name:\", name)"
      ],
      "metadata": {
        "colab": {
          "base_uri": "https://localhost:8080/"
        },
        "id": "CVpeDTPD1CrZ",
        "outputId": "c721b170-ff9c-4da4-8a53-18954bb5f4d6"
      },
      "execution_count": null,
      "outputs": [
        {
          "output_type": "stream",
          "name": "stdout",
          "text": [
            "Name: Alice\n"
          ]
        }
      ]
    },
    {
      "cell_type": "markdown",
      "source": [
        "**Lists**\n",
        "\n",
        "Lists are used to store multiple items in a single variable. Think of a list as a collection of items.\n",
        "\n"
      ],
      "metadata": {
        "id": "-CLs2DaD1iyp"
      }
    },
    {
      "cell_type": "code",
      "source": [
        "# Creating a list of fruits\n",
        "fruits = [\"Apple\", \"Banana\", \"Cherry\"]\n",
        "\n",
        "print(\"Fruits:\", fruits)\n",
        "\n",
        "# Accessing items in a list\n",
        "print(\"First fruit:\", fruits[0])\n",
        "print(\"Second fruit:\", fruits[1])\n",
        "print(\"Third fruit:\", fruits[2])\n",
        "\n",
        "# Adding an item to a list\n",
        "fruits.append(\"Date\")\n",
        "\n",
        "print(\"Updated fruits:\", fruits)\n",
        "\n",
        "# Removing an item from a list\n",
        "fruits.remove(\"Banana\")\n",
        "\n",
        "print(\"Fruits after removal:\", fruits)"
      ],
      "metadata": {
        "colab": {
          "base_uri": "https://localhost:8080/"
        },
        "id": "-crSfGV21lgf",
        "outputId": "3a7e12d9-4a4f-47ad-d24c-17751e75f4de"
      },
      "execution_count": null,
      "outputs": [
        {
          "output_type": "stream",
          "name": "stdout",
          "text": [
            "Fruits: ['Apple', 'Banana', 'Cherry']\n",
            "First fruit: Apple\n",
            "Second fruit: Banana\n",
            "Third fruit: Cherry\n",
            "Updated fruits: ['Apple', 'Banana', 'Cherry', 'Date']\n",
            "Fruits after removal: ['Apple', 'Cherry', 'Date']\n"
          ]
        }
      ]
    },
    {
      "cell_type": "markdown",
      "source": [
        "**Shuffling a List**\n",
        "\n",
        "Sometimes, we might want to mix up the items in a list randomly. This is called shuffling.\n",
        "\n"
      ],
      "metadata": {
        "id": "za1AFU8q1n4y"
      }
    },
    {
      "cell_type": "code",
      "source": [
        "from random import shuffle\n",
        "\n",
        "# Shuffling the list of fruits\n",
        "shuffle(fruits)\n",
        "\n",
        "print(\"Shuffled fruits:\", fruits)"
      ],
      "metadata": {
        "colab": {
          "base_uri": "https://localhost:8080/"
        },
        "id": "V_MQfCdS1qgq",
        "outputId": "aa6dbbc0-54cd-43a2-a39d-499c21acb88b"
      },
      "execution_count": null,
      "outputs": [
        {
          "output_type": "stream",
          "name": "stdout",
          "text": [
            "Shuffled fruits: ['Date', 'Cherry', 'Apple']\n"
          ]
        }
      ]
    },
    {
      "cell_type": "markdown",
      "source": [
        "**Picking a Random Item from a List**\n",
        "\n",
        "We can also pick a random item from a list.\n",
        "\n"
      ],
      "metadata": {
        "id": "1rjLBrMt1uAk"
      }
    },
    {
      "cell_type": "code",
      "source": [
        "from random import choice\n",
        "\n",
        "# Picking a random fruit\n",
        "random_fruit = choice(fruits)\n",
        "\n",
        "print(\"Random fruit:\", random_fruit)"
      ],
      "metadata": {
        "colab": {
          "base_uri": "https://localhost:8080/"
        },
        "id": "F9UR3mqG1teU",
        "outputId": "69ec59a6-0dca-4ebb-afce-e2ce96bc6404"
      },
      "execution_count": null,
      "outputs": [
        {
          "output_type": "stream",
          "name": "stdout",
          "text": [
            "Random fruit: Cherry\n"
          ]
        }
      ]
    },
    {
      "cell_type": "markdown",
      "source": [
        "**Conclusion**\n",
        "\n",
        "You've taken your first steps into the world of programming. In this module, we learned about constants, variables, memory, operators, and lists. We also explored some random operations using the random module. Keep practicing and experimenting with these concepts to become more comfortable with coding."
      ],
      "metadata": {
        "id": "GixK6ddl1yJY"
      }
    },
    {
      "cell_type": "markdown",
      "source": [
        "#OPTIONAL ADDITIONAL CONTENT: Review of Module 2 in Python:\n",
        "\n",
        "**Exploring Python Examples**\n",
        "\n",
        "As you move forward, it's essential to see how Python can be used to handle various tasks and concepts. While Module 3 focused on the fundamentals of computation, we have some additional optional content that showcases the versatility of Python through reviewing the examples related to encoding, color schemes, and network addresses seen in Module 2. These examples provide a broader context and demonstrate Python's capability to manage different types of data and operations. Feel free to explore these examples to enrich your understanding and see Python in action across diverse applications.\n",
        "\n"
      ],
      "metadata": {
        "id": "1b0Pnoq6eMXy"
      }
    },
    {
      "cell_type": "code",
      "source": [
        "import matplotlib.pyplot as plt\n",
        "import numpy as np\n",
        "\n",
        "# Create an image with three colored pixels\n",
        "image = np.zeros((1, 3, 3), dtype=np.uint8)\n",
        "\n",
        "# Set colors: Red, Green, Blue\n",
        "image[0, 0] = [255, 0, 0]  # Red\n",
        "image[0, 1] = [0, 255, 0]  # Green\n",
        "image[0, 2] = [0, 0, 255]  # Blue\n",
        "\n",
        "plt.imshow(image)\n",
        "plt.axis('off')\n",
        "plt.show()"
      ],
      "metadata": {
        "colab": {
          "base_uri": "https://localhost:8080/",
          "height": 202
        },
        "id": "NE0skUaefHa8",
        "outputId": "b4647074-53f4-43ad-b631-21c30358e1fa"
      },
      "execution_count": null,
      "outputs": [
        {
          "output_type": "display_data",
          "data": {
            "text/plain": [
              "<Figure size 640x480 with 1 Axes>"
            ],
            "image/png": "[encoded data removed]"
          },
          "metadata": {}
        }
      ]
    },
    {
      "cell_type": "markdown",
      "source": [
        "**Explanation:**\n",
        "\n",
        "* Libraries: Import matplotlib.pyplot for displaying images and numpy for creating and manipulating image data.\n",
        "* Image Creation: Create a 1x3 array (image) with three values per pixel (RGB), initialized to zero.\n",
        "* Setting Colors: Assign RGB values to each pixel to create red, green, and blue colors.\n",
        "* Displaying Image: Use plt.imshow to display the image and plt.axis('off') to hide the axis.\n"
      ],
      "metadata": {
        "id": "zYmBxSmLfIaz"
      }
    },
    {
      "cell_type": "code",
      "source": [
        "import matplotlib.pyplot as plt\n",
        "import numpy as np\n",
        "\n",
        "# Create an image with three colored pixels and transparency\n",
        "image = np.zeros((1, 3, 4), dtype=np.uint8)\n",
        "\n",
        "# Set colors: Red, Green, Blue with transparency\n",
        "image[0, 0] = [255, 0, 0, 128]  # Red, semi-transparent\n",
        "image[0, 1] = [0, 255, 0, 128]  # Green, semi-transparent\n",
        "image[0, 2] = [0, 0, 255, 128]  # Blue, semi-transparent\n",
        "\n",
        "plt.imshow(image)\n",
        "plt.axis('off')\n",
        "plt.show()"
      ],
      "metadata": {
        "colab": {
          "base_uri": "https://localhost:8080/",
          "height": 202
        },
        "id": "AzRS_sxefQKD",
        "outputId": "1db9f28e-5b75-4030-f8fb-d3657cfb4e58"
      },
      "execution_count": null,
      "outputs": [
        {
          "output_type": "display_data",
          "data": {
            "text/plain": [
              "<Figure size 640x480 with 1 Axes>"
            ],
            "image/png": "[encoded data removed]"
          },
          "metadata": {}
        }
      ]
    },
    {
      "cell_type": "markdown",
      "source": [
        "**Explanation:**\n",
        "\n",
        "* Image Creation: Create a 1x3 array with four values per pixel (RGBA), initialized to zero.\n",
        "* Setting Colors: Assign RGBA values to each pixel, adding transparency (alpha) to each color.\n",
        "* Displaying Image: Use plt.imshow to display the image and plt.axis('off') to hide the axis.\n"
      ],
      "metadata": {
        "id": "_S77hiiafTay"
      }
    },
    {
      "cell_type": "code",
      "source": [
        "# Example of an IPv4 address\n",
        "ipv4_address = \"192.168.1.1\"\n",
        "print(\"IPv4 Address:\", ipv4_address)"
      ],
      "metadata": {
        "colab": {
          "base_uri": "https://localhost:8080/"
        },
        "id": "w6Jli7-SfS52",
        "outputId": "20436e72-583f-4a18-bd68-354c35198af4"
      },
      "execution_count": null,
      "outputs": [
        {
          "output_type": "stream",
          "name": "stdout",
          "text": [
            "IPv4 Address: 192.168.1.1\n"
          ]
        }
      ]
    },
    {
      "cell_type": "markdown",
      "source": [
        "**Explanation:**\n",
        "\n",
        "* Assigning IPv4 Address: Assign the string \"192.168.1.1\" to the variable ipv4_address.\n",
        "* Printing Address: Use print to display the IPv4 address.\n"
      ],
      "metadata": {
        "id": "fHFibQmVfc5-"
      }
    },
    {
      "cell_type": "code",
      "source": [
        "# Example of an IPv6 address\n",
        "ipv6_address = \"2001:0db8:85a3:0000:0000:8a2e:0370:7334\"\n",
        "print(\"IPv6 Address:\", ipv6_address)"
      ],
      "metadata": {
        "colab": {
          "base_uri": "https://localhost:8080/"
        },
        "id": "5ceVow5zfcOX",
        "outputId": "5d8a79e2-699a-43ea-f267-9ddf2185bcdf"
      },
      "execution_count": null,
      "outputs": [
        {
          "output_type": "stream",
          "name": "stdout",
          "text": [
            "IPv6 Address: 2001:0db8:85a3:0000:0000:8a2e:0370:7334\n"
          ]
        }
      ]
    },
    {
      "cell_type": "markdown",
      "source": [
        "**Explanation:**\n",
        "\n",
        "* Assigning IPv6 Address: Assign the string\n",
        "* \"2001:0db8:85a3:0000:0000:8a2e:0370:7334\" to the variable ipv6_address.\n",
        "Printing Address: Use print to display the IPv6 address.\n"
      ],
      "metadata": {
        "id": "0kJIASwmgTHy"
      }
    },
    {
      "cell_type": "code",
      "source": [
        "# Example of ASCII encoding\n",
        "ascii_character = 'A'\n",
        "ascii_code = ord(ascii_character)\n",
        "print(f\"ASCII code for '{ascii_character}' is {ascii_code}\")"
      ],
      "metadata": {
        "colab": {
          "base_uri": "https://localhost:8080/"
        },
        "id": "dSkliMqwgSpd",
        "outputId": "8fe65141-0db0-49d5-e673-05be741aa58b"
      },
      "execution_count": null,
      "outputs": [
        {
          "output_type": "stream",
          "name": "stdout",
          "text": [
            "ASCII code for 'A' is 65\n"
          ]
        }
      ]
    },
    {
      "cell_type": "markdown",
      "source": [
        "**Explanation:**\n",
        "\n",
        "* Assigning Character: Assign the character 'A' to the variable ascii_character.\n",
        "* Getting ASCII Code: Use ord(ascii_character) to get the ASCII code of 'A' and assign it to ascii_code.\n",
        "* Printing ASCII Code: Use print to display the ASCII code of the character.\n"
      ],
      "metadata": {
        "id": "7EXN2LSOgdVp"
      }
    },
    {
      "cell_type": "code",
      "source": [
        "# Example of Unicode encoding\n",
        "unicode_character = '你'\n",
        "unicode_code = ord(unicode_character)\n",
        "print(f\"Unicode code for '{unicode_character}' is {unicode_code}\")"
      ],
      "metadata": {
        "colab": {
          "base_uri": "https://localhost:8080/"
        },
        "id": "xLSTMlr_gald",
        "outputId": "fa57234d-4afe-40e1-f00e-c4e274f4fba7"
      },
      "execution_count": null,
      "outputs": [
        {
          "output_type": "stream",
          "name": "stdout",
          "text": [
            "Unicode code for '你' is 20320\n"
          ]
        }
      ]
    },
    {
      "cell_type": "markdown",
      "source": [
        "**Explanation:**\n",
        "\n",
        "* Assigning Character: Assign the Chinese character '你' to the variable unicode_character.\n",
        "* Getting Unicode Code: Use ord(unicode_character) to get the Unicode code point of '你' and assign it to unicode_code.\n",
        "* Printing Unicode Code: Use print to display the Unicode code point of the character.\n"
      ],
      "metadata": {
        "id": "tXgN2z-hghmU"
      }
    },
    {
      "cell_type": "code",
      "source": [
        "# Example of UTF-8 encoding\n",
        "unicode_character = '你'\n",
        "utf8_encoded = unicode_character.encode('utf-8')\n",
        "print(f\"UTF-8 encoding for '{unicode_character}' is {utf8_encoded}\")"
      ],
      "metadata": {
        "colab": {
          "base_uri": "https://localhost:8080/"
        },
        "id": "Ezlw4Y-cghEa",
        "outputId": "bdb25358-5849-4a28-f4cb-e6972848976e"
      },
      "execution_count": null,
      "outputs": [
        {
          "output_type": "stream",
          "name": "stdout",
          "text": [
            "UTF-8 encoding for '你' is b'\\xe4\\xbd\\xa0'\n"
          ]
        }
      ]
    },
    {
      "cell_type": "markdown",
      "source": [
        "**Explanation:**\n",
        "\n",
        "* Assigning Character: Assign the Chinese character '你' to the variable unicode_character.\n",
        "* Encoding in UTF-8: Use unicode_character.encode('utf-8') to encode the character in UTF-8 and assign the result to utf8_encoded.\n",
        "* Printing UTF-8 Encoding: Use print to display the UTF-8 encoded byte sequence of the character.\n"
      ],
      "metadata": {
        "id": "px3nsR6AgpK3"
      }
    },
    {
      "cell_type": "code",
      "source": [
        "# Example of Emoji encoding\n",
        "emoji = '😊'\n",
        "emoji_utf8 = emoji.encode('utf-8')\n",
        "print(f\"UTF-8 encoding for '{emoji}' is {emoji_utf8}\")"
      ],
      "metadata": {
        "colab": {
          "base_uri": "https://localhost:8080/"
        },
        "id": "3EA6JzYCgolV",
        "outputId": "b28483cd-978a-4863-ce20-a58c47dcc08d"
      },
      "execution_count": null,
      "outputs": [
        {
          "output_type": "stream",
          "name": "stdout",
          "text": [
            "UTF-8 encoding for '😊' is b'\\xf0\\x9f\\x98\\x8a'\n"
          ]
        }
      ]
    },
    {
      "cell_type": "markdown",
      "source": [
        "**Explanation:**\n",
        "\n",
        "* Assigning Emoji: Assign the emoji '😊' to the variable emoji.\n",
        "* Encoding in UTF-8: Use emoji.encode('utf-8') to encode the emoji in UTF-8 and assign the result to emoji_utf8.\n",
        "* Printing UTF-8 Encoding: Use print to display the UTF-8 encoded byte sequence of the emoji."
      ],
      "metadata": {
        "id": "FKaj0NIYgzty"
      }
    }
  ]
}