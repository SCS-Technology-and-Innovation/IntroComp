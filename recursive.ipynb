{
  "nbformat": 4,
  "nbformat_minor": 0,
  "metadata": {
    "colab": {
      "provenance": []
    },
    "kernelspec": {
      "name": "python3",
      "display_name": "Python 3"
    },
    "language_info": {
      "name": "python"
    }
  },
  "cells": [
    {
      "cell_type": "markdown",
      "source": [
        "# Recursive Structures and Calculations in Python\n",
        "\n",
        "1. **Introduction to Recursion**\n",
        "\n",
        "***What is Recursion?***\n",
        "\n",
        "Recursion is a programming technique where a function calls itself to solve smaller instances of the same problem. It is useful for tasks that can be broken down into similar subtasks, such as traversing hierarchical structures.\n",
        "\n",
        "2. **Basics of Recursive Functions**\n",
        "\n",
        "***Structure of a Recursive Function***\n",
        "\n",
        "A recursive function typically includes:\n",
        "\n",
        "* Base Case: A condition that stops the recursion.\n",
        "* Recursive Case: The function calling itself with a modified argument.\n",
        "\n",
        "Example: Factorial Calculation\n"
      ],
      "metadata": {
        "id": "ZikYpZGy-cGd"
      }
    },
    {
      "cell_type": "code",
      "execution_count": 1,
      "metadata": {
        "id": "QcIAxtgSpvwG",
        "colab": {
          "base_uri": "https://localhost:8080/"
        },
        "outputId": "5043df58-ee5f-4a37-a588-0654739b06cd"
      },
      "outputs": [
        {
          "output_type": "stream",
          "name": "stdout",
          "text": [
            "Factorial of 5: 120\n"
          ]
        }
      ],
      "source": [
        "# Recursive function to calculate factorial\n",
        "def factorial(n):\n",
        "    if n == 1:\n",
        "        return 1  # Base case\n",
        "    else:\n",
        "        return n * factorial(n - 1)  # Recursive case\n",
        "\n",
        "print(\"Factorial of 5:\", factorial(5))  # Output: 120"
      ]
    },
    {
      "cell_type": "markdown",
      "source": [
        "Explanation:\n",
        "\n",
        "* Base Case: if n == 1\n",
        "* Recursive Case: n * factorial(n - 1)\n",
        "\n",
        "\n",
        "3. **Recursive Structures - Trees**\n",
        "\n",
        "**What is a Tree?**\n",
        "\n",
        "A tree is a hierarchical data structure consisting of nodes, with a single node as the root, and each node having zero or more child nodes.\n",
        "\n",
        "**Example: Binary Tree**\n"
      ],
      "metadata": {
        "id": "U3WmjrLJ-zW_"
      }
    },
    {
      "cell_type": "code",
      "source": [
        "class Node:\n",
        "    def __init__(self, value):\n",
        "        self.value = value\n",
        "        self.left = None\n",
        "        self.right = None\n",
        "\n",
        "# Function to traverse a binary tree in order\n",
        "def inorder_traversal(node):\n",
        "    if node:\n",
        "        inorder_traversal(node.left)\n",
        "        print(node.value, end=\" \")\n",
        "        inorder_traversal(node.right)\n",
        "\n",
        "# Creating a simple binary tree\n",
        "root = Node(1)\n",
        "root.left = Node(2)\n",
        "root.right = Node(3)\n",
        "root.left.left = Node(4)\n",
        "root.left.right = Node(5)\n",
        "\n",
        "print(\"Inorder traversal of the binary tree:\")\n",
        "inorder_traversal(root)  # Output: 4 2 5 1 3"
      ],
      "metadata": {
        "id": "wE3kLvNX-25m",
        "colab": {
          "base_uri": "https://localhost:8080/"
        },
        "outputId": "734903d6-b423-434d-e146-705a23ff5eb0"
      },
      "execution_count": 2,
      "outputs": [
        {
          "output_type": "stream",
          "name": "stdout",
          "text": [
            "Inorder traversal of the binary tree:\n",
            "4 2 5 1 3 "
          ]
        }
      ]
    },
    {
      "cell_type": "markdown",
      "source": [
        "4. **Recursive Structures - Indices**\n",
        "\n",
        "**Recursive Function for List Summation**\n"
      ],
      "metadata": {
        "id": "z1101iaw-3xN"
      }
    },
    {
      "cell_type": "code",
      "source": [
        "# Function to sum elements of a list using recursion\n",
        "def sum_list(numbers):\n",
        "    if not numbers:\n",
        "        return 0  # Base case\n",
        "    else:\n",
        "        return numbers[0] + sum_list(numbers[1:])  # Recursive case\n",
        "\n",
        "numbers = [1, 2, 3, 4, 5]\n",
        "print(\"Sum of the list:\", sum_list(numbers))  # Output: 15"
      ],
      "metadata": {
        "id": "cmrepxsc-_FI",
        "colab": {
          "base_uri": "https://localhost:8080/"
        },
        "outputId": "dfa44b0b-3383-44fa-ee58-cca772794d0e"
      },
      "execution_count": 3,
      "outputs": [
        {
          "output_type": "stream",
          "name": "stdout",
          "text": [
            "Sum of the list: 15\n"
          ]
        }
      ]
    },
    {
      "cell_type": "markdown",
      "source": [
        "5. **Recursive Structures - File Systems**\n",
        "\n",
        "**Traversing a File System**\n",
        "\n",
        "File systems are hierarchical structures where directories can contain files and other directories.\n",
        "\n",
        "**Example: Listing Files in a Directory**\n"
      ],
      "metadata": {
        "id": "6fErFvaj_A8L"
      }
    },
    {
      "cell_type": "code",
      "source": [
        "import os\n",
        "\n",
        "# Function to recursively list files in a directory\n",
        "def list_files(directory):\n",
        "    for item in os.listdir(directory):\n",
        "        path = os.path.join(directory, item)\n",
        "        if os.path.isdir(path):\n",
        "            list_files(path)  # Recursive case\n",
        "        else:\n",
        "            print(path)  # Base case\n",
        "\n",
        "# Example usage\n",
        "directory_path = '.'  # Current directory\n",
        "print(\"Files in the directory:\")\n",
        "list_files(directory_path)"
      ],
      "metadata": {
        "id": "IbNSthfr_Bfw",
        "colab": {
          "base_uri": "https://localhost:8080/"
        },
        "outputId": "46792ec3-a2d5-4ddc-cc25-fba0860a6d71"
      },
      "execution_count": 4,
      "outputs": [
        {
          "output_type": "stream",
          "name": "stdout",
          "text": [
            "Files in the directory:\n",
            "./.config/.last_survey_prompt.yaml\n",
            "./.config/logs/2024.05.30/13.36.15.385607.log\n",
            "./.config/logs/2024.05.30/13.30.33.059431.log\n",
            "./.config/logs/2024.05.30/13.36.03.155708.log\n",
            "./.config/logs/2024.05.30/13.23.26.998698.log\n",
            "./.config/logs/2024.05.30/13.36.16.059291.log\n",
            "./.config/logs/2024.05.30/13.30.21.274210.log\n",
            "./.config/default_configs.db\n",
            "./.config/active_config\n",
            "./.config/.last_update_check.json\n",
            "./.config/config_sentinel\n",
            "./.config/gce\n",
            "./.config/configurations/config_default\n",
            "./.config/.last_opt_in_prompt.yaml\n",
            "./sample_data/anscombe.json\n",
            "./sample_data/README.md\n",
            "./sample_data/mnist_test.csv\n",
            "./sample_data/california_housing_train.csv\n",
            "./sample_data/mnist_train_small.csv\n",
            "./sample_data/california_housing_test.csv\n"
          ]
        }
      ]
    },
    {
      "cell_type": "markdown",
      "source": [
        "# Practical Examples\n",
        "\n",
        "**Fibonacci Sequence**\n"
      ],
      "metadata": {
        "id": "mrYwWRVG_DpO"
      }
    },
    {
      "cell_type": "code",
      "source": [
        "# Recursive function to generate Fibonacci numbers\n",
        "def fibonacci(n):\n",
        "    if n <= 1:\n",
        "        return n  # Base case\n",
        "    else:\n",
        "        return fibonacci(n-1) + fibonacci(n-2)  # Recursive case\n",
        "\n",
        "print(\"Fibonacci sequence up to 5th term:\")\n",
        "for i in range(6):\n",
        "    print(fibonacci(i), end=\" \")  # Output: 0 1 1 2 3 5"
      ],
      "metadata": {
        "id": "DZx-S54N_FVy",
        "colab": {
          "base_uri": "https://localhost:8080/"
        },
        "outputId": "de7fa43a-0048-408d-c1a5-91fd44dab7a8"
      },
      "execution_count": 6,
      "outputs": [
        {
          "output_type": "stream",
          "name": "stdout",
          "text": [
            "Fibonacci sequence up to 5th term:\n",
            "0 1 1 2 3 5 "
          ]
        }
      ]
    },
    {
      "cell_type": "markdown",
      "source": [
        "**Depth-First Search (DFS) in a Graph**"
      ],
      "metadata": {
        "id": "jV7qOi6i_HF9"
      }
    },
    {
      "cell_type": "code",
      "source": [
        "# Graph represented as an adjacency list\n",
        "graph = {\n",
        "    'A': ['B', 'C'],\n",
        "    'B': ['D', 'E'],\n",
        "    'C': ['F'],\n",
        "    'D': [],\n",
        "    'E': ['F'],\n",
        "    'F': []\n",
        "}\n",
        "\n",
        "# Recursive function to perform DFS\n",
        "def dfs(node, visited):\n",
        "    if node not in visited:\n",
        "        print(node, end=\" \")\n",
        "        visited.add(node)\n",
        "        for neighbor in graph[node]:\n",
        "            dfs(neighbor, visited)\n",
        "\n",
        "print(\"Depth-First Search starting from node A:\")\n",
        "visited = set()\n",
        "dfs('A', visited)  # Output: A B D E F C\n"
      ],
      "metadata": {
        "id": "Zx9TAj97_Lwv",
        "colab": {
          "base_uri": "https://localhost:8080/"
        },
        "outputId": "cc066df0-2ba4-43b6-8b8e-c9bc202d5552"
      },
      "execution_count": 7,
      "outputs": [
        {
          "output_type": "stream",
          "name": "stdout",
          "text": [
            "Depth-First Search starting from node A:\n",
            "A B D E F C "
          ]
        }
      ]
    },
    {
      "cell_type": "markdown",
      "source": [
        "**Conclusion**\n",
        "\n",
        "In this module, we explored the concepts of recursion and how it can be applied to various structures and calculations in Python. We learned about recursive functions, and how they are used to solve problems involving hierarchical structures like trees, indices, and file systems. Understanding recursion is crucial for tackling complex problems that can be broken down into simpler, similar subproblems. Keep practicing by writing your own recursive functions to solidify your understanding.\n",
        "\n"
      ],
      "metadata": {
        "id": "To5fhRkU_JjQ"
      }
    }
  ]
}