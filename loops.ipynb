{
  "nbformat": 4,
  "nbformat_minor": 0,
  "metadata": {
    "colab": {
      "provenance": []
    },
    "kernelspec": {
      "name": "python3",
      "display_name": "Python 3"
    },
    "language_info": {
      "name": "python"
    }
  },
  "cells": [
    {
      "cell_type": "markdown",
      "source": [
        "# Loops and Indexing in Python\n",
        "\n",
        "1. **Introduction to Loops**\n",
        "\n",
        "**What is a Loop?**\n",
        "\n",
        "A loop is a programming structure that repeats a sequence of instructions until a specific condition is met. Loops are used to automate repetitive tasks.\n",
        "\n",
        "2. **The `while` Loop**\n"
      ],
      "metadata": {
        "id": "QuXeESWg5t-N"
      }
    },
    {
      "cell_type": "code",
      "execution_count": null,
      "metadata": {
        "id": "zwAblY9Sptxz"
      },
      "outputs": [],
      "source": [
        "while condition:\n",
        "    # code to be executed"
      ]
    },
    {
      "cell_type": "markdown",
      "source": [
        "The `while` loop repeatedly executes the block of code as long as the condition is True.\n",
        "\n",
        "Once the condition becomes False, the loop stops."
      ],
      "metadata": {
        "id": "NnDkVv2N55K4"
      }
    },
    {
      "cell_type": "code",
      "source": [
        "# Example of a while loop\n",
        "counter = 1\n",
        "while counter <= 5:\n",
        "    print(\"Counter:\", counter)\n",
        "    counter += 1"
      ],
      "metadata": {
        "id": "9F7w3EX75-bm",
        "colab": {
          "base_uri": "https://localhost:8080/"
        },
        "outputId": "43991bad-c593-4b1d-d2e6-588e75cd2025"
      },
      "execution_count": 1,
      "outputs": [
        {
          "output_type": "stream",
          "name": "stdout",
          "text": [
            "Counter: 1\n",
            "Counter: 2\n",
            "Counter: 3\n",
            "Counter: 4\n",
            "Counter: 5\n"
          ]
        }
      ]
    },
    {
      "cell_type": "markdown",
      "source": [
        "This loop starts with counter set to 1.\n",
        "\n",
        "It prints the value of counter and increments it by 1 each time.\n",
        "\n",
        "The loop stops when counter is greater than 5.\n",
        "\n",
        "_____________________\n",
        "\n",
        "3. **The `for` loop**\n"
      ],
      "metadata": {
        "id": "60Qvq6uw5_rp"
      }
    },
    {
      "cell_type": "code",
      "source": [
        "for item in iterable:\n",
        "    # code to be executed"
      ],
      "metadata": {
        "id": "JgKJ7Gdn6MHE"
      },
      "execution_count": null,
      "outputs": []
    },
    {
      "cell_type": "markdown",
      "source": [
        "The `for` loop iterates over a sequence (like a list, tuple, or string) and executes the block of code for each item in the sequence.\n"
      ],
      "metadata": {
        "id": "HpBoaPSo6QI2"
      }
    },
    {
      "cell_type": "code",
      "source": [
        "# Example of a for loop\n",
        "fruits = [\"Apple\", \"Banana\", \"Cherry\"]\n",
        "for fruit in fruits:\n",
        "    print(\"Fruit:\", fruit)"
      ],
      "metadata": {
        "colab": {
          "base_uri": "https://localhost:8080/"
        },
        "id": "IwtWxLLS6deK",
        "outputId": "68d782c8-591e-48da-89b0-0fee438cc9c2"
      },
      "execution_count": 2,
      "outputs": [
        {
          "output_type": "stream",
          "name": "stdout",
          "text": [
            "Fruit: Apple\n",
            "Fruit: Banana\n",
            "Fruit: Cherry\n"
          ]
        }
      ]
    },
    {
      "cell_type": "markdown",
      "source": [
        "This loop iterates over the fruits list.\n",
        "\n",
        "It prints each fruit in the list.\n",
        "\n",
        "_______________________\n",
        "\n",
        "4. **Range Function in `for` Loops**"
      ],
      "metadata": {
        "id": "wDf-Vx_56gDr"
      }
    },
    {
      "cell_type": "code",
      "source": [
        "for i in range(start, stop, step):\n",
        "    # code to be executed"
      ],
      "metadata": {
        "id": "5CF-bRq16mUb"
      },
      "execution_count": null,
      "outputs": []
    },
    {
      "cell_type": "markdown",
      "source": [
        "Example:"
      ],
      "metadata": {
        "id": "3ftkCfNk6n-X"
      }
    },
    {
      "cell_type": "code",
      "source": [
        "# Example using range in a for loop\n",
        "for i in range(1, 6):\n",
        "    print(\"Number:\", i)"
      ],
      "metadata": {
        "colab": {
          "base_uri": "https://localhost:8080/"
        },
        "id": "gi0D3KVP6pSN",
        "outputId": "717b5852-6ca3-449b-93c2-e72308ea45df"
      },
      "execution_count": 3,
      "outputs": [
        {
          "output_type": "stream",
          "name": "stdout",
          "text": [
            "Number: 1\n",
            "Number: 2\n",
            "Number: 3\n",
            "Number: 4\n",
            "Number: 5\n"
          ]
        }
      ]
    },
    {
      "cell_type": "markdown",
      "source": [
        "The range function generates a sequence of numbers from start to stop - 1.\n",
        "\n",
        "The step parameter is optional and defaults to 1.\n",
        "\n",
        "_______________\n",
        "\n",
        "#**Indexing: 0-based vs 1-based**\n",
        "\n",
        "**What is Indexing?**\n",
        "\n",
        "Indexing refers to accessing elements of a sequence (like a list, string, or tuple) using their position.\n",
        "\n",
        "**0-based Indexing**\n",
        "\n",
        "In Python, indexing starts at 0.\n",
        "The first element is accessed with index 0, the second with index 1, and so on.\n"
      ],
      "metadata": {
        "id": "ZhIk8CD96sLz"
      }
    },
    {
      "cell_type": "code",
      "source": [
        "# Example of 0-based indexing\n",
        "fruits = [\"Apple\", \"Banana\", \"Cherry\"]\n",
        "print(\"First fruit:\", fruits[0])  # Output: Apple\n",
        "print(\"Second fruit:\", fruits[1])  # Output: Banana\n",
        "print(\"Third fruit:\", fruits[2])  # Output: Cherry"
      ],
      "metadata": {
        "id": "5vYUGdwc6u1k",
        "colab": {
          "base_uri": "https://localhost:8080/"
        },
        "outputId": "28263bce-137e-423a-966e-2faf3c9619b0"
      },
      "execution_count": 4,
      "outputs": [
        {
          "output_type": "stream",
          "name": "stdout",
          "text": [
            "First fruit: Apple\n",
            "Second fruit: Banana\n",
            "Third fruit: Cherry\n"
          ]
        }
      ]
    },
    {
      "cell_type": "markdown",
      "source": [
        "**1-based Indexing**\n",
        "\n",
        "* Some languages and contexts use 1-based indexing, where the first element is accessed with index 1.\n",
        "\n",
        "* Python does not use 1-based indexing, but it's important to understand the concept.\n",
        "\n",
        "**Why 0-based Indexing?**\n",
        "\n",
        "* 0-based indexing aligns with how memory addresses work in low-level programming.\n",
        "* It's consistent with slicing operations, where the start index is inclusive, and the stop index is exclusive.\n"
      ],
      "metadata": {
        "id": "3pCW5nUC6-hg"
      }
    },
    {
      "cell_type": "markdown",
      "source": [
        "# Practical Examples\n",
        "\n",
        "**Summing Numbers with a `while` Loop**\n"
      ],
      "metadata": {
        "id": "PP3WuokT7Nbx"
      }
    },
    {
      "cell_type": "code",
      "source": [
        "# Summing numbers from 1 to 5\n",
        "total = 0\n",
        "number = 1\n",
        "while number <= 5:\n",
        "    total += number\n",
        "    number += 1\n",
        "print(\"Sum:\", total)  # Output: Sum: 15"
      ],
      "metadata": {
        "colab": {
          "base_uri": "https://localhost:8080/"
        },
        "id": "pfMCcpME7UP9",
        "outputId": "b7a88abe-694e-41b3-e4ef-164518d1e8e4"
      },
      "execution_count": 5,
      "outputs": [
        {
          "output_type": "stream",
          "name": "stdout",
          "text": [
            "Sum: 15\n"
          ]
        }
      ]
    },
    {
      "cell_type": "markdown",
      "source": [
        "**Iterating with a `for` Loop**\n"
      ],
      "metadata": {
        "id": "qDoVI-Qn7Xph"
      }
    },
    {
      "cell_type": "code",
      "source": [
        "# Printing each character in a string\n",
        "word = \"Hello\"\n",
        "for char in word:\n",
        "    print(\"Character:\", char)"
      ],
      "metadata": {
        "colab": {
          "base_uri": "https://localhost:8080/"
        },
        "id": "V2DVroeZ7jzd",
        "outputId": "d4ce75b8-8f03-433e-a43d-dbb99aab9892"
      },
      "execution_count": null,
      "outputs": [
        {
          "output_type": "stream",
          "name": "stdout",
          "text": [
            "Character: H\n",
            "Character: e\n",
            "Character: l\n",
            "Character: l\n",
            "Character: o\n"
          ]
        }
      ]
    },
    {
      "cell_type": "markdown",
      "source": [
        "**Using `range` in a `for` Loop**\n"
      ],
      "metadata": {
        "id": "Bt15vNqy7Zv0"
      }
    },
    {
      "cell_type": "code",
      "source": [
        "# Printing numbers from 0 to 4\n",
        "for i in range(5):\n",
        "    print(\"Number:\", i)"
      ],
      "metadata": {
        "colab": {
          "base_uri": "https://localhost:8080/"
        },
        "id": "0sO4mdND7l-L",
        "outputId": "a4a7d096-d75e-4c22-e071-83f1c20caad0"
      },
      "execution_count": null,
      "outputs": [
        {
          "output_type": "stream",
          "name": "stdout",
          "text": [
            "Number: 0\n",
            "Number: 1\n",
            "Number: 2\n",
            "Number: 3\n",
            "Number: 4\n"
          ]
        }
      ]
    },
    {
      "cell_type": "markdown",
      "source": [
        "**Accessing List Elements with Indexing**"
      ],
      "metadata": {
        "id": "AtDaWHDI7f12"
      }
    },
    {
      "cell_type": "code",
      "source": [
        "# Accessing elements in a list using 0-based indexing\n",
        "colors = [\"Red\", \"Green\", \"Blue\"]\n",
        "for i in range(len(colors)):\n",
        "    print(f\"Color at index {i}:\", colors[i])"
      ],
      "metadata": {
        "colab": {
          "base_uri": "https://localhost:8080/"
        },
        "id": "njiMdgmw7psC",
        "outputId": "9898f33d-445e-4803-cfb3-49b155ea625e"
      },
      "execution_count": null,
      "outputs": [
        {
          "output_type": "stream",
          "name": "stdout",
          "text": [
            "Color at index 0: Red\n",
            "Color at index 1: Green\n",
            "Color at index 2: Blue\n"
          ]
        }
      ]
    },
    {
      "cell_type": "markdown",
      "source": [
        "**Conclusion**\n",
        "\n",
        "In this module, we explored the basics of loops (while and for loops) and the concept of indexing. We learned how to use loops to automate repetitive tasks and how to access elements in sequences using 0-based indexing. Understanding these concepts is crucial for writing efficient and effective Python code. Feel free to revisit the examples and experiment with your own code to solidify your understanding.\n",
        "\n"
      ],
      "metadata": {
        "id": "qPND6Ist7tt3"
      }
    }
  ]
}