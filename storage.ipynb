{
  "nbformat": 4,
  "nbformat_minor": 0,
  "metadata": {
    "colab": {
      "provenance": [],
      "authorship_tag": "ABX9TyMBa5BGWqxryQ6noCD2KUJa",
      "include_colab_link": true
    },
    "kernelspec": {
      "name": "python3",
      "display_name": "Python 3"
    },
    "language_info": {
      "name": "python"
    }
  },
  "cells": [
    {
      "cell_type": "markdown",
      "metadata": {
        "id": "view-in-github",
        "colab_type": "text"
      },
      "source": [
        "<a href=\"https://colab.research.google.com/github/SCS-Technology-and-Innovation/IntroComp/blob/main/storage.ipynb\" target=\"_parent\"><img src=\"https://colab.research.google.com/assets/colab-badge.svg\" alt=\"Open In Colab\"/></a>"
      ]
    },
    {
      "cell_type": "markdown",
      "source": [
        "# Data storage\n",
        "\n",
        "When data is stored on any computer system, it has to reside in some type of memory hardware. The persistent memory systems like hard drives and USB drives hold it even when the computer is turned off, but they are too slow to access to provide a smooth experience while the computer is actually carrying out a processing of some sort. Hence the computer also has another type of memory [RAM](https://en.wikipedia.org/wiki/Random-access_memory) (such as DDRAM, ROM, and flash) in which the processing itself takes place. This second type of memory is usually smaller in capacity that the storage media but much faster and possibly volatile.\n",
        "\n",
        "When a computer carries out tasks, the processor (CPU) accesses information in the RAM. If some input needs to be read, it is read from storage onto RAM and then written back if needed.\n",
        "\n",
        "In addition to *local* storage, one can have remote or cloud storage that cannot be accessed without using a *network interface* such as bluetooth or ethernet."
      ],
      "metadata": {
        "id": "PrygfJapbz6m"
      }
    },
    {
      "cell_type": "markdown",
      "source": [
        "## File systems\n",
        "\n",
        "When information is stored on a drive, it is organized into units such as partitions (divisions of a single physical device into two or more smaller \"virtual\" devices) which are furthermore organized into a recursive structure of folders that may contain files. Additionally, one can create **links** to make one file or folder appear as if it were also elsewhere with the hierarchy.\n",
        "\n",
        "The local file system can be accessed in Python with the `os` package that interfaces with the operating system to gain such access."
      ],
      "metadata": {
        "id": "cpSHLaPbftv5"
      }
    },
    {
      "cell_type": "code",
      "source": [
        "import os\n",
        "\n",
        "print(os.name) # let's see what operating system we are on"
      ],
      "metadata": {
        "id": "rwJx17aMgfc0",
        "outputId": "2a31a090-470b-47bb-906f-742d343a9659",
        "colab": {
          "base_uri": "https://localhost:8080/"
        }
      },
      "execution_count": 1,
      "outputs": [
        {
          "output_type": "stream",
          "name": "stdout",
          "text": [
            "posix\n"
          ]
        }
      ]
    },
    {
      "cell_type": "markdown",
      "source": [
        "WHen it says `posix`, it means \"a flavor of [Linux](https://en.wikipedia.org/wiki/Linux)\".\n",
        "\n",
        "We can also check further detail and what the default *encoding* is using the `sys`package."
      ],
      "metadata": {
        "id": "o4oVluszgpuI"
      }
    },
    {
      "cell_type": "code",
      "source": [
        "import sys\n",
        "\n",
        "print(sys.platform)\n",
        "print(sys.getfilesystemencoding())"
      ],
      "metadata": {
        "id": "F5jzDfbjg30q",
        "outputId": "07726604-3451-4d20-ae84-8da1b6d9e809",
        "colab": {
          "base_uri": "https://localhost:8080/"
        }
      },
      "execution_count": 2,
      "outputs": [
        {
          "output_type": "stream",
          "name": "stdout",
          "text": [
            "linux\n",
            "utf-8\n"
          ]
        }
      ]
    },
    {
      "cell_type": "markdown",
      "source": [
        "The start of a file system is called the **root** directory. In Linux-like systems it called just `/`."
      ],
      "metadata": {
        "id": "KrGzPB3thOHX"
      }
    },
    {
      "cell_type": "code",
      "source": [
        "root = '/'\n",
        "\n",
        "if os.getcwd() != root:\n",
        "  print('Jumping to root')\n",
        "  os.chdir('/') # we can jump to go to root if not there\n",
        "else:\n",
        "  print('Already at root')"
      ],
      "metadata": {
        "id": "pvXygGDWhVGT",
        "outputId": "47be1bfc-cb0d-457d-ab19-fad22fb4dbbc",
        "colab": {
          "base_uri": "https://localhost:8080/"
        }
      },
      "execution_count": 3,
      "outputs": [
        {
          "output_type": "stream",
          "name": "stdout",
          "text": [
            "Jumping to root\n"
          ]
        }
      ]
    },
    {
      "cell_type": "markdown",
      "source": [
        "We can get a **directory listing** to see where we could navigate to:"
      ],
      "metadata": {
        "id": "-C4kuXr0ixIV"
      }
    },
    {
      "cell_type": "code",
      "source": [
        "for thing in os.listdir():\n",
        "  print(thing)"
      ],
      "metadata": {
        "id": "ttO1sREdi2nU",
        "outputId": "a85360b4-586c-4c89-b730-06f145c77578",
        "colab": {
          "base_uri": "https://localhost:8080/"
        }
      },
      "execution_count": 4,
      "outputs": [
        {
          "output_type": "stream",
          "name": "stdout",
          "text": [
            "proc\n",
            "home\n",
            "sys\n",
            "lib\n",
            "mnt\n",
            "sbin\n",
            "lib32\n",
            "tmp\n",
            "boot\n",
            "etc\n",
            "srv\n",
            "run\n",
            "var\n",
            "opt\n",
            "dev\n",
            "media\n",
            "root\n",
            "usr\n",
            "lib64\n",
            "bin\n",
            "libx32\n",
            "kaggle\n",
            ".dockerenv\n",
            "datalab\n",
            "tools\n",
            "content\n",
            "NGC-DL-CONTAINER-LICENSE\n",
            "cuda-keyring_1.0-1_all.deb\n"
          ]
        }
      ]
    },
    {
      "cell_type": "markdown",
      "source": [
        "Cool beans. Let's go `home` (that is where our usual files are supposed to reside)."
      ],
      "metadata": {
        "id": "28E4ivR6jZFy"
      }
    },
    {
      "cell_type": "code",
      "source": [
        "os.chdir('home') # change current working directory"
      ],
      "metadata": {
        "id": "toNDPTgcjeSO"
      },
      "execution_count": 5,
      "outputs": []
    },
    {
      "cell_type": "markdown",
      "source": [
        "Check where we are..."
      ],
      "metadata": {
        "id": "bU4uSqfvjhpE"
      }
    },
    {
      "cell_type": "code",
      "source": [
        "os.getcwd() # get current working directory"
      ],
      "metadata": {
        "id": "Q9ykEARLjkFA",
        "outputId": "acfc45b2-f92b-4564-e8cf-1d27ec7f7d3e",
        "colab": {
          "base_uri": "https://localhost:8080/",
          "height": 35
        }
      },
      "execution_count": 6,
      "outputs": [
        {
          "output_type": "execute_result",
          "data": {
            "text/plain": [
              "'/home'"
            ],
            "application/vnd.google.colaboratory.intrinsic+json": {
              "type": "string"
            }
          },
          "metadata": {},
          "execution_count": 6
        }
      ]
    },
    {
      "cell_type": "markdown",
      "source": [
        "What's there?"
      ],
      "metadata": {
        "id": "6Zhgq0LOjq4A"
      }
    },
    {
      "cell_type": "code",
      "source": [
        "for thing in os.listdir():\n",
        "  print(thing)"
      ],
      "metadata": {
        "id": "GwsPU5Wojr_T"
      },
      "execution_count": 7,
      "outputs": []
    },
    {
      "cell_type": "markdown",
      "source": [
        "Nothing. Colab is special and the files we see on the file browser are inside `/content/` instead of '/home/'."
      ],
      "metadata": {
        "id": "AyPS4aArj7GE"
      }
    },
    {
      "cell_type": "code",
      "source": [
        "os.chdir('..') # this means \"back one level\"\n",
        "print(os.getcwd())\n",
        "os.chdir('content')\n",
        "for thing in os.listdir():\n",
        "  print(thing)"
      ],
      "metadata": {
        "id": "Dehb2OlvkC7G",
        "outputId": "0a9935bd-6869-4bdc-d98f-51abbbf35bba",
        "colab": {
          "base_uri": "https://localhost:8080/"
        }
      },
      "execution_count": 8,
      "outputs": [
        {
          "output_type": "stream",
          "name": "stdout",
          "text": [
            "/\n",
            ".config\n",
            "sample_data\n"
          ]
        }
      ]
    },
    {
      "cell_type": "markdown",
      "source": [
        "This is precisely what we see. We do not see that `.config` file on the sidebar since filenames and folders that start with a dot are *hidden* by default.\n",
        "\n",
        "Let's create a whole new directory in there. Note that if you run this code a second time, you see an error message because the directory will already exist.\n",
        "\n",
        "It will take a while for the sidebar to sync, but the creation is instantaneous."
      ],
      "metadata": {
        "id": "N8iArypWkSWg"
      }
    },
    {
      "cell_type": "code",
      "source": [
        "os.mkdir('cooltest')\n",
        "print([ thing for thing in os.listdir() ])"
      ],
      "metadata": {
        "id": "-480y1_oi5W6",
        "outputId": "7c21da9b-2796-488b-bceb-73b93b3af87c",
        "colab": {
          "base_uri": "https://localhost:8080/"
        }
      },
      "execution_count": 9,
      "outputs": [
        {
          "output_type": "stream",
          "name": "stdout",
          "text": [
            "['.config', 'cooltest', 'sample_data']\n"
          ]
        }
      ]
    },
    {
      "cell_type": "markdown",
      "source": [
        "Let's create a new file in there."
      ],
      "metadata": {
        "id": "ZZaU4K0zlMqp"
      }
    },
    {
      "cell_type": "code",
      "source": [
        "with open('cooltest/newfile.txt', 'w') as target: # w means write mode\n",
        "  print('hello', file = target)"
      ],
      "metadata": {
        "id": "sEHj8itdlQKo"
      },
      "execution_count": 12,
      "outputs": []
    },
    {
      "cell_type": "markdown",
      "source": [
        "Can we see it in there?"
      ],
      "metadata": {
        "id": "yTPHrwMvlfl8"
      }
    },
    {
      "cell_type": "code",
      "source": [
        "print([ thing for thing in os.listdir('cooltest/') ])"
      ],
      "metadata": {
        "id": "FY-H2BkmliFL",
        "outputId": "9ca3574f-7aa1-4286-e2bf-0ecc484c7486",
        "colab": {
          "base_uri": "https://localhost:8080/"
        }
      },
      "execution_count": 14,
      "outputs": [
        {
          "output_type": "stream",
          "name": "stdout",
          "text": [
            "['newfile.txt']\n"
          ]
        }
      ]
    },
    {
      "cell_type": "markdown",
      "source": [
        "We can rename files and folder."
      ],
      "metadata": {
        "id": "EpSvL30Hln2F"
      }
    },
    {
      "cell_type": "code",
      "source": [
        "os.rename('cooltest', 'newname')\n",
        "os.chdir('newname')\n",
        "os.rename('newfile.txt', 'anothername.txt')\n",
        "print([ thing for thing in os.listdir() ])"
      ],
      "metadata": {
        "id": "sdWYHuMkkY3s",
        "outputId": "8454eb90-c887-4177-c8f5-9e23b6aa5b2e",
        "colab": {
          "base_uri": "https://localhost:8080/"
        }
      },
      "execution_count": 15,
      "outputs": [
        {
          "output_type": "stream",
          "name": "stdout",
          "text": [
            "['anothername.txt']\n"
          ]
        }
      ]
    },
    {
      "cell_type": "markdown",
      "source": [
        "We can also *remove* files with `remove` and **empty** directories with `rmdir`."
      ],
      "metadata": {
        "id": "k_Ae_6lSl4YM"
      }
    },
    {
      "cell_type": "code",
      "source": [
        "os.remove('anothername.txt')\n",
        "os.chdir('..')\n",
        "os.rmdir('newname')\n",
        "print([ thing for thing in os.listdir() ])"
      ],
      "metadata": {
        "id": "_GDRVP7dlpz1",
        "outputId": "a2096782-dfbe-4707-9217-4e95e594c11c",
        "colab": {
          "base_uri": "https://localhost:8080/"
        }
      },
      "execution_count": 16,
      "outputs": [
        {
          "output_type": "stream",
          "name": "stdout",
          "text": [
            "['.config', 'newfile.txt', 'sample_data']\n"
          ]
        }
      ]
    }
  ]
}