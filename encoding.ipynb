{
  "nbformat": 4,
  "nbformat_minor": 0,
  "metadata": {
    "colab": {
      "provenance": []
    },
    "kernelspec": {
      "name": "python3",
      "display_name": "Python 3"
    },
    "language_info": {
      "name": "python"
    }
  },
  "cells": [
    {
      "cell_type": "markdown",
      "source": [
        "# Introduction to Data in Programming, Encoding and Digital Representation\n",
        "\n",
        "**What is data?**\n",
        "\n",
        "Data refers to information that is processed or stored by a computer. This information can be in various forms, such as numbers, text, images, audio, and more. In programming, data is the foundation upon which programs operate, allowing them to perform calculations, make decisions, and manage information.\n",
        "\n",
        "* **Primitive Data Types**\n",
        "\n",
        "Primitive data types are the most basic types of data and are built into the programming language. In Python, the common primitive data types include:\n",
        "\n",
        "1. Integers: Whole numbers without a fractional part.\n"
      ],
      "metadata": {
        "id": "95S5dgxl2ZPl"
      }
    },
    {
      "cell_type": "code",
      "source": [
        "age = 25"
      ],
      "metadata": {
        "id": "B8ySWaBcEivm"
      },
      "execution_count": 1,
      "outputs": []
    },
    {
      "cell_type": "markdown",
      "source": [
        "2. Floats: Numbers with a fractional part.\n"
      ],
      "metadata": {
        "id": "JEfCF44hEpTu"
      }
    },
    {
      "cell_type": "code",
      "source": [
        "price = 19.99"
      ],
      "metadata": {
        "id": "1M_r048VEtLk"
      },
      "execution_count": null,
      "outputs": []
    },
    {
      "cell_type": "markdown",
      "source": [
        "3. Strings: Sequences of characters used to represent text."
      ],
      "metadata": {
        "id": "8iRa2PwFEuDc"
      }
    },
    {
      "cell_type": "code",
      "source": [
        "name = \"Alice\""
      ],
      "metadata": {
        "id": "xMiojhP6EwOS"
      },
      "execution_count": null,
      "outputs": []
    },
    {
      "cell_type": "markdown",
      "source": [
        "4. Booleans: Logical values that can be either True or False."
      ],
      "metadata": {
        "id": "njGTTvrPExhd"
      }
    },
    {
      "cell_type": "code",
      "source": [
        "is_student = True"
      ],
      "metadata": {
        "id": "hZaDzFKxE09n"
      },
      "execution_count": null,
      "outputs": []
    },
    {
      "cell_type": "markdown",
      "source": [
        "* **Compound Data Types**\n",
        "\n",
        "Compound data types are made up of multiple primitive data types. Common compound data types in Python include:\n",
        "\n",
        "1. Lists: Ordered collections of items.\n",
        "\n"
      ],
      "metadata": {
        "id": "vCKalrNiE2bh"
      }
    },
    {
      "cell_type": "code",
      "source": [
        "fruits = [\"Apple\", \"Banana\", \"Cherry\"]"
      ],
      "metadata": {
        "id": "PhwZ52FwFAZz"
      },
      "execution_count": null,
      "outputs": []
    },
    {
      "cell_type": "markdown",
      "source": [
        "2. Tuples: Ordered collections of items that are immutable (cannot be changed)."
      ],
      "metadata": {
        "id": "JeZaiR_yFCRp"
      }
    },
    {
      "cell_type": "code",
      "source": [
        "coordinates = (10.0, 20.0)"
      ],
      "metadata": {
        "id": "UDrGZ6chFDRw"
      },
      "execution_count": null,
      "outputs": []
    },
    {
      "cell_type": "markdown",
      "source": [
        "3. Dictionaries: Collections of key-value pairs."
      ],
      "metadata": {
        "id": "-cfPKMNDFE45"
      }
    },
    {
      "cell_type": "code",
      "source": [
        "student = {\"name\": \"Alice\", \"age\": 25, \"is_student\": True}"
      ],
      "metadata": {
        "id": "YzFDXm8rFHAR"
      },
      "execution_count": null,
      "outputs": []
    },
    {
      "cell_type": "markdown",
      "source": [
        "4. Sets: Unordered collections of unique items.\n"
      ],
      "metadata": {
        "id": "FJd-e5xuFIC5"
      }
    },
    {
      "cell_type": "code",
      "source": [
        "unique_numbers = {1, 2, 3, 4, 5}"
      ],
      "metadata": {
        "id": "WNQxs5qRFJbL"
      },
      "execution_count": null,
      "outputs": []
    },
    {
      "cell_type": "markdown",
      "source": [
        "**Encoding**\n",
        "\n",
        "Encoding is the process of converting information into a different format. This is often done to ensure the data can be easily transmitted or stored.\n",
        "\n",
        "#Pixels and Color Schemes\n",
        "\n",
        "**Pixels**\n",
        "\n",
        "A pixel is the smallest unit of a digital image or graphic that can be displayed and represented on a digital display device. Each pixel has a color, which is often a combination of red, green, and blue light.\n",
        "\n",
        "**RGB Color Scheme**\n",
        "\n",
        "RGB stands for Red, Green, and Blue. By combining these three colors in various ways, we can create almost any color."
      ],
      "metadata": {
        "id": "3PZ_NhLWEn9-"
      }
    },
    {
      "cell_type": "code",
      "execution_count": null,
      "metadata": {
        "colab": {
          "base_uri": "https://localhost:8080/",
          "height": 136
        },
        "id": "qUfc5EdB2O4W",
        "outputId": "6eee7eb5-22dd-460f-d771-49c5bab1e1fd"
      },
      "outputs": [
        {
          "output_type": "display_data",
          "data": {
            "text/plain": [
              "<Figure size 640x480 with 1 Axes>"
            ],
            "image/png": "[encoded data removed]"
          },
          "metadata": {}
        }
      ],
      "source": [
        "import matplotlib.pyplot as plt\n",
        "import numpy as np\n",
        "\n",
        "# Create an image with three colored pixels\n",
        "image = np.zeros((1, 5, 3), dtype=np.uint8)\n",
        "\n",
        "# Set colors: Red, Green, Blue\n",
        "# The first pixel is set to red (full intensity of red, no green, no blue).\n",
        "image[0, 0] = [255, 0, 0]  # Red\n",
        "\n",
        "# The second pixel is set to green (no red, full intensity of green, no blue).\n",
        "image[0, 1] = [0, 255, 0]  # Green\n",
        "\n",
        "# The third pixel is set to blue (no red, no green, full intensity of blue).\n",
        "image[0, 2] = [0, 0, 255]  # Blue\n",
        "\n",
        "# The fourth pixel is set to white (full intensity of red, green, and blue).\n",
        "image[0, 3] = [255, 255, 255]  # White\n",
        "\n",
        "# The fifth pixel is set to black (no red, no green, no blue).\n",
        "image[0, 4] = [0, 0, 0]  # Black\n",
        "\n",
        "plt.imshow(image)\n",
        "plt.axis('off')\n",
        "plt.show()"
      ]
    },
    {
      "cell_type": "markdown",
      "source": [
        "**RGBA Color Scheme**\n",
        "\n",
        "RGBA is similar to RGB but includes an Alpha channel to represent transparency.\n",
        "\n"
      ],
      "metadata": {
        "id": "qwu26JNp2qNd"
      }
    },
    {
      "cell_type": "code",
      "source": [
        "# Create an image with three colored pixels and transparency\n",
        "image = np.zeros((1, 3, 4), dtype=np.uint8)\n",
        "\n",
        "# Set colors: Red, Green, Blue with transparency\n",
        "image[0, 0] = [255, 0, 0, 128]  # Red, semi-transparent\n",
        "image[0, 1] = [0, 255, 0, 128]  # Green, semi-transparent\n",
        "image[0, 2] = [0, 0, 255, 128]  # Blue, semi-transparent\n",
        "\n",
        "plt.imshow(image)\n",
        "plt.axis('off')\n",
        "plt.show()"
      ],
      "metadata": {
        "colab": {
          "base_uri": "https://localhost:8080/",
          "height": 202
        },
        "id": "aGsTe-_v2vNG",
        "outputId": "44777465-16ea-4a95-bf57-b154e8094fc2"
      },
      "execution_count": null,
      "outputs": [
        {
          "output_type": "display_data",
          "data": {
            "text/plain": [
              "<Figure size 640x480 with 1 Axes>"
            ],
            "image/png": "[encoded data removed]"
          },
          "metadata": {}
        }
      ]
    },
    {
      "cell_type": "markdown",
      "source": [
        "#Understanding Transparency in Colors\n",
        "\n",
        "RGBA stands for Red, Green, Blue, and Alpha.\n",
        "\n",
        "The first three values (Red, Green, Blue) work the same as in the RGB model, ranging from 0 to 255.\n",
        "\n",
        "Alpha represents the transparency of the color. It also ranges from 0 to 255:\n",
        "\n",
        "* 0 means fully transparent (invisible).\n",
        "\n",
        "* 255 means fully opaque (completely visible).\n",
        "\n",
        "* Values between 0 and 255 represent different levels of transparency."
      ],
      "metadata": {
        "id": "oXRLeaCY8B5B"
      }
    },
    {
      "cell_type": "markdown",
      "source": [
        "#IP Addresses\n",
        "**IPv4**\n",
        "\n",
        "IPv4 addresses are 32-bit numbers, usually written in decimal format as four numbers separated by dots.\n"
      ],
      "metadata": {
        "id": "3pBf8BCb2yKX"
      }
    },
    {
      "cell_type": "code",
      "source": [
        "# Example of an IPv4 address\n",
        "ipv4_address = \"192.168.1.1\"\n",
        "print(\"IPv4 Address:\", ipv4_address)"
      ],
      "metadata": {
        "colab": {
          "base_uri": "https://localhost:8080/"
        },
        "id": "PirbKYTi3AZ4",
        "outputId": "c577d8af-f8f8-453c-cb1e-73d7285fa4c7"
      },
      "execution_count": null,
      "outputs": [
        {
          "output_type": "stream",
          "name": "stdout",
          "text": [
            "IPv4 Address: 192.168.1.1\n"
          ]
        }
      ]
    },
    {
      "cell_type": "markdown",
      "source": [
        "# Understanding IPv4 Addresses\n",
        "\n",
        "**What is an IPv4 Address?**\n",
        "\n",
        "An IPv4 address is a numerical label assigned to each device connected to a computer network that uses the Internet Protocol for communication. IPv4 stands for Internet Protocol version 4, which is the fourth version of the Internet Protocol (IP).\n",
        "\n",
        "**Format of IPv4 Addresses**\n",
        "\n",
        "IPv4 addresses are written in a format known as \"dotted decimal notation,\" which consists of four numbers separated by dots. Each number ranges from 0 to 255.\n",
        "\n",
        "192.168.1.1:\n",
        "\n",
        "1. This is a common example of an IPv4 address often used for local networks.\n",
        "Each part of the address (192, 168, 1, 1) is called an \"octet\" and can range from 0 to 255.\n",
        "2. The address is typically divided into two parts:\n",
        "* Network part: Identifies the network. In this case, 192.168 is often used for private networks.\n",
        "* Host part: Identifies the specific device (host) within the network. Here, 1.1 identifies the device.\n",
        "Real-World Example\n",
        "3. In a home network, your router might have an IP address like 192.168.1.1, which you can use to access the router's settings. Devices connected to the same network might have addresses like 192.168.1.2, 192.168.1.3, and so on.\n",
        "\n",
        "**Summary**\n",
        "\n",
        "An IPv4 address is a 32-bit number used to identify devices on a network. The example 192.168.1.1 is a common local network address, with each of the four parts (octets) ranging from 0 to 255. The provided code simply assigns this address to a variable and prints it out."
      ],
      "metadata": {
        "id": "jAH2JkYF76wT"
      }
    },
    {
      "cell_type": "markdown",
      "source": [
        "IPv6\n",
        "IPv6 addresses are 128-bit numbers, usually written in hexadecimal format and separated by colons.\n",
        "\n"
      ],
      "metadata": {
        "id": "vjhyMY6F3AL3"
      }
    },
    {
      "cell_type": "code",
      "source": [
        "# Example of an IPv6 address\n",
        "ipv6_address = \"2001:0db8:85a3:0000:0000:8a2e:0370:7334\"\n",
        "print(\"IPv6 Address:\", ipv6_address)"
      ],
      "metadata": {
        "colab": {
          "base_uri": "https://localhost:8080/"
        },
        "id": "hlbaBJ3B3ElG",
        "outputId": "3bff15aa-546f-4cc4-d256-f61234383261"
      },
      "execution_count": null,
      "outputs": [
        {
          "output_type": "stream",
          "name": "stdout",
          "text": [
            "IPv6 Address: 2001:0db8:85a3:0000:0000:8a2e:0370:7334\n"
          ]
        }
      ]
    },
    {
      "cell_type": "markdown",
      "source": [
        "#Understanding IPv6 Addresses\n",
        "\n",
        "**What is an IPv6 Address?**\n",
        "\n",
        "An IPv6 address is a numerical label assigned to each device connected to a computer network that uses the Internet Protocol for communication. IPv6 stands for Internet Protocol version 6, which is the most recent version of the Internet Protocol (IP). IPv6 was developed to replace IPv4, primarily because IPv4 addresses were running out.\n",
        "\n",
        "**Format of IPv6 Addresses**\n",
        "\n",
        "IPv6 addresses are written in a format known as \"colon-hexadecimal notation,\" which consists of eight groups of four hexadecimal digits separated by colons. Each group can range from 0000 to FFFF in hexadecimal (base 16).\n",
        "\n",
        "For example: 2001:0db8:85a3:0000:0000:8a2e:0370:7334\n",
        "\n",
        "2001:0db8:85a3:0000:0000:8a2e:0370:7334:\n",
        "1. This is a standard example of an IPv6 address.\n",
        "2. Each part of the address (e.g., 2001, 0db8, 85a3, etc.) is called a \"hextet\" (hexadecimal digits).\n",
        "3. The address is divided into eight groups of four hexadecimal digits.\n",
        "4. Leading zeros in each group can be omitted. For example, 0db8 can be written as db8.\n",
        "\n",
        "**Simplified Notation**\n",
        "\n",
        "IPv6 addresses can be abbreviated by removing leading zeros within each hextet and by collapsing consecutive sections of zeros into a double colon (::). However, this can only be done once in an address to avoid ambiguity.\n",
        "\n",
        "Original Address: 2001:0db8:0000:0000:0000:ff00:0042:8329\n",
        "\n",
        "Step 1 (Remove Leading Zeros): 2001:db8:0:0:0:ff00:42:8329\n",
        "\n",
        "Step 2 (Collapse Consecutive Zeros): 2001:db8::ff00:42:8329\n",
        "\n",
        "This final address is easier to read and still represents the same location in the IPv6 address space.\n",
        "\n",
        "\n",
        "**Real-World Example**\n",
        "\n",
        "IPv6 addresses are used to uniquely identify devices on the internet, just like IPv4 addresses. However, IPv6 has a much larger address space, which allows for a vast number of unique addresses.\n",
        "\n",
        "**Summary**\n",
        "\n",
        "An IPv6 address is a 128-bit number used to identify devices on a network. The example 2001:0db8:85a3:0000:0000:8a2e:0370:7334 is written in colon-hexadecimal notation, with each part called a \"hextet.\" The provided code assigns this address to a variable and prints it out. This format allows for a much larger number of unique addresses compared to IPv4."
      ],
      "metadata": {
        "id": "bt6EdyqE8wDI"
      }
    },
    {
      "cell_type": "markdown",
      "source": [
        "#Character Encoding\n",
        "**ASCII**\n",
        "\n",
        "ASCII stands for American Standard Code for Information Interchange. It encodes 128 specified characters into seven-bit integers.\n",
        "\n"
      ],
      "metadata": {
        "id": "laHw3_Wj3Gg6"
      }
    },
    {
      "cell_type": "code",
      "source": [
        "# Example of ASCII encoding\n",
        "ascii_character = 'A'\n",
        "ascii_code = ord(ascii_character)\n",
        "print(f\"ASCII code for '{ascii_character}' is {ascii_code}\")\n"
      ],
      "metadata": {
        "colab": {
          "base_uri": "https://localhost:8080/"
        },
        "id": "FXzNLlqG3KAN",
        "outputId": "0a3bc49c-8269-460b-8f5b-03454c555f7a"
      },
      "execution_count": null,
      "outputs": [
        {
          "output_type": "stream",
          "name": "stdout",
          "text": [
            "ASCII code for 'A' is 65\n"
          ]
        }
      ]
    },
    {
      "cell_type": "markdown",
      "source": [
        "# Understanding ASCII Encoding\n",
        "**What is ASCII?**\n",
        "\n",
        "ASCII stands for American Standard Code for Information Interchange. It is a character encoding standard used to represent text in computers and other devices that use text. ASCII uses numeric codes to represent characters.\n",
        "\n",
        "ASCII includes 128 characters: 33 control characters (non-printable) and 95 printable characters (letters, digits, punctuation marks, and a few miscellaneous symbols).\n",
        "\n",
        "Each character is assigned a unique number from 0 to 127.\n",
        "\n",
        "**Summary**\n",
        "\n",
        "* Character: 'A' is an uppercase letter.\n",
        "* ASCII Code: The numeric code representing 'A' in the ASCII encoding is 65.\n",
        "* ord Function: ord(character) returns the ASCII code of the given character.\n",
        "\n",
        "**Conclusion**\n",
        "\n",
        "This example demonstrates how to use the ord function in Python to find the ASCII code of a character. ASCII encoding is a fundamental way to represent text in computers, and understanding it is essential for working with text data."
      ],
      "metadata": {
        "id": "IFDkAi6lZ8dT"
      }
    },
    {
      "cell_type": "markdown",
      "source": [
        "**Unicode**\n",
        "\n",
        "Unicode is a universal character encoding standard that assigns a code to every character and symbol in every language in the world.\n",
        "\n"
      ],
      "metadata": {
        "id": "Ua1s6d_h3Lz8"
      }
    },
    {
      "cell_type": "code",
      "source": [
        "# Example of Unicode encoding\n",
        "unicode_character = '你'\n",
        "unicode_code = ord(unicode_character)\n",
        "print(f\"Unicode code for '{unicode_character}' is {unicode_code}\")"
      ],
      "metadata": {
        "colab": {
          "base_uri": "https://localhost:8080/"
        },
        "id": "NtYbXJqK3OwK",
        "outputId": "905ecbd2-3eeb-4c70-e22f-13b82c07e2cb"
      },
      "execution_count": null,
      "outputs": [
        {
          "output_type": "stream",
          "name": "stdout",
          "text": [
            "Unicode code for '你' is 20320\n"
          ]
        }
      ]
    },
    {
      "cell_type": "markdown",
      "source": [
        "#Understanding Unicode Encoding\n",
        "**What is Unicode?**\n",
        "\n",
        "Unicode is a universal character encoding standard that assigns a unique code to every character and symbol in every language in the world. It is designed to support text from all writing systems, allowing for consistent representation and manipulation of text.\n",
        "\n",
        "Unicode includes a much larger set of characters compared to ASCII, covering characters from various languages, symbols, emojis, and more.\n",
        "Each character in Unicode is represented by a unique code point, which is a number assigned to the character.\n",
        "\n",
        "**Summary**\n",
        "* Character: '你' is a Chinese character meaning \"you.\"\n",
        "* Unicode Code Point: The numeric code representing '你' in Unicode is 20320.\n",
        "* ord Function: ord(character) returns the Unicode code point of the given character.\n",
        "\n",
        "**Conclusion**\n",
        "This example demonstrates how to use the ord function in Python to find the Unicode code point of a character. Unicode encoding is essential for representing text from all languages and symbols, allowing for consistent and comprehensive text handling in software and digital communication.\n",
        "\n",
        "\n",
        "\n",
        "\n",
        "\n",
        "\n"
      ],
      "metadata": {
        "id": "BY-gypKBcOK2"
      }
    },
    {
      "cell_type": "markdown",
      "source": [
        "**UTF-8**\n",
        "\n",
        "UTF-8 is a variable-width character encoding used for electronic communication. It can encode all possible characters in Unicode.\n",
        "\n"
      ],
      "metadata": {
        "id": "BzfxLR8R3Q_U"
      }
    },
    {
      "cell_type": "code",
      "source": [
        "# Example of UTF-8 encoding\n",
        "utf8_encoded = unicode_character.encode('utf-8')\n",
        "print(f\"UTF-8 encoding for '{unicode_character}' is {utf8_encoded}\")"
      ],
      "metadata": {
        "id": "EE-Ctg8I3Tnh",
        "colab": {
          "base_uri": "https://localhost:8080/"
        },
        "outputId": "393c5bbc-9a97-44bb-a2be-e477920e998c"
      },
      "execution_count": null,
      "outputs": [
        {
          "output_type": "stream",
          "name": "stdout",
          "text": [
            "UTF-8 encoding for '你' is b'\\xe4\\xbd\\xa0'\n"
          ]
        }
      ]
    },
    {
      "cell_type": "markdown",
      "source": [
        "# Understanding UTF-8 Encoding\n",
        "**What is UTF-8?**\n",
        "\n",
        "UTF-8 (Unicode Transformation Format - 8-bit) is a variable-width character encoding used for electronic communication. UTF-8 can encode all possible characters in Unicode and is the most common encoding used on the web.\n",
        "\n",
        "**UTF-8 uses one to four bytes to represent characters:**\n",
        "* 1 byte for characters in the ASCII range (U+0000 to U+007F).\n",
        "* 2 bytes for characters in the range U+0080 to U+07FF.\n",
        "* 3 bytes for characters in the range U+0800 to U+FFFF.\n",
        "* 4 bytes for characters in the range U+10000 to U+10FFFF.\n",
        "\n",
        "**UTF-8 Encoding of '你':**\n",
        "* The Unicode code point for '你' is U+4F60.\n",
        "* In UTF-8, this code point is represented by the three bytes \\xe4, \\xbd, and \\xa0.\n",
        "* b'\\xe4\\xbd\\xa0' is the byte sequence in UTF-8 that represents the character '你'.\n",
        "\n",
        "**Conclusion**\n",
        "This example demonstrates how to use the encode method in Python to convert a Unicode character into its UTF-8 encoded byte sequence. UTF-8 encoding is essential for representing a wide range of characters and symbols in a compact and efficient manner, making it the most widely used character encoding on the internet."
      ],
      "metadata": {
        "id": "1OI9alNWdCeh"
      }
    },
    {
      "cell_type": "markdown",
      "source": [
        "**Emojis**\n",
        "\n",
        "Emojis are also part of the Unicode standard and can be encoded in UTF-8.\n",
        "\n"
      ],
      "metadata": {
        "id": "x0Y9FaNL3VnX"
      }
    },
    {
      "cell_type": "code",
      "source": [
        "# Example of Emoji encoding\n",
        "emoji = '😊'\n",
        "emoji_utf8 = emoji.encode('utf-8')\n",
        "print(f\"UTF-8 encoding for '{emoji}' is {emoji_utf8}\")"
      ],
      "metadata": {
        "id": "P-MOpQMj3X4w",
        "colab": {
          "base_uri": "https://localhost:8080/"
        },
        "outputId": "db1896f1-0534-46be-9045-2a8ccc3088e7"
      },
      "execution_count": null,
      "outputs": [
        {
          "output_type": "stream",
          "name": "stdout",
          "text": [
            "UTF-8 encoding for '😊' is b'\\xf0\\x9f\\x98\\x8a'\n"
          ]
        }
      ]
    },
    {
      "cell_type": "markdown",
      "source": [
        "#Understanding Emoji Encoding in UTF-8\n",
        "**What is UTF-8?**\n",
        "\n",
        "UTF-8 (Unicode Transformation Format - 8-bit) is a variable-width character encoding used to represent text. It can encode all possible characters in Unicode, which includes a vast array of symbols, letters, and even emojis.\n",
        "\n",
        "**What is an Emoji?**\n",
        "\n",
        "An emoji is a small digital image or icon used to express an idea or emotion. Emojis are included in the Unicode standard, so they have unique code points just like letters and symbols.\n",
        "\n",
        "**UTF-8 Encoding of '😊':**\n",
        "* The Unicode code point for the emoji '😊' is U+1F60A.\n",
        "* In UTF-8, this code point is represented by the four bytes \\xf0, \\x9f, \\x98, and \\x8a.\n",
        "* b'\\xf0\\x9f\\x98\\x8a' is the byte sequence in UTF-8 that represents the emoji '😊'.\n",
        "\n",
        "**Conclusion**\n",
        "\n",
        "This example demonstrates how to use the encode method in Python to convert an emoji into its UTF-8 encoded byte sequence. UTF-8 encoding is essential for representing a wide range of characters and symbols, including emojis, in a compact and efficient manner, making it the most widely used character encoding on the internet.\n",
        "\n",
        "\n",
        "\n",
        "\n",
        "\n",
        "\n"
      ],
      "metadata": {
        "id": "ItgeKRVndorQ"
      }
    },
    {
      "cell_type": "markdown",
      "source": [
        "**Conclusion**\n",
        "\n",
        "In this module, we explored the concept of data in programming. We discussed different types of data, including primitive and compound data types. Understanding data and how to manipulate it is fundamental to programming and problem-solving. Keep practicing with different data types and structures to enhance your proficiency. We have also introduced the concepts of encoding, pixels and color schemes, IP addresses, and character encoding. Each section included practical examples to help you understand these fundamental concepts. Keep experimenting and exploring to deepen your understanding of these topics.\n",
        "\n",
        "It is good to come back to this module after having gone through module 3 where computation basics will be covered."
      ],
      "metadata": {
        "id": "Z03qKB1h3Zxe"
      }
    }
  ]
}