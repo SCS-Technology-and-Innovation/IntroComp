{
  "nbformat": 4,
  "nbformat_minor": 0,
  "metadata": {
    "colab": {
      "provenance": [],
      "authorship_tag": "ABX9TyM9ybSwYRzrz2zHL45TpsVg",
      "include_colab_link": true
    },
    "kernelspec": {
      "name": "python3",
      "display_name": "Python 3"
    },
    "language_info": {
      "name": "python"
    }
  },
  "cells": [
    {
      "cell_type": "markdown",
      "metadata": {
        "id": "view-in-github",
        "colab_type": "text"
      },
      "source": [
        "<a href=\"https://colab.research.google.com/github/SCS-Technology-and-Innovation/IntroComp/blob/main/digital.ipynb\" target=\"_parent\"><img src=\"https://colab.research.google.com/assets/colab-badge.svg\" alt=\"Open In Colab\"/></a>"
      ]
    },
    {
      "cell_type": "markdown",
      "source": [
        "# Digital representation of information\n",
        "\n",
        "Most of us are used to thinking of numbers in base 10, called the decimal system. 123 to us means (**one**) *hundred*, twenty (**two** *tens*), plus **three** (*ones*):\n",
        "$$ 123_{10}  = 1 \\times 10^2 + 2 \\times 10^1 + 3 \\times 10^0.$$\n",
        "\n"
      ],
      "metadata": {
        "id": "PUD-aDUu8rd4"
      }
    },
    {
      "cell_type": "code",
      "source": [
        "int('123', 10)"
      ],
      "metadata": {
        "colab": {
          "base_uri": "https://localhost:8080/"
        },
        "id": "1z3tHyDA9q2I",
        "outputId": "ffafe5da-7022-4bb5-d1a3-a9abafaceb11"
      },
      "execution_count": 1,
      "outputs": [
        {
          "output_type": "execute_result",
          "data": {
            "text/plain": [
              "123"
            ]
          },
          "metadata": {},
          "execution_count": 1
        }
      ]
    },
    {
      "cell_type": "markdown",
      "source": [
        "The math would work just as well with any other number base, with the caveat that any individual digit must be smaller than the base, just as the largest digit is nine in base ten.\n",
        "\n",
        "Hence, 123 could, for example, be a base 5 number:\n",
        "$$ 123_5 =  1 \\times 5^2 + 2 \\times 5^1 + 3 \\times 5^0 = 25 + 10 + 3 = 38.$$"
      ],
      "metadata": {
        "id": "dkeOzv919wLj"
      }
    },
    {
      "cell_type": "code",
      "source": [
        "int('123', 5)"
      ],
      "metadata": {
        "colab": {
          "base_uri": "https://localhost:8080/"
        },
        "id": "jlGUsAev9zgJ",
        "outputId": "3915f968-1261-44b9-ca11-cfd0d6479aa5"
      },
      "execution_count": 2,
      "outputs": [
        {
          "output_type": "execute_result",
          "data": {
            "text/plain": [
              "38"
            ]
          },
          "metadata": {},
          "execution_count": 2
        }
      ]
    },
    {
      "cell_type": "markdown",
      "source": [
        "Base two is relevant in computing since information is stored in ones and zeroes. A single base-two digit is called a **bit** and numbers represented in base two are known as *binary* numbers.\n",
        "\n",
        "For example, $20_{10}$ in binary is $10100_2$ since $16 + 4 = 20$ and $16 = 2^4$ and $4 = 2^2$. Iterating over small powers of two gives us the bits:\n",
        "$$1 \\times 2^4 + 0 \\times 2^3 + 1 \\times 2^2 + 0 \\times 2^1 + 0 \\times 2^0.$$\n",
        "\n",
        "The right-most digit always corresponds to the zeroeth power of the base and the other digits correspond to higher powers, with increments of one, always right to left.\n",
        "\n",
        "Knowing how this works, it is not impossible to work out binary representations of decimal values or vice versa."
      ],
      "metadata": {
        "id": "-98C5ECH98Tr"
      }
    },
    {
      "cell_type": "code",
      "source": [
        "decimal = 35\n",
        "bits = bin(decimal)\n",
        "binary = bits[2:]\n",
        "print(binary)\n",
        "print(int(binary, 2))"
      ],
      "metadata": {
        "colab": {
          "base_uri": "https://localhost:8080/"
        },
        "id": "z2r1X9Jp_Luj",
        "outputId": "c1745df6-353c-4218-c778-7f160c668ed8"
      },
      "execution_count": 7,
      "outputs": [
        {
          "output_type": "stream",
          "name": "stdout",
          "text": [
            "100011\n",
            "35\n"
          ]
        }
      ]
    },
    {
      "cell_type": "markdown",
      "source": [
        "As powers of two are special for computers, bases 8 (**octal**) and 16 (**hexadecimal**) are rather commonly used. The former appears for example in *linux file permissions*, whereas the latter is frequently used to express *colors*."
      ],
      "metadata": {
        "id": "NCwdqtnQ-MNh"
      }
    },
    {
      "cell_type": "code",
      "source": [
        "n = 84\n",
        "print(bin(n), int(bin(n)[2:], 2))\n",
        "print(oct(n), int(oct(n)[2:], 8))\n",
        "print(hex(n), int(hex(n)[2:], 16))"
      ],
      "metadata": {
        "colab": {
          "base_uri": "https://localhost:8080/"
        },
        "id": "StHUI7kmAFOm",
        "outputId": "fe3b8299-2494-4c8d-d0f4-016c96d651a7"
      },
      "execution_count": 18,
      "outputs": [
        {
          "output_type": "stream",
          "name": "stdout",
          "text": [
            "0b1010100 84\n",
            "0o124 84\n",
            "0x54 84\n"
          ]
        }
      ]
    },
    {
      "cell_type": "markdown",
      "source": [
        "Note how binary values get a prefix `0b`, octal ones `0o` and hexadecimal ones `0x`.\n",
        "\n",
        "Experiment with different values for `n` until you get hexadecimal representations that contain *letters*. The letters are actually just digits. Since the base is 16, the digits can take values from 0 to 9 as in decimal, but in addition possible **digits** include 10, 11, 12, 13, 14 and 15.\n",
        "\n",
        "Since we have to use a single symbol per digit (so as not to ruin the relationship between the digit position from right to left and the power of the base that it corresponds to), these are coded as `a = 10`, `b = 11`, `c = 12`, `d = 13`, `e = 14` and `f = 15`.  A larger base, such as base 20, would use more letters.\n",
        "\n",
        "Once lowercase letters run out (bases above 36), another design choice would need to be made, but such high bases are not commonly used.\n",
        "\n"
      ],
      "metadata": {
        "id": "QMadAnIZAb2l"
      }
    },
    {
      "cell_type": "code",
      "source": [
        "int('hello', 28)"
      ],
      "metadata": {
        "colab": {
          "base_uri": "https://localhost:8080/"
        },
        "id": "gfb2XVA9CAXP",
        "outputId": "5c3d7455-fedb-4838-9f44-ae973de1a5e5"
      },
      "execution_count": 22,
      "outputs": [
        {
          "output_type": "execute_result",
          "data": {
            "text/plain": [
              "10773556"
            ]
          },
          "metadata": {},
          "execution_count": 22
        }
      ]
    },
    {
      "cell_type": "markdown",
      "source": [
        "Another very cool thing to notice while experimenting is that if you group the bits of the binary number in triplets, right to left, the values of those triplets correspond to the octal digits because $2^3 = 8$."
      ],
      "metadata": {
        "id": "V41kAsGxBI1Q"
      }
    },
    {
      "cell_type": "code",
      "source": [
        "n = 497\n",
        "bits = bin(n)[2:] # skip the prefix\n",
        "l = len(bits)\n",
        "\n",
        "print(bits)\n",
        "\n",
        "segment = 3\n",
        "while not l % segment == 0:\n",
        "  bits = '0' + bits # add leading zeroes to make triplets\n",
        "  l = len(bits)\n",
        "\n",
        "digits = oct(n)[2:] # skip the prefix here as well\n",
        "print(digits)\n",
        "\n",
        "for i in range(0, l, segment):\n",
        "  print(bits[i : i + segment], digits[i // segment])"
      ],
      "metadata": {
        "colab": {
          "base_uri": "https://localhost:8080/"
        },
        "id": "qg-Nvh3XB_nh",
        "outputId": "a4e1e757-f96c-4e7f-f7f1-0acd2a9846f7"
      },
      "execution_count": 35,
      "outputs": [
        {
          "output_type": "stream",
          "name": "stdout",
          "text": [
            "111110001\n",
            "761\n",
            "111 7\n",
            "110 6\n",
            "001 1\n"
          ]
        }
      ]
    },
    {
      "cell_type": "markdown",
      "source": [
        "The same exact thing happens for groups of four bits and the hexadecimal representation, since $2^4 = 16$."
      ],
      "metadata": {
        "id": "c0ENHCcSDOlf"
      }
    },
    {
      "cell_type": "code",
      "source": [
        "n = 6786\n",
        "bits = bin(n)[2:] # skip the prefix\n",
        "l = len(bits)\n",
        "\n",
        "print(bits)\n",
        "\n",
        "segment = 4\n",
        "while not l % segment == 0:\n",
        "  bits = '0' + bits # add leading zeroes to make quadruplets\n",
        "  l = len(bits)\n",
        "\n",
        "digits = hex(n)[2:] # skip the prefix here as well\n",
        "print(digits)\n",
        "\n",
        "for i in range(0, l, segment):\n",
        "  d = digits[i // segment]\n",
        "  print(bits[i : i + segment], d, int(d, 16))"
      ],
      "metadata": {
        "colab": {
          "base_uri": "https://localhost:8080/"
        },
        "id": "uni_-R-ND5-s",
        "outputId": "5d0102ea-209f-42b7-930c-8a98d6d49d4f"
      },
      "execution_count": 38,
      "outputs": [
        {
          "output_type": "stream",
          "name": "stdout",
          "text": [
            "1101010000010\n",
            "1a82\n",
            "0001 1 1\n",
            "1010 a 10\n",
            "1000 8 8\n",
            "0010 2 2\n"
          ]
        }
      ]
    },
    {
      "cell_type": "markdown",
      "source": [
        "Whereas the special bases 2, 8 and 16 have specific conversion routines `bin`, `oct` and `hex`, respectively, for other bases we need to craft our own. It is a bit of math, so it is okay not to understand just how it works yet.\n",
        "\n",
        "The trick is start with the decimal number as the current value, use the modulus (the remainder of division) between the current value and the base to get a digit (and convert the digit into a letter for larger bases),  iteratively divide the current value by the base (exact integer division) and keep going until the current value hits zero."
      ],
      "metadata": {
        "id": "yhnVVZghEYdP"
      }
    },
    {
      "cell_type": "code",
      "source": [
        "import string\n",
        "digits = string.digits + string.ascii_lowercase # first 0 to 9 followed by a to z\n",
        "\n",
        "def dec2base(n, b):\n",
        "  result = '' # accumulate digits in the reverse order\n",
        "  while n > 0: # continue until hitting zero\n",
        "    result += digits[n % b] # append the obtained digit since it is a shorter code than prepending would be\n",
        "    n //= b # divide and discard decimals\n",
        "  return result[::-1] # flip the order of the digits\n",
        "\n",
        "decimal = 10240985\n",
        "base = 22\n",
        "other = dec2base(decimal, base)\n",
        "print(decimal, other, decimal == int(other, base))"
      ],
      "metadata": {
        "colab": {
          "base_uri": "https://localhost:8080/"
        },
        "id": "R1DZIdQDEpVy",
        "outputId": "d7e9d83e-6062-4559-8949-bce74e717b67"
      },
      "execution_count": 53,
      "outputs": [
        {
          "output_type": "stream",
          "name": "stdout",
          "text": [
            "10240985 1lfh17 True\n"
          ]
        }
      ]
    },
    {
      "cell_type": "markdown",
      "source": [
        "All **numbers** are stored in the memory of a computer as zeroes and ones (bits), often represented by opposite states of magnetization or any other physical or chemical phenomena that has two states (on and off, so to speak).\n",
        "\n",
        "All **other** information is *encoded* into numbers. Letters (and other characters) become numbers through an encoding such as UTF-8 or ASCII; the former also includes emojis. This is how text is stored.\n",
        "\n",
        "Images are stored as pixels: a matrix (think about a grid of small squares) that has a specified width and a height (resolution). The pixek colors are stored as numbers by associating a numerical value to one or more color channels. Black-and-white pictures only contain one bit per pixel, whereas a gray-scale picture could have a byte (eight bits) per pixel to represent $2^8 = 256$ shared of gray. A common way for storing color images is to use three channels R (for red), G (for green) and B (for blue).\n",
        "\n",
        "Audio commonly undergoes signal processing such as a Fourier transform to create a numerical representation for the sound that can then be stored as bits. A video is typically stored as a sequence of image frames and the corresponding audio track.\n",
        "\n",
        "When you compress a file, repeated patterns within the bit sequence are substituted by more compact representations, reducing the total size of the digital information.\n",
        "\n",
        "It's all numbers. Binary numbers. Embrace it and you might find cool ways to make your code faster. For example, multiplying a number by two is equivalent to adding a zero at the end of its binary representation. No need for any other kind of math. And multiplying by another number can be achieved by multiplying only with powers of two and then summing those together. Following this logic, exponentiation gets simplified as well."
      ],
      "metadata": {
        "id": "rTMP-nGnHLVR"
      }
    }
  ]
}